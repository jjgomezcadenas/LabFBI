{
 "cells": [
  {
   "cell_type": "markdown",
   "metadata": {},
   "source": [
    "# LabFBI"
   ]
  },
  {
   "cell_type": "markdown",
   "metadata": {},
   "source": [
    "Given an irreducible area (e.g, a pixel) with:\n",
    "- $n_s$ chelated molecules\n",
    "- $n_b$ unchelated molecules\n",
    "\n",
    "Iluminated by a laser beam of photon density I, we find that:\n",
    "\n",
    "$\\gamma_s = n_s \\sigma_s^c Q^c = n_s B^c$\n",
    "\n",
    "$\\gamma_b = n_b \\sigma_s^u Q^u = n_b B^u$\n",
    "\n",
    "Where $\\gamma_s$ is the number of photons emitted by the signal and $\\gamma_b$ is the number of photons emitted by the background, $B$ is the total brightness ($B^c$ for chelated molecules, $B^u$ for unchelated molecules).\n",
    "\n",
    "If the optical system has an overall geometrical acceptance of $\\epsilon_g$, and a detection efficiency of $\\epsilon_d$ the number of recorded photons in the corresponding detector (e.g, a pixel in the CCD) is:\n",
    "\n",
    "$N_s =  n_s B^c \\epsilon $\n",
    "\n",
    "$N_b =  n_b B^u \\epsilon $\n",
    "\n",
    "Where $\\epsilon = \\epsilon_g \\epsilon_d$.\n",
    "\n",
    "The observed signal in the selection **color band** (e.g 420-430 nm for G1, 520 - 540 nm for G2) is:\n",
    "\n",
    "$S =  n_s B^c \\epsilon_b^c \\epsilon $\n",
    "$B =  n_b B^u \\epsilon_b^u \\epsilon $\n",
    "\n",
    "where $\\epsilon_b^c$ is the efficiency to be in the band for chelated molecules and \\epsilon_b^u$ is the efficiency to be in the band for unchelated molecules\n"
   ]
  },
  {
   "cell_type": "code",
   "execution_count": null,
   "metadata": {},
   "outputs": [],
   "source": []
  },
  {
   "cell_type": "markdown",
   "metadata": {},
   "source": [
    "## Relevant data"
   ]
  },
  {
   "cell_type": "markdown",
   "metadata": {},
   "source": [
    "### Sample concentrations"
   ]
  },
  {
   "cell_type": "markdown",
   "metadata": {},
   "source": [
    "Solution : FBI/FBI-Ba: 5 x 10^-5 mol/L\n",
    "\n",
    "Powder   : FBI: 2.25 x 10^-5 mmol/mg  --> 50 mg/cm2\n",
    "\n",
    "         : FBI-BA: 7.38 x 10^-8 mm/mg\n",
    "         \n",
    "         : Ba: 5.85 x 10^-5 mm/mg\n",
    "         \n",
    "PELLETS  : FBI-- 7.4 x 10^-8 mm/mg ---> 36.74 mg: D = 10 mm\n",
    "\n",
    "         : Homeopatic: 7.4 x 10^-15 mm/mg ---> 36.74 mg: D = 10 mm\n",
    "         \n",
    "         350 mm \n",
    "         25.4\n",
    "         "
   ]
  },
  {
   "cell_type": "code",
   "execution_count": 45,
   "metadata": {},
   "outputs": [
    {
     "data": {
      "text/plain": [
       "0.5092958178940651"
      ]
     },
     "execution_count": 45,
     "metadata": {},
     "output_type": "execute_result"
    }
   ],
   "source": [
    "40.0/(π * 25)"
   ]
  },
  {
   "cell_type": "code",
   "execution_count": null,
   "metadata": {},
   "outputs": [],
   "source": []
  },
  {
   "cell_type": "code",
   "execution_count": 1,
   "metadata": {},
   "outputs": [
    {
     "name": "stderr",
     "output_type": "stream",
     "text": [
      "Warning: Failed to set locale category LC_NUMERIC to en_ES.\n",
      "Warning: Failed to set locale category LC_TIME to en_ES.\n",
      "Warning: Failed to set locale category LC_COLLATE to en_ES.\n",
      "Warning: Failed to set locale category LC_MONETARY to en_ES.\n",
      "Warning: Failed to set locale category LC_MESSAGES to en_ES.\n"
     ]
    }
   ],
   "source": [
    "begin\n",
    "    using Test\n",
    "    using Plots\n",
    "    using LsqFit\n",
    "    using Interpolations\n",
    "    using Images\n",
    "    using ImageIO\n",
    "    using ImageView\n",
    "    using CSV\n",
    "    using DataFrames\n",
    "end"
   ]
  },
  {
   "cell_type": "code",
   "execution_count": 6,
   "metadata": {},
   "outputs": [
    {
     "name": "stderr",
     "output_type": "stream",
     "text": [
      "\u001b[32m\u001b[1m   Updating\u001b[22m\u001b[39m registry at `~/.julia/registries/General`\n",
      "######################################################################### 100.0%\n",
      "\u001b[32m\u001b[1m   Updating\u001b[22m\u001b[39m registry at `~/.julia/registries/JuliaComputingRegistry`\n",
      "\u001b[32m\u001b[1m  Resolving\u001b[22m\u001b[39m package versions...\n",
      "\u001b[32m\u001b[1m  Installed\u001b[22m\u001b[39m Qt_jll ─────── v5.15.2+3\n",
      "\u001b[32m\u001b[1m  Installed\u001b[22m\u001b[39m UnitfulMoles ─ v0.1.0\n",
      "\u001b[32m\u001b[1mUpdating\u001b[22m\u001b[39m `~/JuliaProjects/LabFBI/Project.toml`\n",
      " \u001b[90m [999f2bd7] \u001b[39m\u001b[92m+ UnitfulMoles v0.1.0\u001b[39m\n",
      "\u001b[32m\u001b[1mUpdating\u001b[22m\u001b[39m `~/JuliaProjects/LabFBI/Manifest.toml`\n",
      " \u001b[90m [ede63266] \u001b[39m\u001b[93m↑ Qt_jll v5.15.2+2 ⇒ v5.15.2+3\u001b[39m\n",
      " \u001b[90m [999f2bd7] \u001b[39m\u001b[92m+ UnitfulMoles v0.1.0\u001b[39m\n"
     ]
    }
   ],
   "source": [
    "import Pkg; Pkg.add(\"UnitfulMoles\")"
   ]
  },
  {
   "cell_type": "code",
   "execution_count": 7,
   "metadata": {},
   "outputs": [
    {
     "name": "stderr",
     "output_type": "stream",
     "text": [
      "┌ Info: Precompiling UnitfulMoles [999f2bd7-36bf-5ba7-9bc1-c9473aa75374]\n",
      "└ @ Base loading.jl:1278\n"
     ]
    }
   ],
   "source": [
    "begin\n",
    "    using Unitful\n",
    "    using UnitfulEquivalences\n",
    "    using UnitfulMoles\n",
    "end"
   ]
  },
  {
   "cell_type": "code",
   "execution_count": 8,
   "metadata": {},
   "outputs": [],
   "source": [
    "using DrWatson"
   ]
  },
  {
   "cell_type": "code",
   "execution_count": 9,
   "metadata": {},
   "outputs": [],
   "source": [
    "@quickactivate \"LabFBI\""
   ]
  },
  {
   "cell_type": "markdown",
   "metadata": {},
   "source": [
    "## Units"
   ]
  },
  {
   "cell_type": "code",
   "execution_count": 36,
   "metadata": {},
   "outputs": [],
   "source": [
    "import Unitful:\n",
    "    nm, μm, mm, cm, m, km, inch, ft, mi,\n",
    "    L,\n",
    "    ac,\n",
    "    mg, g, kg,\n",
    "    Ra, °F, °C, K,\n",
    "    rad, °,\n",
    "    ns, μs, ms, s, minute, hr, d, yr, Hz,\n",
    "    eV,\n",
    "    μJ, mJ, J, \n",
    "    mW, W,\n",
    "    A, N, mol, mmol, V\n"
   ]
  },
  {
   "cell_type": "markdown",
   "metadata": {},
   "source": [
    "- To convert a number to the desired unit multiply by the unit, divide to remove. "
   ]
  },
  {
   "cell_type": "code",
   "execution_count": 11,
   "metadata": {},
   "outputs": [
    {
     "data": {
      "text/plain": [
       "3 mm"
      ]
     },
     "execution_count": 11,
     "metadata": {},
     "output_type": "execute_result"
    }
   ],
   "source": [
    "x = 3*mm"
   ]
  },
  {
   "cell_type": "code",
   "execution_count": 12,
   "metadata": {},
   "outputs": [
    {
     "data": {
      "text/plain": [
       "Quantity{Int64,𝐋,Unitful.FreeUnits{(mm,),𝐋,nothing}}"
      ]
     },
     "execution_count": 12,
     "metadata": {},
     "output_type": "execute_result"
    }
   ],
   "source": [
    "typeof(x)"
   ]
  },
  {
   "cell_type": "code",
   "execution_count": 9,
   "metadata": {},
   "outputs": [
    {
     "data": {
      "text/plain": [
       "Float64"
      ]
     },
     "execution_count": 9,
     "metadata": {},
     "output_type": "execute_result"
    }
   ],
   "source": [
    "typeof(x)"
   ]
  },
  {
   "cell_type": "code",
   "execution_count": 13,
   "metadata": {},
   "outputs": [
    {
     "data": {
      "text/plain": [
       "3"
      ]
     },
     "execution_count": 13,
     "metadata": {},
     "output_type": "execute_result"
    }
   ],
   "source": [
    "x/mm"
   ]
  },
  {
   "cell_type": "code",
   "execution_count": 14,
   "metadata": {},
   "outputs": [
    {
     "data": {
      "text/plain": [
       "Int64"
      ]
     },
     "execution_count": 14,
     "metadata": {},
     "output_type": "execute_result"
    }
   ],
   "source": [
    "typeof(x/mm)"
   ]
  },
  {
   "cell_type": "markdown",
   "metadata": {},
   "source": [
    "- We can convert between equivalent energy systems (e.g, SI to natural units). For example, the wavelength of a phothon of 1 eV and viceversa"
   ]
  },
  {
   "cell_type": "code",
   "execution_count": 15,
   "metadata": {},
   "outputs": [
    {
     "data": {
      "text/plain": [
       "1239.8419843320028 nm"
      ]
     },
     "execution_count": 15,
     "metadata": {},
     "output_type": "execute_result"
    }
   ],
   "source": [
    "uconvert(nm, 1.0eV, Spectral())"
   ]
  },
  {
   "cell_type": "code",
   "execution_count": 16,
   "metadata": {},
   "outputs": [
    {
     "data": {
      "text/plain": [
       "Unitful.FreeUnits{(L,),𝐋³,nothing}"
      ]
     },
     "execution_count": 16,
     "metadata": {},
     "output_type": "execute_result"
    }
   ],
   "source": [
    "typeof(L)"
   ]
  },
  {
   "cell_type": "code",
   "execution_count": 17,
   "metadata": {},
   "outputs": [
    {
     "data": {
      "text/plain": [
       "Unitful.FreeUnits{(m²,),𝐋²,nothing}"
      ]
     },
     "execution_count": 17,
     "metadata": {},
     "output_type": "execute_result"
    }
   ],
   "source": [
    "typeof(m^2)"
   ]
  },
  {
   "cell_type": "code",
   "execution_count": null,
   "metadata": {},
   "outputs": [],
   "source": [
    "module "
   ]
  },
  {
   "cell_type": "markdown",
   "metadata": {},
   "source": [
    "## Setup"
   ]
  },
  {
   "cell_type": "markdown",
   "metadata": {},
   "source": [
    "<img src=\"laserFBI.png\"> "
   ]
  },
  {
   "cell_type": "markdown",
   "metadata": {},
   "source": [
    "## Laser"
   ]
  },
  {
   "cell_type": "code",
   "execution_count": 18,
   "metadata": {},
   "outputs": [],
   "source": [
    "struct Laser\n",
    "    λ::typeof(1.0nm) # declare λ to be in nm\n",
    "    P::typeof(1.0mW) # power\n",
    "end"
   ]
  },
  {
   "cell_type": "code",
   "execution_count": 19,
   "metadata": {},
   "outputs": [
    {
     "data": {
      "text/plain": [
       "Laser(405.0 nm, 1.0 mW)"
      ]
     },
     "execution_count": 19,
     "metadata": {},
     "output_type": "execute_result"
    }
   ],
   "source": [
    "l400p1 = Laser(405.0nm, 1.0mW) "
   ]
  },
  {
   "cell_type": "code",
   "execution_count": 20,
   "metadata": {},
   "outputs": [
    {
     "data": {
      "text/plain": [
       "\u001b[32m\u001b[1mTest Passed\u001b[22m\u001b[39m"
      ]
     },
     "execution_count": 20,
     "metadata": {},
     "output_type": "execute_result"
    }
   ],
   "source": [
    "@test l400p1.λ == 405.0nm"
   ]
  },
  {
   "cell_type": "code",
   "execution_count": 21,
   "metadata": {},
   "outputs": [
    {
     "data": {
      "text/plain": [
       "\u001b[32m\u001b[1mTest Passed\u001b[22m\u001b[39m"
      ]
     },
     "execution_count": 21,
     "metadata": {},
     "output_type": "execute_result"
    }
   ],
   "source": [
    "@test l400p1.P == 1.0mW"
   ]
  },
  {
   "cell_type": "markdown",
   "metadata": {},
   "source": [
    "### Photon energy as a function of laser $\\lambda$"
   ]
  },
  {
   "cell_type": "code",
   "execution_count": 22,
   "metadata": {},
   "outputs": [
    {
     "data": {
      "text/plain": [
       "photon_energy (generic function with 1 method)"
      ]
     },
     "execution_count": 22,
     "metadata": {},
     "output_type": "execute_result"
    }
   ],
   "source": [
    "function photon_energy(λ::Quantity) \n",
    "    uconvert(eV, λ, Spectral()) \n",
    "end"
   ]
  },
  {
   "cell_type": "code",
   "execution_count": 24,
   "metadata": {},
   "outputs": [
    {
     "data": {
      "image/svg+xml": [
       "<?xml version=\"1.0\" encoding=\"utf-8\"?>\n",
       "<svg xmlns=\"http://www.w3.org/2000/svg\" xmlns:xlink=\"http://www.w3.org/1999/xlink\" width=\"600\" height=\"400\" viewBox=\"0 0 2400 1600\">\n",
       "<defs>\n",
       "  <clipPath id=\"clip550\">\n",
       "    <rect x=\"0\" y=\"0\" width=\"2400\" height=\"1600\"/>\n",
       "  </clipPath>\n",
       "</defs>\n",
       "<path clip-path=\"url(#clip550)\" d=\"\n",
       "M0 1600 L2400 1600 L2400 0 L0 0  Z\n",
       "  \" fill=\"#ffffff\" fill-rule=\"evenodd\" fill-opacity=\"1\"/>\n",
       "<defs>\n",
       "  <clipPath id=\"clip551\">\n",
       "    <rect x=\"480\" y=\"0\" width=\"1681\" height=\"1600\"/>\n",
       "  </clipPath>\n",
       "</defs>\n",
       "<path clip-path=\"url(#clip550)\" d=\"\n",
       "M175.445 1423.18 L2352.76 1423.18 L2352.76 123.472 L175.445 123.472  Z\n",
       "  \" fill=\"#ffffff\" fill-rule=\"evenodd\" fill-opacity=\"1\"/>\n",
       "<defs>\n",
       "  <clipPath id=\"clip552\">\n",
       "    <rect x=\"175\" y=\"123\" width=\"2178\" height=\"1301\"/>\n",
       "  </clipPath>\n",
       "</defs>\n",
       "<polyline clip-path=\"url(#clip552)\" style=\"stroke:#000000; stroke-width:2; stroke-opacity:0.1; fill:none\" points=\"\n",
       "  334.88,1423.18 334.88,123.472 \n",
       "  \"/>\n",
       "<polyline clip-path=\"url(#clip552)\" style=\"stroke:#000000; stroke-width:2; stroke-opacity:0.1; fill:none\" points=\"\n",
       "  660.922,1423.18 660.922,123.472 \n",
       "  \"/>\n",
       "<polyline clip-path=\"url(#clip552)\" style=\"stroke:#000000; stroke-width:2; stroke-opacity:0.1; fill:none\" points=\"\n",
       "  986.965,1423.18 986.965,123.472 \n",
       "  \"/>\n",
       "<polyline clip-path=\"url(#clip552)\" style=\"stroke:#000000; stroke-width:2; stroke-opacity:0.1; fill:none\" points=\"\n",
       "  1313.01,1423.18 1313.01,123.472 \n",
       "  \"/>\n",
       "<polyline clip-path=\"url(#clip552)\" style=\"stroke:#000000; stroke-width:2; stroke-opacity:0.1; fill:none\" points=\"\n",
       "  1639.05,1423.18 1639.05,123.472 \n",
       "  \"/>\n",
       "<polyline clip-path=\"url(#clip552)\" style=\"stroke:#000000; stroke-width:2; stroke-opacity:0.1; fill:none\" points=\"\n",
       "  1965.09,1423.18 1965.09,123.472 \n",
       "  \"/>\n",
       "<polyline clip-path=\"url(#clip552)\" style=\"stroke:#000000; stroke-width:2; stroke-opacity:0.1; fill:none\" points=\"\n",
       "  2291.13,1423.18 2291.13,123.472 \n",
       "  \"/>\n",
       "<polyline clip-path=\"url(#clip550)\" style=\"stroke:#000000; stroke-width:4; stroke-opacity:1; fill:none\" points=\"\n",
       "  175.445,1423.18 2352.76,1423.18 \n",
       "  \"/>\n",
       "<polyline clip-path=\"url(#clip550)\" style=\"stroke:#000000; stroke-width:4; stroke-opacity:1; fill:none\" points=\"\n",
       "  334.88,1423.18 334.88,1407.58 \n",
       "  \"/>\n",
       "<polyline clip-path=\"url(#clip550)\" style=\"stroke:#000000; stroke-width:4; stroke-opacity:1; fill:none\" points=\"\n",
       "  660.922,1423.18 660.922,1407.58 \n",
       "  \"/>\n",
       "<polyline clip-path=\"url(#clip550)\" style=\"stroke:#000000; stroke-width:4; stroke-opacity:1; fill:none\" points=\"\n",
       "  986.965,1423.18 986.965,1407.58 \n",
       "  \"/>\n",
       "<polyline clip-path=\"url(#clip550)\" style=\"stroke:#000000; stroke-width:4; stroke-opacity:1; fill:none\" points=\"\n",
       "  1313.01,1423.18 1313.01,1407.58 \n",
       "  \"/>\n",
       "<polyline clip-path=\"url(#clip550)\" style=\"stroke:#000000; stroke-width:4; stroke-opacity:1; fill:none\" points=\"\n",
       "  1639.05,1423.18 1639.05,1407.58 \n",
       "  \"/>\n",
       "<polyline clip-path=\"url(#clip550)\" style=\"stroke:#000000; stroke-width:4; stroke-opacity:1; fill:none\" points=\"\n",
       "  1965.09,1423.18 1965.09,1407.58 \n",
       "  \"/>\n",
       "<polyline clip-path=\"url(#clip550)\" style=\"stroke:#000000; stroke-width:4; stroke-opacity:1; fill:none\" points=\"\n",
       "  2291.13,1423.18 2291.13,1407.58 \n",
       "  \"/>\n",
       "<path clip-path=\"url(#clip550)\" d=\"M 0 0 M302.519 1479.92 L318.838 1479.92 L318.838 1483.85 L296.894 1483.85 L296.894 1479.92 Q299.556 1477.16 304.139 1472.53 Q308.746 1467.88 309.926 1466.54 Q312.172 1464.01 313.051 1462.28 Q313.954 1460.52 313.954 1458.83 Q313.954 1456.07 312.01 1454.34 Q310.088 1452.6 306.987 1452.6 Q304.787 1452.6 302.334 1453.37 Q299.903 1454.13 297.125 1455.68 L297.125 1450.96 Q299.95 1449.82 302.403 1449.25 Q304.857 1448.67 306.894 1448.67 Q312.264 1448.67 315.459 1451.35 Q318.653 1454.04 318.653 1458.53 Q318.653 1460.66 317.843 1462.58 Q317.056 1464.48 314.949 1467.07 Q314.371 1467.74 311.269 1470.96 Q308.167 1474.15 302.519 1479.92 Z\" fill=\"#000000\" fill-rule=\"evenodd\" fill-opacity=\"1\" /><path clip-path=\"url(#clip550)\" d=\"M 0 0 M333.908 1452.37 Q330.297 1452.37 328.468 1455.94 Q326.662 1459.48 326.662 1466.61 Q326.662 1473.71 328.468 1477.28 Q330.297 1480.82 333.908 1480.82 Q337.542 1480.82 339.347 1477.28 Q341.176 1473.71 341.176 1466.61 Q341.176 1459.48 339.347 1455.94 Q337.542 1452.37 333.908 1452.37 M333.908 1448.67 Q339.718 1448.67 342.773 1453.27 Q345.852 1457.86 345.852 1466.61 Q345.852 1475.33 342.773 1479.94 Q339.718 1484.52 333.908 1484.52 Q328.098 1484.52 325.019 1479.94 Q321.963 1475.33 321.963 1466.61 Q321.963 1457.86 325.019 1453.27 Q328.098 1448.67 333.908 1448.67 Z\" fill=\"#000000\" fill-rule=\"evenodd\" fill-opacity=\"1\" /><path clip-path=\"url(#clip550)\" d=\"M 0 0 M360.921 1452.37 Q357.31 1452.37 355.482 1455.94 Q353.676 1459.48 353.676 1466.61 Q353.676 1473.71 355.482 1477.28 Q357.31 1480.82 360.921 1480.82 Q364.556 1480.82 366.361 1477.28 Q368.19 1473.71 368.19 1466.61 Q368.19 1459.48 366.361 1455.94 Q364.556 1452.37 360.921 1452.37 M360.921 1448.67 Q366.732 1448.67 369.787 1453.27 Q372.866 1457.86 372.866 1466.61 Q372.866 1475.33 369.787 1479.94 Q366.732 1484.52 360.921 1484.52 Q355.111 1484.52 352.033 1479.94 Q348.977 1475.33 348.977 1466.61 Q348.977 1457.86 352.033 1453.27 Q355.111 1448.67 360.921 1448.67 Z\" fill=\"#000000\" fill-rule=\"evenodd\" fill-opacity=\"1\" /><path clip-path=\"url(#clip550)\" d=\"M 0 0 M638.156 1465.22 Q641.513 1465.94 643.388 1468.2 Q645.286 1470.47 645.286 1473.81 Q645.286 1478.92 641.767 1481.72 Q638.249 1484.52 631.767 1484.52 Q629.591 1484.52 627.277 1484.08 Q624.985 1483.67 622.531 1482.81 L622.531 1478.3 Q624.476 1479.43 626.79 1480.01 Q629.105 1480.59 631.628 1480.59 Q636.027 1480.59 638.318 1478.85 Q640.633 1477.12 640.633 1473.81 Q640.633 1470.75 638.48 1469.04 Q636.351 1467.3 632.531 1467.3 L628.503 1467.3 L628.503 1463.46 L632.716 1463.46 Q636.165 1463.46 637.994 1462.09 Q639.823 1460.7 639.823 1458.11 Q639.823 1455.45 637.925 1454.04 Q636.05 1452.6 632.531 1452.6 Q630.61 1452.6 628.411 1453.02 Q626.212 1453.44 623.573 1454.31 L623.573 1450.15 Q626.235 1449.41 628.55 1449.04 Q630.888 1448.67 632.948 1448.67 Q638.272 1448.67 641.374 1451.1 Q644.476 1453.5 644.476 1457.63 Q644.476 1460.5 642.832 1462.49 Q641.189 1464.45 638.156 1465.22 Z\" fill=\"#000000\" fill-rule=\"evenodd\" fill-opacity=\"1\" /><path clip-path=\"url(#clip550)\" d=\"M 0 0 M660.355 1452.37 Q656.744 1452.37 654.915 1455.94 Q653.11 1459.48 653.11 1466.61 Q653.11 1473.71 654.915 1477.28 Q656.744 1480.82 660.355 1480.82 Q663.989 1480.82 665.795 1477.28 Q667.624 1473.71 667.624 1466.61 Q667.624 1459.48 665.795 1455.94 Q663.989 1452.37 660.355 1452.37 M660.355 1448.67 Q666.165 1448.67 669.221 1453.27 Q672.299 1457.86 672.299 1466.61 Q672.299 1475.33 669.221 1479.94 Q666.165 1484.52 660.355 1484.52 Q654.545 1484.52 651.466 1479.94 Q648.411 1475.33 648.411 1466.61 Q648.411 1457.86 651.466 1453.27 Q654.545 1448.67 660.355 1448.67 Z\" fill=\"#000000\" fill-rule=\"evenodd\" fill-opacity=\"1\" /><path clip-path=\"url(#clip550)\" d=\"M 0 0 M687.369 1452.37 Q683.758 1452.37 681.929 1455.94 Q680.124 1459.48 680.124 1466.61 Q680.124 1473.71 681.929 1477.28 Q683.758 1480.82 687.369 1480.82 Q691.003 1480.82 692.809 1477.28 Q694.637 1473.71 694.637 1466.61 Q694.637 1459.48 692.809 1455.94 Q691.003 1452.37 687.369 1452.37 M687.369 1448.67 Q693.179 1448.67 696.235 1453.27 Q699.313 1457.86 699.313 1466.61 Q699.313 1475.33 696.235 1479.94 Q693.179 1484.52 687.369 1484.52 Q681.559 1484.52 678.48 1479.94 Q675.424 1475.33 675.424 1466.61 Q675.424 1457.86 678.48 1453.27 Q681.559 1448.67 687.369 1448.67 Z\" fill=\"#000000\" fill-rule=\"evenodd\" fill-opacity=\"1\" /><path clip-path=\"url(#clip550)\" d=\"M 0 0 M962.96 1453.37 L951.155 1471.81 L962.96 1471.81 L962.96 1453.37 M961.733 1449.29 L967.613 1449.29 L967.613 1471.81 L972.543 1471.81 L972.543 1475.7 L967.613 1475.7 L967.613 1483.85 L962.96 1483.85 L962.96 1475.7 L947.358 1475.7 L947.358 1471.19 L961.733 1449.29 Z\" fill=\"#000000\" fill-rule=\"evenodd\" fill-opacity=\"1\" /><path clip-path=\"url(#clip550)\" d=\"M 0 0 M987.613 1452.37 Q984.002 1452.37 982.173 1455.94 Q980.367 1459.48 980.367 1466.61 Q980.367 1473.71 982.173 1477.28 Q984.002 1480.82 987.613 1480.82 Q991.247 1480.82 993.053 1477.28 Q994.881 1473.71 994.881 1466.61 Q994.881 1459.48 993.053 1455.94 Q991.247 1452.37 987.613 1452.37 M987.613 1448.67 Q993.423 1448.67 996.478 1453.27 Q999.557 1457.86 999.557 1466.61 Q999.557 1475.33 996.478 1479.94 Q993.423 1484.52 987.613 1484.52 Q981.803 1484.52 978.724 1479.94 Q975.668 1475.33 975.668 1466.61 Q975.668 1457.86 978.724 1453.27 Q981.803 1448.67 987.613 1448.67 Z\" fill=\"#000000\" fill-rule=\"evenodd\" fill-opacity=\"1\" /><path clip-path=\"url(#clip550)\" d=\"M 0 0 M1014.63 1452.37 Q1011.02 1452.37 1009.19 1455.94 Q1007.38 1459.48 1007.38 1466.61 Q1007.38 1473.71 1009.19 1477.28 Q1011.02 1480.82 1014.63 1480.82 Q1018.26 1480.82 1020.07 1477.28 Q1021.89 1473.71 1021.89 1466.61 Q1021.89 1459.48 1020.07 1455.94 Q1018.26 1452.37 1014.63 1452.37 M1014.63 1448.67 Q1020.44 1448.67 1023.49 1453.27 Q1026.57 1457.86 1026.57 1466.61 Q1026.57 1475.33 1023.49 1479.94 Q1020.44 1484.52 1014.63 1484.52 Q1008.82 1484.52 1005.74 1479.94 Q1002.68 1475.33 1002.68 1466.61 Q1002.68 1457.86 1005.74 1453.27 Q1008.82 1448.67 1014.63 1448.67 Z\" fill=\"#000000\" fill-rule=\"evenodd\" fill-opacity=\"1\" /><path clip-path=\"url(#clip550)\" d=\"M 0 0 M1276.27 1449.29 L1294.63 1449.29 L1294.63 1453.23 L1280.55 1453.23 L1280.55 1461.7 Q1281.57 1461.35 1282.59 1461.19 Q1283.61 1461 1284.63 1461 Q1290.41 1461 1293.79 1464.18 Q1297.17 1467.35 1297.17 1472.76 Q1297.17 1478.34 1293.7 1481.44 Q1290.23 1484.52 1283.91 1484.52 Q1281.73 1484.52 1279.47 1484.15 Q1277.22 1483.78 1274.81 1483.04 L1274.81 1478.34 Q1276.9 1479.48 1279.12 1480.03 Q1281.34 1480.59 1283.82 1480.59 Q1287.82 1480.59 1290.16 1478.48 Q1292.5 1476.38 1292.5 1472.76 Q1292.5 1469.15 1290.16 1467.05 Q1287.82 1464.94 1283.82 1464.94 Q1281.94 1464.94 1280.07 1465.36 Q1278.22 1465.77 1276.27 1466.65 L1276.27 1449.29 Z\" fill=\"#000000\" fill-rule=\"evenodd\" fill-opacity=\"1\" /><path clip-path=\"url(#clip550)\" d=\"M 0 0 M1312.24 1452.37 Q1308.63 1452.37 1306.8 1455.94 Q1305 1459.48 1305 1466.61 Q1305 1473.71 1306.8 1477.28 Q1308.63 1480.82 1312.24 1480.82 Q1315.88 1480.82 1317.68 1477.28 Q1319.51 1473.71 1319.51 1466.61 Q1319.51 1459.48 1317.68 1455.94 Q1315.88 1452.37 1312.24 1452.37 M1312.24 1448.67 Q1318.05 1448.67 1321.11 1453.27 Q1324.19 1457.86 1324.19 1466.61 Q1324.19 1475.33 1321.11 1479.94 Q1318.05 1484.52 1312.24 1484.52 Q1306.43 1484.52 1303.35 1479.94 Q1300.3 1475.33 1300.3 1466.61 Q1300.3 1457.86 1303.35 1453.27 Q1306.43 1448.67 1312.24 1448.67 Z\" fill=\"#000000\" fill-rule=\"evenodd\" fill-opacity=\"1\" /><path clip-path=\"url(#clip550)\" d=\"M 0 0 M1339.26 1452.37 Q1335.65 1452.37 1333.82 1455.94 Q1332.01 1459.48 1332.01 1466.61 Q1332.01 1473.71 1333.82 1477.28 Q1335.65 1480.82 1339.26 1480.82 Q1342.89 1480.82 1344.7 1477.28 Q1346.53 1473.71 1346.53 1466.61 Q1346.53 1459.48 1344.7 1455.94 Q1342.89 1452.37 1339.26 1452.37 M1339.26 1448.67 Q1345.07 1448.67 1348.12 1453.27 Q1351.2 1457.86 1351.2 1466.61 Q1351.2 1475.33 1348.12 1479.94 Q1345.07 1484.52 1339.26 1484.52 Q1333.45 1484.52 1330.37 1479.94 Q1327.31 1475.33 1327.31 1466.61 Q1327.31 1457.86 1330.37 1453.27 Q1333.45 1448.67 1339.26 1448.67 Z\" fill=\"#000000\" fill-rule=\"evenodd\" fill-opacity=\"1\" /><path clip-path=\"url(#clip550)\" d=\"M 0 0 M1612.44 1464.71 Q1609.29 1464.71 1607.44 1466.86 Q1605.61 1469.01 1605.61 1472.76 Q1605.61 1476.49 1607.44 1478.67 Q1609.29 1480.82 1612.44 1480.82 Q1615.59 1480.82 1617.42 1478.67 Q1619.27 1476.49 1619.27 1472.76 Q1619.27 1469.01 1617.42 1466.86 Q1615.59 1464.71 1612.44 1464.71 M1621.72 1450.06 L1621.72 1454.31 Q1619.96 1453.48 1618.16 1453.04 Q1616.38 1452.6 1614.62 1452.6 Q1609.99 1452.6 1607.53 1455.73 Q1605.1 1458.85 1604.76 1465.17 Q1606.12 1463.16 1608.18 1462.09 Q1610.24 1461 1612.72 1461 Q1617.93 1461 1620.94 1464.18 Q1623.97 1467.32 1623.97 1472.76 Q1623.97 1478.09 1620.82 1481.31 Q1617.67 1484.52 1612.44 1484.52 Q1606.45 1484.52 1603.27 1479.94 Q1600.1 1475.33 1600.1 1466.61 Q1600.1 1458.41 1603.99 1453.55 Q1607.88 1448.67 1614.43 1448.67 Q1616.19 1448.67 1617.97 1449.01 Q1619.78 1449.36 1621.72 1450.06 Z\" fill=\"#000000\" fill-rule=\"evenodd\" fill-opacity=\"1\" /><path clip-path=\"url(#clip550)\" d=\"M 0 0 M1639.04 1452.37 Q1635.43 1452.37 1633.6 1455.94 Q1631.79 1459.48 1631.79 1466.61 Q1631.79 1473.71 1633.6 1477.28 Q1635.43 1480.82 1639.04 1480.82 Q1642.67 1480.82 1644.48 1477.28 Q1646.31 1473.71 1646.31 1466.61 Q1646.31 1459.48 1644.48 1455.94 Q1642.67 1452.37 1639.04 1452.37 M1639.04 1448.67 Q1644.85 1448.67 1647.9 1453.27 Q1650.98 1457.86 1650.98 1466.61 Q1650.98 1475.33 1647.9 1479.94 Q1644.85 1484.52 1639.04 1484.52 Q1633.23 1484.52 1630.15 1479.94 Q1627.09 1475.33 1627.09 1466.61 Q1627.09 1457.86 1630.15 1453.27 Q1633.23 1448.67 1639.04 1448.67 Z\" fill=\"#000000\" fill-rule=\"evenodd\" fill-opacity=\"1\" /><path clip-path=\"url(#clip550)\" d=\"M 0 0 M1666.05 1452.37 Q1662.44 1452.37 1660.61 1455.94 Q1658.81 1459.48 1658.81 1466.61 Q1658.81 1473.71 1660.61 1477.28 Q1662.44 1480.82 1666.05 1480.82 Q1669.69 1480.82 1671.49 1477.28 Q1673.32 1473.71 1673.32 1466.61 Q1673.32 1459.48 1671.49 1455.94 Q1669.69 1452.37 1666.05 1452.37 M1666.05 1448.67 Q1671.86 1448.67 1674.92 1453.27 Q1678 1457.86 1678 1466.61 Q1678 1475.33 1674.92 1479.94 Q1671.86 1484.52 1666.05 1484.52 Q1660.24 1484.52 1657.16 1479.94 Q1654.11 1475.33 1654.11 1466.61 Q1654.11 1457.86 1657.16 1453.27 Q1660.24 1448.67 1666.05 1448.67 Z\" fill=\"#000000\" fill-rule=\"evenodd\" fill-opacity=\"1\" /><path clip-path=\"url(#clip550)\" d=\"M 0 0 M1926.97 1449.29 L1949.19 1449.29 L1949.19 1451.28 L1936.64 1483.85 L1931.76 1483.85 L1943.56 1453.23 L1926.97 1453.23 L1926.97 1449.29 Z\" fill=\"#000000\" fill-rule=\"evenodd\" fill-opacity=\"1\" /><path clip-path=\"url(#clip550)\" d=\"M 0 0 M1964.26 1452.37 Q1960.65 1452.37 1958.82 1455.94 Q1957.01 1459.48 1957.01 1466.61 Q1957.01 1473.71 1958.82 1477.28 Q1960.65 1480.82 1964.26 1480.82 Q1967.89 1480.82 1969.7 1477.28 Q1971.53 1473.71 1971.53 1466.61 Q1971.53 1459.48 1969.7 1455.94 Q1967.89 1452.37 1964.26 1452.37 M1964.26 1448.67 Q1970.07 1448.67 1973.12 1453.27 Q1976.2 1457.86 1976.2 1466.61 Q1976.2 1475.33 1973.12 1479.94 Q1970.07 1484.52 1964.26 1484.52 Q1958.45 1484.52 1955.37 1479.94 Q1952.31 1475.33 1952.31 1466.61 Q1952.31 1457.86 1955.37 1453.27 Q1958.45 1448.67 1964.26 1448.67 Z\" fill=\"#000000\" fill-rule=\"evenodd\" fill-opacity=\"1\" /><path clip-path=\"url(#clip550)\" d=\"M 0 0 M1991.27 1452.37 Q1987.66 1452.37 1985.83 1455.94 Q1984.03 1459.48 1984.03 1466.61 Q1984.03 1473.71 1985.83 1477.28 Q1987.66 1480.82 1991.27 1480.82 Q1994.91 1480.82 1996.71 1477.28 Q1998.54 1473.71 1998.54 1466.61 Q1998.54 1459.48 1996.71 1455.94 Q1994.91 1452.37 1991.27 1452.37 M1991.27 1448.67 Q1997.08 1448.67 2000.14 1453.27 Q2003.22 1457.86 2003.22 1466.61 Q2003.22 1475.33 2000.14 1479.94 Q1997.08 1484.52 1991.27 1484.52 Q1985.46 1484.52 1982.38 1479.94 Q1979.33 1475.33 1979.33 1466.61 Q1979.33 1457.86 1982.38 1453.27 Q1985.46 1448.67 1991.27 1448.67 Z\" fill=\"#000000\" fill-rule=\"evenodd\" fill-opacity=\"1\" /><path clip-path=\"url(#clip550)\" d=\"M 0 0 M2264.12 1467.44 Q2260.79 1467.44 2258.87 1469.22 Q2256.97 1471 2256.97 1474.13 Q2256.97 1477.25 2258.87 1479.04 Q2260.79 1480.82 2264.12 1480.82 Q2267.45 1480.82 2269.37 1479.04 Q2271.3 1477.23 2271.3 1474.13 Q2271.3 1471 2269.37 1469.22 Q2267.48 1467.44 2264.12 1467.44 M2259.44 1465.45 Q2256.44 1464.71 2254.75 1462.65 Q2253.08 1460.59 2253.08 1457.63 Q2253.08 1453.48 2256.02 1451.07 Q2258.98 1448.67 2264.12 1448.67 Q2269.28 1448.67 2272.22 1451.07 Q2275.16 1453.48 2275.16 1457.63 Q2275.16 1460.59 2273.47 1462.65 Q2271.81 1464.71 2268.82 1465.45 Q2272.2 1466.24 2274.07 1468.53 Q2275.97 1470.82 2275.97 1474.13 Q2275.97 1479.15 2272.89 1481.84 Q2269.84 1484.52 2264.12 1484.52 Q2258.4 1484.52 2255.32 1481.84 Q2252.27 1479.15 2252.27 1474.13 Q2252.27 1470.82 2254.17 1468.53 Q2256.06 1466.24 2259.44 1465.45 M2257.73 1458.06 Q2257.73 1460.75 2259.4 1462.25 Q2261.09 1463.76 2264.12 1463.76 Q2267.13 1463.76 2268.82 1462.25 Q2270.53 1460.75 2270.53 1458.06 Q2270.53 1455.38 2268.82 1453.88 Q2267.13 1452.37 2264.12 1452.37 Q2261.09 1452.37 2259.4 1453.88 Q2257.73 1455.38 2257.73 1458.06 Z\" fill=\"#000000\" fill-rule=\"evenodd\" fill-opacity=\"1\" /><path clip-path=\"url(#clip550)\" d=\"M 0 0 M2291.04 1452.37 Q2287.43 1452.37 2285.6 1455.94 Q2283.8 1459.48 2283.8 1466.61 Q2283.8 1473.71 2285.6 1477.28 Q2287.43 1480.82 2291.04 1480.82 Q2294.68 1480.82 2296.48 1477.28 Q2298.31 1473.71 2298.31 1466.61 Q2298.31 1459.48 2296.48 1455.94 Q2294.68 1452.37 2291.04 1452.37 M2291.04 1448.67 Q2296.85 1448.67 2299.91 1453.27 Q2302.99 1457.86 2302.99 1466.61 Q2302.99 1475.33 2299.91 1479.94 Q2296.85 1484.52 2291.04 1484.52 Q2285.23 1484.52 2282.15 1479.94 Q2279.1 1475.33 2279.1 1466.61 Q2279.1 1457.86 2282.15 1453.27 Q2285.23 1448.67 2291.04 1448.67 Z\" fill=\"#000000\" fill-rule=\"evenodd\" fill-opacity=\"1\" /><path clip-path=\"url(#clip550)\" d=\"M 0 0 M2318.06 1452.37 Q2314.44 1452.37 2312.62 1455.94 Q2310.81 1459.48 2310.81 1466.61 Q2310.81 1473.71 2312.62 1477.28 Q2314.44 1480.82 2318.06 1480.82 Q2321.69 1480.82 2323.49 1477.28 Q2325.32 1473.71 2325.32 1466.61 Q2325.32 1459.48 2323.49 1455.94 Q2321.69 1452.37 2318.06 1452.37 M2318.06 1448.67 Q2323.87 1448.67 2326.92 1453.27 Q2330 1457.86 2330 1466.61 Q2330 1475.33 2326.92 1479.94 Q2323.87 1484.52 2318.06 1484.52 Q2312.24 1484.52 2309.17 1479.94 Q2306.11 1475.33 2306.11 1466.61 Q2306.11 1457.86 2309.17 1453.27 Q2312.24 1448.67 2318.06 1448.67 Z\" fill=\"#000000\" fill-rule=\"evenodd\" fill-opacity=\"1\" /><path clip-path=\"url(#clip550)\" d=\"M 0 0 M1187.74 1524.09 L1204.2 1568.04 L1197.99 1568.04 L1188 1541.69 L1175.71 1568.04 L1169.51 1568.04 L1185.13 1533.86 L1182.78 1527.56 Q1181.28 1523.55 1177.88 1523.55 L1174.82 1523.55 L1174.82 1518.52 L1178.55 1518.58 Q1185.74 1518.68 1187.74 1524.09 Z\" fill=\"#000000\" fill-rule=\"evenodd\" fill-opacity=\"1\" /><path clip-path=\"url(#clip550)\" d=\"M 0 0 M1245.13 1518.58 Q1240.87 1525.9 1238.8 1533.06 Q1236.73 1540.23 1236.73 1547.58 Q1236.73 1554.93 1238.8 1562.16 Q1240.9 1569.35 1245.13 1576.64 L1240.04 1576.64 Q1235.26 1569.16 1232.88 1561.93 Q1230.52 1554.71 1230.52 1547.58 Q1230.52 1540.48 1232.88 1533.29 Q1235.23 1526.09 1240.04 1518.58 L1245.13 1518.58 Z\" fill=\"#000000\" fill-rule=\"evenodd\" fill-opacity=\"1\" /><path clip-path=\"url(#clip550)\" d=\"M 0 0 M1280.91 1546.53 L1280.91 1568.04 L1275.05 1568.04 L1275.05 1546.72 Q1275.05 1541.66 1273.08 1539.14 Q1271.1 1536.63 1267.16 1536.63 Q1262.41 1536.63 1259.68 1539.65 Q1256.94 1542.68 1256.94 1547.9 L1256.94 1568.04 L1251.05 1568.04 L1251.05 1532.4 L1256.94 1532.4 L1256.94 1537.93 Q1259.04 1534.72 1261.87 1533.13 Q1264.74 1531.54 1268.46 1531.54 Q1274.6 1531.54 1277.75 1535.36 Q1280.91 1539.14 1280.91 1546.53 Z\" fill=\"#000000\" fill-rule=\"evenodd\" fill-opacity=\"1\" /><path clip-path=\"url(#clip550)\" d=\"M 0 0 M1314.8 1539.24 Q1317 1535.29 1320.06 1533.41 Q1323.11 1531.54 1327.25 1531.54 Q1332.82 1531.54 1335.84 1535.45 Q1338.87 1539.33 1338.87 1546.53 L1338.87 1568.04 L1332.98 1568.04 L1332.98 1546.72 Q1332.98 1541.59 1331.16 1539.11 Q1329.35 1536.63 1325.63 1536.63 Q1321.07 1536.63 1318.43 1539.65 Q1315.79 1542.68 1315.79 1547.9 L1315.79 1568.04 L1309.9 1568.04 L1309.9 1546.72 Q1309.9 1541.56 1308.09 1539.11 Q1306.27 1536.63 1302.49 1536.63 Q1298 1536.63 1295.36 1539.68 Q1292.71 1542.71 1292.71 1547.9 L1292.71 1568.04 L1286.83 1568.04 L1286.83 1532.4 L1292.71 1532.4 L1292.71 1537.93 Q1294.72 1534.66 1297.52 1533.1 Q1300.32 1531.54 1304.17 1531.54 Q1308.06 1531.54 1310.76 1533.51 Q1313.5 1535.48 1314.8 1539.24 Z\" fill=\"#000000\" fill-rule=\"evenodd\" fill-opacity=\"1\" /><path clip-path=\"url(#clip550)\" d=\"M 0 0 M1344.09 1518.58 L1349.18 1518.58 Q1353.95 1526.09 1356.31 1533.29 Q1358.69 1540.48 1358.69 1547.58 Q1358.69 1554.71 1356.31 1561.93 Q1353.95 1569.16 1349.18 1576.64 L1344.09 1576.64 Q1348.32 1569.35 1350.39 1562.16 Q1352.49 1554.93 1352.49 1547.58 Q1352.49 1540.23 1350.39 1533.06 Q1348.32 1525.9 1344.09 1518.58 Z\" fill=\"#000000\" fill-rule=\"evenodd\" fill-opacity=\"1\" /><polyline clip-path=\"url(#clip552)\" style=\"stroke:#000000; stroke-width:2; stroke-opacity:0.1; fill:none\" points=\"\n",
       "  175.445,1290.28 2352.76,1290.28 \n",
       "  \"/>\n",
       "<polyline clip-path=\"url(#clip552)\" style=\"stroke:#000000; stroke-width:2; stroke-opacity:0.1; fill:none\" points=\"\n",
       "  175.445,1076.8 2352.76,1076.8 \n",
       "  \"/>\n",
       "<polyline clip-path=\"url(#clip552)\" style=\"stroke:#000000; stroke-width:2; stroke-opacity:0.1; fill:none\" points=\"\n",
       "  175.445,863.31 2352.76,863.31 \n",
       "  \"/>\n",
       "<polyline clip-path=\"url(#clip552)\" style=\"stroke:#000000; stroke-width:2; stroke-opacity:0.1; fill:none\" points=\"\n",
       "  175.445,649.823 2352.76,649.823 \n",
       "  \"/>\n",
       "<polyline clip-path=\"url(#clip552)\" style=\"stroke:#000000; stroke-width:2; stroke-opacity:0.1; fill:none\" points=\"\n",
       "  175.445,436.335 2352.76,436.335 \n",
       "  \"/>\n",
       "<polyline clip-path=\"url(#clip552)\" style=\"stroke:#000000; stroke-width:2; stroke-opacity:0.1; fill:none\" points=\"\n",
       "  175.445,222.848 2352.76,222.848 \n",
       "  \"/>\n",
       "<polyline clip-path=\"url(#clip550)\" style=\"stroke:#000000; stroke-width:4; stroke-opacity:1; fill:none\" points=\"\n",
       "  175.445,1423.18 175.445,123.472 \n",
       "  \"/>\n",
       "<polyline clip-path=\"url(#clip550)\" style=\"stroke:#000000; stroke-width:4; stroke-opacity:1; fill:none\" points=\"\n",
       "  175.445,1290.28 201.573,1290.28 \n",
       "  \"/>\n",
       "<polyline clip-path=\"url(#clip550)\" style=\"stroke:#000000; stroke-width:4; stroke-opacity:1; fill:none\" points=\"\n",
       "  175.445,1076.8 201.573,1076.8 \n",
       "  \"/>\n",
       "<polyline clip-path=\"url(#clip550)\" style=\"stroke:#000000; stroke-width:4; stroke-opacity:1; fill:none\" points=\"\n",
       "  175.445,863.31 201.573,863.31 \n",
       "  \"/>\n",
       "<polyline clip-path=\"url(#clip550)\" style=\"stroke:#000000; stroke-width:4; stroke-opacity:1; fill:none\" points=\"\n",
       "  175.445,649.823 201.573,649.823 \n",
       "  \"/>\n",
       "<polyline clip-path=\"url(#clip550)\" style=\"stroke:#000000; stroke-width:4; stroke-opacity:1; fill:none\" points=\"\n",
       "  175.445,436.335 201.573,436.335 \n",
       "  \"/>\n",
       "<polyline clip-path=\"url(#clip550)\" style=\"stroke:#000000; stroke-width:4; stroke-opacity:1; fill:none\" points=\"\n",
       "  175.445,222.848 201.573,222.848 \n",
       "  \"/>\n",
       "<path clip-path=\"url(#clip550)\" d=\"M 0 0 M123.126 1303.63 L139.445 1303.63 L139.445 1307.56 L117.501 1307.56 L117.501 1303.63 Q120.163 1300.87 124.746 1296.24 Q129.353 1291.59 130.533 1290.25 Q132.779 1287.73 133.658 1285.99 Q134.561 1284.23 134.561 1282.54 Q134.561 1279.79 132.617 1278.05 Q130.695 1276.31 127.593 1276.31 Q125.394 1276.31 122.941 1277.08 Q120.51 1277.84 117.732 1279.39 L117.732 1274.67 Q120.556 1273.54 123.01 1272.96 Q125.464 1272.38 127.501 1272.38 Q132.871 1272.38 136.066 1275.06 Q139.26 1277.75 139.26 1282.24 Q139.26 1284.37 138.45 1286.29 Q137.663 1288.19 135.556 1290.78 Q134.978 1291.45 131.876 1294.67 Q128.774 1297.87 123.126 1303.63 Z\" fill=\"#000000\" fill-rule=\"evenodd\" fill-opacity=\"1\" /><path clip-path=\"url(#clip550)\" d=\"M 0 0 M132.316 1075.44 Q135.672 1076.16 137.547 1078.43 Q139.445 1080.7 139.445 1084.03 Q139.445 1089.15 135.927 1091.95 Q132.408 1094.75 125.927 1094.75 Q123.751 1094.75 121.436 1094.31 Q119.144 1093.89 116.691 1093.04 L116.691 1088.52 Q118.635 1089.66 120.95 1090.23 Q123.265 1090.81 125.788 1090.81 Q130.186 1090.81 132.478 1089.08 Q134.792 1087.34 134.792 1084.03 Q134.792 1080.98 132.64 1079.26 Q130.51 1077.53 126.691 1077.53 L122.663 1077.53 L122.663 1073.68 L126.876 1073.68 Q130.325 1073.68 132.154 1072.32 Q133.982 1070.93 133.982 1068.34 Q133.982 1065.67 132.084 1064.26 Q130.209 1062.83 126.691 1062.83 Q124.769 1062.83 122.57 1063.24 Q120.371 1063.66 117.732 1064.54 L117.732 1060.37 Q120.394 1059.63 122.709 1059.26 Q125.047 1058.89 127.107 1058.89 Q132.431 1058.89 135.533 1061.32 Q138.635 1063.73 138.635 1067.85 Q138.635 1070.72 136.992 1072.71 Q135.348 1074.68 132.316 1075.44 Z\" fill=\"#000000\" fill-rule=\"evenodd\" fill-opacity=\"1\" /><path clip-path=\"url(#clip550)\" d=\"M 0 0 M129.862 850.104 L118.056 868.553 L129.862 868.553 L129.862 850.104 M128.635 846.03 L134.515 846.03 L134.515 868.553 L139.445 868.553 L139.445 872.442 L134.515 872.442 L134.515 880.59 L129.862 880.59 L129.862 872.442 L114.26 872.442 L114.26 867.928 L128.635 846.03 Z\" fill=\"#000000\" fill-rule=\"evenodd\" fill-opacity=\"1\" /><path clip-path=\"url(#clip550)\" d=\"M 0 0 M118.543 632.543 L136.899 632.543 L136.899 636.478 L122.825 636.478 L122.825 644.95 Q123.843 644.603 124.862 644.441 Q125.88 644.256 126.899 644.256 Q132.686 644.256 136.066 647.427 Q139.445 650.598 139.445 656.015 Q139.445 661.593 135.973 664.695 Q132.501 667.774 126.181 667.774 Q124.005 667.774 121.737 667.404 Q119.492 667.033 117.084 666.292 L117.084 661.593 Q119.168 662.728 121.39 663.283 Q123.612 663.839 126.089 663.839 Q130.093 663.839 132.431 661.732 Q134.769 659.626 134.769 656.015 Q134.769 652.404 132.431 650.297 Q130.093 648.191 126.089 648.191 Q124.214 648.191 122.339 648.607 Q120.487 649.024 118.543 649.904 L118.543 632.543 Z\" fill=\"#000000\" fill-rule=\"evenodd\" fill-opacity=\"1\" /><path clip-path=\"url(#clip550)\" d=\"M 0 0 M127.917 434.472 Q124.769 434.472 122.918 436.625 Q121.089 438.778 121.089 442.528 Q121.089 446.254 122.918 448.43 Q124.769 450.583 127.917 450.583 Q131.066 450.583 132.894 448.43 Q134.746 446.254 134.746 442.528 Q134.746 438.778 132.894 436.625 Q131.066 434.472 127.917 434.472 M137.2 419.819 L137.2 424.079 Q135.441 423.245 133.635 422.805 Q131.853 422.366 130.093 422.366 Q125.464 422.366 123.01 425.491 Q120.58 428.616 120.232 434.935 Q121.598 432.921 123.658 431.856 Q125.718 430.768 128.195 430.768 Q133.404 430.768 136.413 433.94 Q139.445 437.088 139.445 442.528 Q139.445 447.852 136.297 451.069 Q133.149 454.287 127.917 454.287 Q121.922 454.287 118.751 449.703 Q115.58 445.097 115.58 436.37 Q115.58 428.176 119.468 423.315 Q123.357 418.43 129.908 418.43 Q131.667 418.43 133.45 418.778 Q135.255 419.125 137.2 419.819 Z\" fill=\"#000000\" fill-rule=\"evenodd\" fill-opacity=\"1\" /><path clip-path=\"url(#clip550)\" d=\"M 0 0 M117.223 205.568 L139.445 205.568 L139.445 207.559 L126.899 240.128 L122.015 240.128 L133.82 209.503 L117.223 209.503 L117.223 205.568 Z\" fill=\"#000000\" fill-rule=\"evenodd\" fill-opacity=\"1\" /><path clip-path=\"url(#clip550)\" d=\"M 0 0 M21.7677 1050.81 L39.6235 1050.81 L39.6235 1042.72 Q39.6235 1038.23 37.3 1035.78 Q34.9765 1033.33 30.6797 1033.33 Q26.4147 1033.33 24.0912 1035.78 Q21.7677 1038.23 21.7677 1042.72 L21.7677 1050.81 M16.4842 1057.24 L16.4842 1042.72 Q16.4842 1034.73 20.1126 1030.66 Q23.7092 1026.55 30.6797 1026.55 Q37.7138 1026.55 41.3104 1030.66 Q44.907 1034.73 44.907 1042.72 L44.907 1050.81 L64.0042 1050.81 L64.0042 1057.24 L16.4842 1057.24 Z\" fill=\"#000000\" fill-rule=\"evenodd\" fill-opacity=\"1\" /><path clip-path=\"url(#clip550)\" d=\"M 0 0 M42.4881 990.779 L64.0042 990.779 L64.0042 996.635 L42.679 996.635 Q37.6183 996.635 35.1038 998.608 Q32.5894 1000.58 32.5894 1004.53 Q32.5894 1009.27 35.6131 1012.01 Q38.6368 1014.75 43.8567 1014.75 L64.0042 1014.75 L64.0042 1020.63 L14.479 1020.63 L14.479 1014.75 L33.8944 1014.75 Q30.6797 1012.64 29.0883 1009.81 Q27.4968 1006.95 27.4968 1003.22 Q27.4968 997.081 31.3163 993.93 Q35.1038 990.779 42.4881 990.779 Z\" fill=\"#000000\" fill-rule=\"evenodd\" fill-opacity=\"1\" /><path clip-path=\"url(#clip550)\" d=\"M 0 0 M32.4621 970.822 Q32.4621 975.533 36.1542 978.27 Q39.8145 981.007 46.212 981.007 Q52.6095 981.007 56.3017 978.302 Q59.9619 975.564 59.9619 970.822 Q59.9619 966.143 56.2698 963.406 Q52.5777 960.669 46.212 960.669 Q39.8781 960.669 36.186 963.406 Q32.4621 966.143 32.4621 970.822 M27.4968 970.822 Q27.4968 963.183 32.4621 958.823 Q37.4273 954.462 46.212 954.462 Q54.9649 954.462 59.9619 958.823 Q64.9272 963.183 64.9272 970.822 Q64.9272 978.493 59.9619 982.853 Q54.9649 987.182 46.212 987.182 Q37.4273 987.182 32.4621 982.853 Q27.4968 978.493 27.4968 970.822 Z\" fill=\"#000000\" fill-rule=\"evenodd\" fill-opacity=\"1\" /><path clip-path=\"url(#clip550)\" d=\"M 0 0 M18.2347 942.526 L28.3562 942.526 L28.3562 930.463 L32.9077 930.463 L32.9077 942.526 L52.2594 942.526 Q56.6199 942.526 57.8613 941.349 Q59.1026 940.139 59.1026 936.479 L59.1026 930.463 L64.0042 930.463 L64.0042 936.479 Q64.0042 943.259 61.4897 945.837 Q58.9434 948.415 52.2594 948.415 L32.9077 948.415 L32.9077 952.712 L28.3562 952.712 L28.3562 948.415 L18.2347 948.415 L18.2347 942.526 Z\" fill=\"#000000\" fill-rule=\"evenodd\" fill-opacity=\"1\" /><path clip-path=\"url(#clip550)\" d=\"M 0 0 M32.4621 910.507 Q32.4621 915.218 36.1542 917.955 Q39.8145 920.692 46.212 920.692 Q52.6095 920.692 56.3017 917.987 Q59.9619 915.249 59.9619 910.507 Q59.9619 905.828 56.2698 903.091 Q52.5777 900.354 46.212 900.354 Q39.8781 900.354 36.186 903.091 Q32.4621 905.828 32.4621 910.507 M27.4968 910.507 Q27.4968 902.868 32.4621 898.508 Q37.4273 894.147 46.212 894.147 Q54.9649 894.147 59.9619 898.508 Q64.9272 902.868 64.9272 910.507 Q64.9272 918.178 59.9619 922.538 Q54.9649 926.867 46.212 926.867 Q37.4273 926.867 32.4621 922.538 Q27.4968 918.178 27.4968 910.507 Z\" fill=\"#000000\" fill-rule=\"evenodd\" fill-opacity=\"1\" /><path clip-path=\"url(#clip550)\" d=\"M 0 0 M42.4881 858.372 L64.0042 858.372 L64.0042 864.228 L42.679 864.228 Q37.6183 864.228 35.1038 866.202 Q32.5894 868.175 32.5894 872.122 Q32.5894 876.864 35.6131 879.601 Q38.6368 882.339 43.8567 882.339 L64.0042 882.339 L64.0042 888.227 L28.3562 888.227 L28.3562 882.339 L33.8944 882.339 Q30.6797 880.238 29.0883 877.405 Q27.4968 874.541 27.4968 870.817 Q27.4968 864.674 31.3163 861.523 Q35.1038 858.372 42.4881 858.372 Z\" fill=\"#000000\" fill-rule=\"evenodd\" fill-opacity=\"1\" /><path clip-path=\"url(#clip550)\" d=\"M 0 0 M44.7161 801.017 L47.5806 801.017 L47.5806 827.944 Q53.6281 827.562 56.8109 824.315 Q59.9619 821.037 59.9619 815.212 Q59.9619 811.839 59.1344 808.687 Q58.3069 805.505 56.6518 802.385 L62.1899 802.385 Q63.5267 805.536 64.227 808.847 Q64.9272 812.157 64.9272 815.562 Q64.9272 824.092 59.9619 829.09 Q54.9967 834.055 46.5303 834.055 Q37.7774 834.055 32.6531 829.344 Q27.4968 824.602 27.4968 816.581 Q27.4968 809.388 32.1438 805.218 Q36.7589 801.017 44.7161 801.017 M42.9973 806.873 Q38.1912 806.937 35.3266 809.579 Q32.4621 812.189 32.4621 816.517 Q32.4621 821.419 35.2312 824.379 Q38.0002 827.307 43.0292 827.753 L42.9973 806.873 Z\" fill=\"#000000\" fill-rule=\"evenodd\" fill-opacity=\"1\" /><path clip-path=\"url(#clip550)\" d=\"M 0 0 M42.4881 765.242 L64.0042 765.242 L64.0042 771.098 L42.679 771.098 Q37.6183 771.098 35.1038 773.071 Q32.5894 775.045 32.5894 778.991 Q32.5894 783.734 35.6131 786.471 Q38.6368 789.208 43.8567 789.208 L64.0042 789.208 L64.0042 795.097 L28.3562 795.097 L28.3562 789.208 L33.8944 789.208 Q30.6797 787.108 29.0883 784.275 Q27.4968 781.41 27.4968 777.686 Q27.4968 771.544 31.3163 768.393 Q35.1038 765.242 42.4881 765.242 Z\" fill=\"#000000\" fill-rule=\"evenodd\" fill-opacity=\"1\" /><path clip-path=\"url(#clip550)\" d=\"M 0 0 M44.7161 728.607 L47.5806 728.607 L47.5806 755.534 Q53.6281 755.152 56.8109 751.905 Q59.9619 748.627 59.9619 742.802 Q59.9619 739.429 59.1344 736.278 Q58.3069 733.095 56.6518 729.976 L62.1899 729.976 Q63.5267 733.127 64.227 736.437 Q64.9272 739.747 64.9272 743.153 Q64.9272 751.683 59.9619 756.68 Q54.9967 761.645 46.5303 761.645 Q37.7774 761.645 32.6531 756.934 Q27.4968 752.192 27.4968 744.171 Q27.4968 736.978 32.1438 732.808 Q36.7589 728.607 44.7161 728.607 M42.9973 734.463 Q38.1912 734.527 35.3266 737.169 Q32.4621 739.779 32.4621 744.107 Q32.4621 749.009 35.2312 751.969 Q38.0002 754.897 43.0292 755.343 L42.9973 734.463 Z\" fill=\"#000000\" fill-rule=\"evenodd\" fill-opacity=\"1\" /><path clip-path=\"url(#clip550)\" d=\"M 0 0 M33.8307 701.807 Q33.2578 702.794 33.0032 703.972 Q32.7167 705.117 32.7167 706.518 Q32.7167 711.483 35.9632 714.157 Q39.1779 716.799 45.2253 716.799 L64.0042 716.799 L64.0042 722.687 L28.3562 722.687 L28.3562 716.799 L33.8944 716.799 Q30.6479 714.952 29.0883 711.992 Q27.4968 709.032 27.4968 704.799 Q27.4968 704.194 27.5923 703.462 Q27.656 702.73 27.8151 701.839 L33.8307 701.807 Z\" fill=\"#000000\" fill-rule=\"evenodd\" fill-opacity=\"1\" /><path clip-path=\"url(#clip550)\" d=\"M 0 0 M45.7664 673.353 Q39.4007 673.353 35.8996 675.994 Q32.3984 678.604 32.3984 683.347 Q32.3984 688.057 35.8996 690.699 Q39.4007 693.309 45.7664 693.309 Q52.1003 693.309 55.6014 690.699 Q59.1026 688.057 59.1026 683.347 Q59.1026 678.604 55.6014 675.994 Q52.1003 673.353 45.7664 673.353 M59.58 667.496 Q68.683 667.496 73.1071 671.538 Q77.5631 675.581 77.5631 683.92 Q77.5631 687.007 77.0857 689.744 Q76.6401 692.482 75.6852 695.06 L69.9879 695.06 Q71.3884 692.482 72.0568 689.967 Q72.7252 687.453 72.7252 684.843 Q72.7252 679.082 69.7015 676.217 Q66.7096 673.353 60.6303 673.353 L57.7339 673.353 Q60.885 675.167 62.4446 678 Q64.0042 680.832 64.0042 684.779 Q64.0042 691.336 59.0071 695.346 Q54.01 699.356 45.7664 699.356 Q37.491 699.356 32.4939 695.346 Q27.4968 691.336 27.4968 684.779 Q27.4968 680.832 29.0564 678 Q30.616 675.167 33.7671 673.353 L28.3562 673.353 L28.3562 667.496 L59.58 667.496 Z\" fill=\"#000000\" fill-rule=\"evenodd\" fill-opacity=\"1\" /><path clip-path=\"url(#clip550)\" d=\"M 0 0 M67.3143 646.521 Q73.68 649.004 75.6216 651.359 Q77.5631 653.714 77.5631 657.661 L77.5631 662.34 L72.6615 662.34 L72.6615 658.902 Q72.6615 656.483 71.5157 655.147 Q70.3699 653.81 66.1048 652.187 L63.4312 651.136 L28.3562 665.555 L28.3562 659.348 L56.238 648.208 L28.3562 637.068 L28.3562 630.861 L67.3143 646.521 Z\" fill=\"#000000\" fill-rule=\"evenodd\" fill-opacity=\"1\" /><path clip-path=\"url(#clip550)\" d=\"M 0 0 M14.5426 589.93 Q21.8632 594.195 29.0246 596.264 Q36.186 598.333 43.5384 598.333 Q50.8908 598.333 58.1159 596.264 Q65.3091 594.163 72.5979 589.93 L72.5979 595.023 Q65.1182 599.797 57.8931 602.184 Q50.668 604.539 43.5384 604.539 Q36.4406 604.539 29.2474 602.184 Q22.0542 599.829 14.5426 595.023 L14.5426 589.93 Z\" fill=\"#000000\" fill-rule=\"evenodd\" fill-opacity=\"1\" /><path clip-path=\"url(#clip550)\" d=\"M 0 0 M44.7161 553.295 L47.5806 553.295 L47.5806 580.222 Q53.6281 579.84 56.8109 576.594 Q59.9619 573.315 59.9619 567.491 Q59.9619 564.117 59.1344 560.966 Q58.3069 557.783 56.6518 554.664 L62.1899 554.664 Q63.5267 557.815 64.227 561.125 Q64.9272 564.435 64.9272 567.841 Q64.9272 576.371 59.9619 581.368 Q54.9967 586.333 46.5303 586.333 Q37.7774 586.333 32.6531 581.623 Q27.4968 576.88 27.4968 568.859 Q27.4968 561.666 32.1438 557.497 Q36.7589 553.295 44.7161 553.295 M42.9973 559.152 Q38.1912 559.215 35.3266 561.857 Q32.4621 564.467 32.4621 568.796 Q32.4621 573.697 35.2312 576.657 Q38.0002 579.586 43.0292 580.031 L42.9973 559.152 Z\" fill=\"#000000\" fill-rule=\"evenodd\" fill-opacity=\"1\" /><path clip-path=\"url(#clip550)\" d=\"M 0 0 M64.0042 534.644 L16.4842 552.786 L16.4842 546.07 L56.4926 531.015 L16.4842 515.929 L16.4842 509.245 L64.0042 527.355 L64.0042 534.644 Z\" fill=\"#000000\" fill-rule=\"evenodd\" fill-opacity=\"1\" /><path clip-path=\"url(#clip550)\" d=\"M 0 0 M14.5426 504.025 L14.5426 498.932 Q22.0542 494.158 29.2474 491.803 Q36.4406 489.415 43.5384 489.415 Q50.668 489.415 57.8931 491.803 Q65.1182 494.158 72.5979 498.932 L72.5979 504.025 Q65.3091 499.792 58.1159 497.723 Q50.8908 495.622 43.5384 495.622 Q36.186 495.622 29.0246 497.723 Q21.8632 499.792 14.5426 504.025 Z\" fill=\"#000000\" fill-rule=\"evenodd\" fill-opacity=\"1\" /><path clip-path=\"url(#clip550)\" d=\"M 0 0 M660.617 18.8205 L660.617 41.5461 L670.906 41.5461 Q676.618 41.5461 679.737 38.5889 Q682.857 35.6318 682.857 30.163 Q682.857 24.7348 679.737 21.7777 Q676.618 18.8205 670.906 18.8205 L660.617 18.8205 M652.434 12.096 L670.906 12.096 Q681.074 12.096 686.259 16.714 Q691.485 21.2916 691.485 30.163 Q691.485 39.1155 686.259 43.6931 Q681.074 48.2706 670.906 48.2706 L660.617 48.2706 L660.617 72.576 L652.434 72.576 L652.434 12.096 Z\" fill=\"#000000\" fill-rule=\"evenodd\" fill-opacity=\"1\" /><path clip-path=\"url(#clip550)\" d=\"M 0 0 M737.017 45.1919 L737.017 72.576 L729.563 72.576 L729.563 45.4349 Q729.563 38.994 727.052 35.7938 Q724.54 32.5936 719.517 32.5936 Q713.481 32.5936 709.998 36.4419 Q706.514 40.2903 706.514 46.9338 L706.514 72.576 L699.02 72.576 L699.02 9.54393 L706.514 9.54393 L706.514 34.2544 Q709.187 30.163 712.793 28.1376 Q716.439 26.1121 721.178 26.1121 Q728.996 26.1121 733.007 30.9732 Q737.017 35.7938 737.017 45.1919 Z\" fill=\"#000000\" fill-rule=\"evenodd\" fill-opacity=\"1\" /><path clip-path=\"url(#clip550)\" d=\"M 0 0 M762.416 32.4315 Q756.421 32.4315 752.937 37.1306 Q749.453 41.7891 749.453 49.9314 Q749.453 58.0738 752.897 62.7728 Q756.38 67.4314 762.416 67.4314 Q768.371 67.4314 771.855 62.7323 Q775.339 58.0333 775.339 49.9314 Q775.339 41.8701 771.855 37.1711 Q768.371 32.4315 762.416 32.4315 M762.416 26.1121 Q772.138 26.1121 777.688 32.4315 Q783.238 38.7509 783.238 49.9314 Q783.238 61.0714 777.688 67.4314 Q772.138 73.7508 762.416 73.7508 Q752.654 73.7508 747.104 67.4314 Q741.595 61.0714 741.595 49.9314 Q741.595 38.7509 747.104 32.4315 Q752.654 26.1121 762.416 26.1121 Z\" fill=\"#000000\" fill-rule=\"evenodd\" fill-opacity=\"1\" /><path clip-path=\"url(#clip550)\" d=\"M 0 0 M798.429 14.324 L798.429 27.2059 L813.782 27.2059 L813.782 32.9987 L798.429 32.9987 L798.429 57.6282 Q798.429 63.1779 799.928 64.7578 Q801.467 66.3376 806.126 66.3376 L813.782 66.3376 L813.782 72.576 L806.126 72.576 Q797.497 72.576 794.216 69.3758 Q790.935 66.1351 790.935 57.6282 L790.935 32.9987 L785.466 32.9987 L785.466 27.2059 L790.935 27.2059 L790.935 14.324 L798.429 14.324 Z\" fill=\"#000000\" fill-rule=\"evenodd\" fill-opacity=\"1\" /><path clip-path=\"url(#clip550)\" d=\"M 0 0 M839.181 32.4315 Q833.186 32.4315 829.702 37.1306 Q826.218 41.7891 826.218 49.9314 Q826.218 58.0738 829.661 62.7728 Q833.145 67.4314 839.181 67.4314 Q845.136 67.4314 848.62 62.7323 Q852.103 58.0333 852.103 49.9314 Q852.103 41.8701 848.62 37.1711 Q845.136 32.4315 839.181 32.4315 M839.181 26.1121 Q848.903 26.1121 854.453 32.4315 Q860.003 38.7509 860.003 49.9314 Q860.003 61.0714 854.453 67.4314 Q848.903 73.7508 839.181 73.7508 Q829.418 73.7508 823.869 67.4314 Q818.359 61.0714 818.359 49.9314 Q818.359 38.7509 823.869 32.4315 Q829.418 26.1121 839.181 26.1121 Z\" fill=\"#000000\" fill-rule=\"evenodd\" fill-opacity=\"1\" /><path clip-path=\"url(#clip550)\" d=\"M 0 0 M905.535 45.1919 L905.535 72.576 L898.081 72.576 L898.081 45.4349 Q898.081 38.994 895.57 35.7938 Q893.058 32.5936 888.035 32.5936 Q881.999 32.5936 878.515 36.4419 Q875.031 40.2903 875.031 46.9338 L875.031 72.576 L867.537 72.576 L867.537 27.2059 L875.031 27.2059 L875.031 34.2544 Q877.705 30.163 881.31 28.1376 Q884.956 26.1121 889.696 26.1121 Q897.514 26.1121 901.524 30.9732 Q905.535 35.7938 905.535 45.1919 Z\" fill=\"#000000\" fill-rule=\"evenodd\" fill-opacity=\"1\" /><path clip-path=\"url(#clip550)\" d=\"M 0 0 M978.532 48.0275 L978.532 51.6733 L944.261 51.6733 Q944.748 59.3701 948.879 63.421 Q953.052 67.4314 960.465 67.4314 Q964.759 67.4314 968.769 66.3781 Q972.82 65.3249 976.79 63.2184 L976.79 70.267 Q972.78 71.9684 968.567 72.8596 Q964.354 73.7508 960.019 73.7508 Q949.163 73.7508 942.803 67.4314 Q936.484 61.1119 936.484 50.3365 Q936.484 39.1965 942.479 32.6746 Q948.515 26.1121 958.723 26.1121 Q967.878 26.1121 973.185 32.0264 Q978.532 37.9003 978.532 48.0275 M971.078 45.84 Q970.997 39.7232 967.635 36.0774 Q964.313 32.4315 958.804 32.4315 Q952.566 32.4315 948.798 35.9558 Q945.072 39.4801 944.504 45.8805 L971.078 45.84 Z\" fill=\"#000000\" fill-rule=\"evenodd\" fill-opacity=\"1\" /><path clip-path=\"url(#clip550)\" d=\"M 0 0 M1024.06 45.1919 L1024.06 72.576 L1016.61 72.576 L1016.61 45.4349 Q1016.61 38.994 1014.1 35.7938 Q1011.59 32.5936 1006.56 32.5936 Q1000.53 32.5936 997.045 36.4419 Q993.561 40.2903 993.561 46.9338 L993.561 72.576 L986.067 72.576 L986.067 27.2059 L993.561 27.2059 L993.561 34.2544 Q996.235 30.163 999.84 28.1376 Q1003.49 26.1121 1008.23 26.1121 Q1016.04 26.1121 1020.05 30.9732 Q1024.06 35.7938 1024.06 45.1919 Z\" fill=\"#000000\" fill-rule=\"evenodd\" fill-opacity=\"1\" /><path clip-path=\"url(#clip550)\" d=\"M 0 0 M1070.69 48.0275 L1070.69 51.6733 L1036.42 51.6733 Q1036.91 59.3701 1041.04 63.421 Q1045.21 67.4314 1052.62 67.4314 Q1056.92 67.4314 1060.93 66.3781 Q1064.98 65.3249 1068.95 63.2184 L1068.95 70.267 Q1064.94 71.9684 1060.72 72.8596 Q1056.51 73.7508 1052.18 73.7508 Q1041.32 73.7508 1034.96 67.4314 Q1028.64 61.1119 1028.64 50.3365 Q1028.64 39.1965 1034.64 32.6746 Q1040.67 26.1121 1050.88 26.1121 Q1060.04 26.1121 1065.34 32.0264 Q1070.69 37.9003 1070.69 48.0275 M1063.24 45.84 Q1063.16 39.7232 1059.79 36.0774 Q1056.47 32.4315 1050.96 32.4315 Q1044.72 32.4315 1040.96 35.9558 Q1037.23 39.4801 1036.66 45.8805 L1063.24 45.84 Z\" fill=\"#000000\" fill-rule=\"evenodd\" fill-opacity=\"1\" /><path clip-path=\"url(#clip550)\" d=\"M 0 0 M1104.8 34.1734 Q1103.54 33.4443 1102.04 33.1202 Q1100.59 32.7556 1098.8 32.7556 Q1092.48 32.7556 1089.08 36.8875 Q1085.72 40.9789 1085.72 48.6757 L1085.72 72.576 L1078.22 72.576 L1078.22 27.2059 L1085.72 27.2059 L1085.72 34.2544 Q1088.07 30.1225 1091.84 28.1376 Q1095.6 26.1121 1100.99 26.1121 Q1101.76 26.1121 1102.69 26.2337 Q1103.62 26.3147 1104.76 26.5172 L1104.8 34.1734 Z\" fill=\"#000000\" fill-rule=\"evenodd\" fill-opacity=\"1\" /><path clip-path=\"url(#clip550)\" d=\"M 0 0 M1141.01 49.3643 Q1141.01 41.2625 1137.65 36.8065 Q1134.33 32.3505 1128.29 32.3505 Q1122.3 32.3505 1118.94 36.8065 Q1115.61 41.2625 1115.61 49.3643 Q1115.61 57.4256 1118.94 61.8816 Q1122.3 66.3376 1128.29 66.3376 Q1134.33 66.3376 1137.65 61.8816 Q1141.01 57.4256 1141.01 49.3643 M1148.47 66.9452 Q1148.47 78.5308 1143.32 84.1616 Q1138.18 89.8329 1127.56 89.8329 Q1123.64 89.8329 1120.15 89.2252 Q1116.67 88.6581 1113.39 87.4428 L1113.39 80.1917 Q1116.67 81.9741 1119.87 82.8248 Q1123.07 83.6755 1126.39 83.6755 Q1133.72 83.6755 1137.37 79.8271 Q1141.01 76.0193 1141.01 68.282 L1141.01 64.5957 Q1138.7 68.6061 1135.1 70.5911 Q1131.49 72.576 1126.47 72.576 Q1118.13 72.576 1113.02 66.2161 Q1107.92 59.8562 1107.92 49.3643 Q1107.92 38.832 1113.02 32.472 Q1118.13 26.1121 1126.47 26.1121 Q1131.49 26.1121 1135.1 28.0971 Q1138.7 30.082 1141.01 34.0924 L1141.01 27.2059 L1148.47 27.2059 L1148.47 66.9452 Z\" fill=\"#000000\" fill-rule=\"evenodd\" fill-opacity=\"1\" /><path clip-path=\"url(#clip550)\" d=\"M 0 0 M1175.16 76.7889 Q1172 84.8907 1169.01 87.3618 Q1166.01 89.8329 1160.98 89.8329 L1155.03 89.8329 L1155.03 83.5945 L1159.4 83.5945 Q1162.48 83.5945 1164.19 82.1361 Q1165.89 80.6778 1167.95 75.2496 L1169.29 71.8468 L1150.94 27.2059 L1158.84 27.2059 L1173.02 62.6918 L1187.19 27.2059 L1195.09 27.2059 L1175.16 76.7889 Z\" fill=\"#000000\" fill-rule=\"evenodd\" fill-opacity=\"1\" /><path clip-path=\"url(#clip550)\" d=\"M 0 0 M1249.9 49.7694 Q1240.87 49.7694 1237.38 51.8354 Q1233.9 53.9013 1233.9 58.8839 Q1233.9 62.8538 1236.49 65.2034 Q1239.13 67.5124 1243.62 67.5124 Q1249.82 67.5124 1253.55 63.1374 Q1257.32 58.7219 1257.32 51.4303 L1257.32 49.7694 L1249.9 49.7694 M1264.77 46.6907 L1264.77 72.576 L1257.32 72.576 L1257.32 65.6895 Q1254.76 69.8214 1250.96 71.8063 Q1247.15 73.7508 1241.64 73.7508 Q1234.67 73.7508 1230.54 69.8619 Q1226.45 65.9325 1226.45 59.3701 Q1226.45 51.7138 1231.55 47.825 Q1236.7 43.9361 1246.86 43.9361 L1257.32 43.9361 L1257.32 43.2069 Q1257.32 38.0623 1253.91 35.2672 Q1250.55 32.4315 1244.43 32.4315 Q1240.54 32.4315 1236.86 33.3632 Q1233.17 34.295 1229.77 36.1584 L1229.77 29.2718 Q1233.86 27.692 1237.71 26.9223 Q1241.56 26.1121 1245.2 26.1121 Q1255.05 26.1121 1259.91 31.2163 Q1264.77 36.3204 1264.77 46.6907 Z\" fill=\"#000000\" fill-rule=\"evenodd\" fill-opacity=\"1\" /><path clip-path=\"url(#clip550)\" d=\"M 0 0 M1301.51 28.5427 L1301.51 35.5912 Q1298.35 33.9709 1294.95 33.1607 Q1291.55 32.3505 1287.9 32.3505 Q1282.35 32.3505 1279.55 34.0519 Q1276.8 35.7533 1276.8 39.156 Q1276.8 41.7486 1278.79 43.2475 Q1280.77 44.7058 1286.77 46.0426 L1289.32 46.6097 Q1297.26 48.3111 1300.58 51.4303 Q1303.94 54.509 1303.94 60.0587 Q1303.94 66.3781 1298.92 70.0644 Q1293.94 73.7508 1285.19 73.7508 Q1281.54 73.7508 1277.57 73.0216 Q1273.64 72.3329 1269.27 70.9151 L1269.27 63.2184 Q1273.4 65.3654 1277.41 66.4591 Q1281.42 67.5124 1285.35 67.5124 Q1290.61 67.5124 1293.45 65.73 Q1296.28 63.9071 1296.28 60.6258 Q1296.28 57.5877 1294.22 55.9673 Q1292.19 54.3469 1285.27 52.8481 L1282.67 52.2405 Q1275.75 50.7821 1272.67 47.7845 Q1269.59 44.7463 1269.59 39.4801 Q1269.59 33.0797 1274.13 29.5959 Q1278.66 26.1121 1287.01 26.1121 Q1291.14 26.1121 1294.79 26.7198 Q1298.43 27.3274 1301.51 28.5427 Z\" fill=\"#000000\" fill-rule=\"evenodd\" fill-opacity=\"1\" /><path clip-path=\"url(#clip550)\" d=\"M 0 0 M1358.75 49.7694 Q1349.72 49.7694 1346.23 51.8354 Q1342.75 53.9013 1342.75 58.8839 Q1342.75 62.8538 1345.34 65.2034 Q1347.97 67.5124 1352.47 67.5124 Q1358.67 67.5124 1362.4 63.1374 Q1366.16 58.7219 1366.16 51.4303 L1366.16 49.7694 L1358.75 49.7694 M1373.62 46.6907 L1373.62 72.576 L1366.16 72.576 L1366.16 65.6895 Q1363.61 69.8214 1359.8 71.8063 Q1356 73.7508 1350.49 73.7508 Q1343.52 73.7508 1339.39 69.8619 Q1335.3 65.9325 1335.3 59.3701 Q1335.3 51.7138 1340.4 47.825 Q1345.54 43.9361 1355.71 43.9361 L1366.16 43.9361 L1366.16 43.2069 Q1366.16 38.0623 1362.76 35.2672 Q1359.4 32.4315 1353.28 32.4315 Q1349.39 32.4315 1345.71 33.3632 Q1342.02 34.295 1338.62 36.1584 L1338.62 29.2718 Q1342.71 27.692 1346.56 26.9223 Q1350.41 26.1121 1354.05 26.1121 Q1363.89 26.1121 1368.76 31.2163 Q1373.62 36.3204 1373.62 46.6907 Z\" fill=\"#000000\" fill-rule=\"evenodd\" fill-opacity=\"1\" /><path clip-path=\"url(#clip550)\" d=\"M 0 0 M1430.78 9.54393 L1430.78 15.7418 L1423.65 15.7418 Q1419.64 15.7418 1418.06 17.3622 Q1416.52 18.9825 1416.52 23.1955 L1416.52 27.2059 L1428.79 27.2059 L1428.79 32.9987 L1416.52 32.9987 L1416.52 72.576 L1409.02 72.576 L1409.02 32.9987 L1401.89 32.9987 L1401.89 27.2059 L1409.02 27.2059 L1409.02 24.0462 Q1409.02 16.471 1412.55 13.0277 Q1416.07 9.54393 1423.73 9.54393 L1430.78 9.54393 Z\" fill=\"#000000\" fill-rule=\"evenodd\" fill-opacity=\"1\" /><path clip-path=\"url(#clip550)\" d=\"M 0 0 M1437.82 54.671 L1437.82 27.2059 L1445.28 27.2059 L1445.28 54.3874 Q1445.28 60.8284 1447.79 64.0691 Q1450.3 67.2693 1455.32 67.2693 Q1461.36 67.2693 1464.84 63.421 Q1468.37 59.5726 1468.37 52.9291 L1468.37 27.2059 L1475.82 27.2059 L1475.82 72.576 L1468.37 72.576 L1468.37 65.6084 Q1465.65 69.7404 1462.05 71.7658 Q1458.48 73.7508 1453.74 73.7508 Q1445.93 73.7508 1441.87 68.8897 Q1437.82 64.0286 1437.82 54.671 M1456.58 26.1121 L1456.58 26.1121 Z\" fill=\"#000000\" fill-rule=\"evenodd\" fill-opacity=\"1\" /><path clip-path=\"url(#clip550)\" d=\"M 0 0 M1521.35 45.1919 L1521.35 72.576 L1513.9 72.576 L1513.9 45.4349 Q1513.9 38.994 1511.39 35.7938 Q1508.88 32.5936 1503.85 32.5936 Q1497.82 32.5936 1494.33 36.4419 Q1490.85 40.2903 1490.85 46.9338 L1490.85 72.576 L1483.36 72.576 L1483.36 27.2059 L1490.85 27.2059 L1490.85 34.2544 Q1493.52 30.163 1497.13 28.1376 Q1500.77 26.1121 1505.51 26.1121 Q1513.33 26.1121 1517.34 30.9732 Q1521.35 35.7938 1521.35 45.1919 Z\" fill=\"#000000\" fill-rule=\"evenodd\" fill-opacity=\"1\" /><path clip-path=\"url(#clip550)\" d=\"M 0 0 M1561.82 28.9478 L1561.82 35.9153 Q1558.66 34.1734 1555.46 33.3227 Q1552.3 32.4315 1549.06 32.4315 Q1541.81 32.4315 1537.8 37.0496 Q1533.79 41.6271 1533.79 49.9314 Q1533.79 58.2358 1537.8 62.8538 Q1541.81 67.4314 1549.06 67.4314 Q1552.3 67.4314 1555.46 66.5807 Q1558.66 65.6895 1561.82 63.9476 L1561.82 70.8341 Q1558.7 72.2924 1555.34 73.0216 Q1552.02 73.7508 1548.25 73.7508 Q1538 73.7508 1531.97 67.3098 Q1525.93 60.8689 1525.93 49.9314 Q1525.93 38.832 1532.01 32.472 Q1538.12 26.1121 1548.74 26.1121 Q1552.18 26.1121 1555.46 26.8413 Q1558.74 27.5299 1561.82 28.9478 Z\" fill=\"#000000\" fill-rule=\"evenodd\" fill-opacity=\"1\" /><path clip-path=\"url(#clip550)\" d=\"M 0 0 M1577.01 14.324 L1577.01 27.2059 L1592.37 27.2059 L1592.37 32.9987 L1577.01 32.9987 L1577.01 57.6282 Q1577.01 63.1779 1578.51 64.7578 Q1580.05 66.3376 1584.71 66.3376 L1592.37 66.3376 L1592.37 72.576 L1584.71 72.576 Q1576.08 72.576 1572.8 69.3758 Q1569.52 66.1351 1569.52 57.6282 L1569.52 32.9987 L1564.05 32.9987 L1564.05 27.2059 L1569.52 27.2059 L1569.52 14.324 L1577.01 14.324 Z\" fill=\"#000000\" fill-rule=\"evenodd\" fill-opacity=\"1\" /><path clip-path=\"url(#clip550)\" d=\"M 0 0 M1600.18 27.2059 L1607.64 27.2059 L1607.64 72.576 L1600.18 72.576 L1600.18 27.2059 M1600.18 9.54393 L1607.64 9.54393 L1607.64 18.9825 L1600.18 18.9825 L1600.18 9.54393 Z\" fill=\"#000000\" fill-rule=\"evenodd\" fill-opacity=\"1\" /><path clip-path=\"url(#clip550)\" d=\"M 0 0 M1633.04 32.4315 Q1627.04 32.4315 1623.56 37.1306 Q1620.07 41.7891 1620.07 49.9314 Q1620.07 58.0738 1623.52 62.7728 Q1627 67.4314 1633.04 67.4314 Q1638.99 67.4314 1642.48 62.7323 Q1645.96 58.0333 1645.96 49.9314 Q1645.96 41.8701 1642.48 37.1711 Q1638.99 32.4315 1633.04 32.4315 M1633.04 26.1121 Q1642.76 26.1121 1648.31 32.4315 Q1653.86 38.7509 1653.86 49.9314 Q1653.86 61.0714 1648.31 67.4314 Q1642.76 73.7508 1633.04 73.7508 Q1623.27 73.7508 1617.72 67.4314 Q1612.22 61.0714 1612.22 49.9314 Q1612.22 38.7509 1617.72 32.4315 Q1623.27 26.1121 1633.04 26.1121 Z\" fill=\"#000000\" fill-rule=\"evenodd\" fill-opacity=\"1\" /><path clip-path=\"url(#clip550)\" d=\"M 0 0 M1699.39 45.1919 L1699.39 72.576 L1691.94 72.576 L1691.94 45.4349 Q1691.94 38.994 1689.43 35.7938 Q1686.91 32.5936 1681.89 32.5936 Q1675.85 32.5936 1672.37 36.4419 Q1668.89 40.2903 1668.89 46.9338 L1668.89 72.576 L1661.39 72.576 L1661.39 27.2059 L1668.89 27.2059 L1668.89 34.2544 Q1671.56 30.163 1675.17 28.1376 Q1678.81 26.1121 1683.55 26.1121 Q1691.37 26.1121 1695.38 30.9732 Q1699.39 35.7938 1699.39 45.1919 Z\" fill=\"#000000\" fill-rule=\"evenodd\" fill-opacity=\"1\" /><path clip-path=\"url(#clip550)\" d=\"M 0 0 M1751.16 32.4315 Q1745.17 32.4315 1741.68 37.1306 Q1738.2 41.7891 1738.2 49.9314 Q1738.2 58.0738 1741.64 62.7728 Q1745.13 67.4314 1751.16 67.4314 Q1757.12 67.4314 1760.6 62.7323 Q1764.08 58.0333 1764.08 49.9314 Q1764.08 41.8701 1760.6 37.1711 Q1757.12 32.4315 1751.16 32.4315 M1751.16 26.1121 Q1760.88 26.1121 1766.43 32.4315 Q1771.98 38.7509 1771.98 49.9314 Q1771.98 61.0714 1766.43 67.4314 Q1760.88 73.7508 1751.16 73.7508 Q1741.4 73.7508 1735.85 67.4314 Q1730.34 61.0714 1730.34 49.9314 Q1730.34 38.7509 1735.85 32.4315 Q1741.4 26.1121 1751.16 26.1121 Z\" fill=\"#000000\" fill-rule=\"evenodd\" fill-opacity=\"1\" /><path clip-path=\"url(#clip550)\" d=\"M 0 0 M1802.77 9.54393 L1802.77 15.7418 L1795.64 15.7418 Q1791.63 15.7418 1790.05 17.3622 Q1788.51 18.9825 1788.51 23.1955 L1788.51 27.2059 L1800.78 27.2059 L1800.78 32.9987 L1788.51 32.9987 L1788.51 72.576 L1781.02 72.576 L1781.02 32.9987 L1773.89 32.9987 L1773.89 27.2059 L1781.02 27.2059 L1781.02 24.0462 Q1781.02 16.471 1784.54 13.0277 Q1788.06 9.54393 1795.72 9.54393 L1802.77 9.54393 Z\" fill=\"#000000\" fill-rule=\"evenodd\" fill-opacity=\"1\" /><path clip-path=\"url(#clip550)\" d=\"M 0 0 M1854.82 16.633 L1875.77 72.576 L1867.87 72.576 L1855.15 39.0345 L1839.51 72.576 L1831.61 72.576 L1851.5 29.0693 L1848.5 21.0485 Q1846.6 15.9444 1842.27 15.9444 L1838.38 15.9444 L1838.38 9.54393 L1843.12 9.62495 Q1852.27 9.74648 1854.82 16.633 Z\" fill=\"#000000\" fill-rule=\"evenodd\" fill-opacity=\"1\" /><polyline clip-path=\"url(#clip552)\" style=\"stroke:#009af9; stroke-width:8; stroke-opacity:1; fill:none\" points=\"\n",
       "  237.067,160.256 240.328,169.362 243.588,178.361 246.848,187.256 250.109,196.049 253.369,204.742 256.63,213.336 259.89,221.833 263.151,230.234 266.411,238.541 \n",
       "  269.671,246.756 272.932,254.881 276.192,262.916 279.453,270.863 282.713,278.724 285.974,286.5 289.234,294.192 292.494,301.802 295.755,309.331 299.015,316.78 \n",
       "  302.276,324.151 305.536,331.445 308.797,338.663 312.057,345.806 315.317,352.875 318.578,359.872 321.838,366.797 325.099,373.653 328.359,380.438 331.619,387.156 \n",
       "  334.88,393.807 338.14,400.391 341.401,406.91 344.661,413.365 347.922,419.757 351.182,426.086 354.442,432.354 357.703,438.561 360.963,444.709 364.224,450.797 \n",
       "  367.484,456.828 370.745,462.802 374.005,468.719 377.265,474.581 380.526,480.388 383.786,486.141 387.047,491.84 390.307,497.487 393.568,503.083 396.828,508.627 \n",
       "  400.088,514.12 403.349,519.565 406.609,524.96 409.87,530.306 413.13,535.605 416.39,540.857 419.651,546.062 422.911,551.222 426.172,556.336 429.432,561.405 \n",
       "  432.693,566.431 435.953,571.413 439.213,576.352 442.474,581.248 445.734,586.103 448.995,590.917 452.255,595.689 455.516,600.422 458.776,605.114 462.036,609.767 \n",
       "  465.297,614.382 468.557,618.958 471.818,623.497 475.078,627.998 478.339,632.462 481.599,636.89 484.859,641.281 488.12,645.638 491.38,649.959 494.641,654.245 \n",
       "  497.901,658.497 501.161,662.715 504.422,666.9 507.682,671.052 510.943,675.17 514.203,679.257 517.464,683.312 520.724,687.335 523.984,691.327 527.245,695.288 \n",
       "  530.505,699.219 533.766,703.119 537.026,706.99 540.287,710.831 543.547,714.644 546.807,718.427 550.068,722.182 553.328,725.909 556.589,729.608 559.849,733.279 \n",
       "  563.11,736.924 566.37,740.541 569.63,744.132 572.891,747.697 576.151,751.235 579.412,754.748 582.672,758.235 585.933,761.698 589.193,765.135 592.453,768.548 \n",
       "  595.714,771.936 598.974,775.3 602.235,778.64 605.495,781.957 608.755,785.25 612.016,788.52 615.276,791.768 618.537,794.992 621.797,798.195 625.058,801.375 \n",
       "  628.318,804.533 631.578,807.67 634.839,810.785 638.099,813.878 641.36,816.951 644.62,820.003 647.881,823.034 651.141,826.045 654.401,829.036 657.662,832.006 \n",
       "  660.922,834.957 664.183,837.889 667.443,840.8 670.704,843.693 673.964,846.567 677.224,849.421 680.485,852.257 683.745,855.075 687.006,857.874 690.266,860.655 \n",
       "  693.526,863.419 696.787,866.164 700.047,868.892 703.308,871.602 706.568,874.296 709.829,876.972 713.089,879.631 716.349,882.273 719.61,884.899 722.87,887.508 \n",
       "  726.131,890.101 729.391,892.678 732.652,895.239 735.912,897.784 739.172,900.313 742.433,902.827 745.693,905.325 748.954,907.808 752.214,910.276 755.475,912.729 \n",
       "  758.735,915.167 761.995,917.59 765.256,919.998 768.516,922.393 771.777,924.772 775.037,927.138 778.297,929.49 781.558,931.827 784.818,934.151 788.079,936.461 \n",
       "  791.339,938.757 794.6,941.04 797.86,943.31 801.12,945.567 804.381,947.81 807.641,950.04 810.902,952.258 814.162,954.462 817.423,956.654 820.683,958.833 \n",
       "  823.943,961 827.204,963.155 830.464,965.297 833.725,967.427 836.985,969.546 840.246,971.652 843.506,973.746 846.766,975.829 850.027,977.9 853.287,979.959 \n",
       "  856.548,982.008 859.808,984.044 863.068,986.07 866.329,988.084 869.589,990.087 872.85,992.079 876.11,994.061 879.371,996.031 882.631,997.991 885.891,999.941 \n",
       "  889.152,1001.88 892.412,1003.81 895.673,1005.73 898.933,1007.63 902.194,1009.53 905.454,1011.42 908.714,1013.29 911.975,1015.16 915.235,1017.02 918.496,1018.87 \n",
       "  921.756,1020.7 925.017,1022.53 928.277,1024.35 931.537,1026.16 934.798,1027.96 938.058,1029.75 941.319,1031.53 944.579,1033.3 947.839,1035.07 951.1,1036.82 \n",
       "  954.36,1038.57 957.621,1040.3 960.881,1042.03 964.142,1043.75 967.402,1045.46 970.662,1047.16 973.923,1048.85 977.183,1050.53 980.444,1052.21 983.704,1053.87 \n",
       "  986.965,1055.53 990.225,1057.18 993.485,1058.82 996.746,1060.46 1000.01,1062.08 1003.27,1063.7 1006.53,1065.31 1009.79,1066.91 1013.05,1068.51 1016.31,1070.09 \n",
       "  1019.57,1071.67 1022.83,1073.24 1026.09,1074.81 1029.35,1076.36 1032.61,1077.91 1035.87,1079.45 1039.13,1080.98 1042.39,1082.51 1045.65,1084.03 1048.91,1085.54 \n",
       "  1052.17,1087.04 1055.43,1088.54 1058.69,1090.03 1061.95,1091.51 1065.21,1092.99 1068.48,1094.46 1071.74,1095.92 1075,1097.37 1078.26,1098.82 1081.52,1100.26 \n",
       "  1084.78,1101.7 1088.04,1103.13 1091.3,1104.55 1094.56,1105.96 1097.82,1107.37 1101.08,1108.77 1104.34,1110.17 1107.6,1111.56 1110.86,1112.94 1114.12,1114.32 \n",
       "  1117.38,1115.69 1120.64,1117.05 1123.9,1118.41 1127.16,1119.76 1130.42,1121.11 1133.68,1122.45 1136.94,1123.78 1140.2,1125.11 1143.46,1126.43 1146.73,1127.75 \n",
       "  1149.99,1129.06 1153.25,1130.36 1156.51,1131.66 1159.77,1132.95 1163.03,1134.24 1166.29,1135.52 1169.55,1136.8 1172.81,1138.07 1176.07,1139.33 1179.33,1140.59 \n",
       "  1182.59,1141.84 1185.85,1143.09 1189.11,1144.34 1192.37,1145.57 1195.63,1146.81 1198.89,1148.03 1202.15,1149.25 1205.41,1150.47 1208.67,1151.68 1211.93,1152.89 \n",
       "  1215.19,1154.09 1218.45,1155.28 1221.72,1156.47 1224.98,1157.66 1228.24,1158.84 1231.5,1160.02 1234.76,1161.19 1238.02,1162.35 1241.28,1163.51 1244.54,1164.67 \n",
       "  1247.8,1165.82 1251.06,1166.97 1254.32,1168.11 1257.58,1169.25 1260.84,1170.38 1264.1,1171.51 1267.36,1172.63 1270.62,1173.75 1273.88,1174.86 1277.14,1175.97 \n",
       "  1280.4,1177.07 1283.66,1178.17 1286.92,1179.27 1290.18,1180.36 1293.44,1181.45 1296.7,1182.53 1299.97,1183.61 1303.23,1184.68 1306.49,1185.75 1309.75,1186.82 \n",
       "  1313.01,1187.88 1316.27,1188.93 1319.53,1189.99 1322.79,1191.04 1326.05,1192.08 1329.31,1193.12 1332.57,1194.16 1335.83,1195.19 1339.09,1196.21 1342.35,1197.24 \n",
       "  1345.61,1198.26 1348.87,1199.27 1352.13,1200.29 1355.39,1201.29 1358.65,1202.3 1361.91,1203.3 1365.17,1204.29 1368.43,1205.28 1371.69,1206.27 1374.95,1207.26 \n",
       "  1378.22,1208.24 1381.48,1209.22 1384.74,1210.19 1388,1211.16 1391.26,1212.12 1394.52,1213.09 1397.78,1214.04 1401.04,1215 1404.3,1215.95 1407.56,1216.9 \n",
       "  1410.82,1217.84 1414.08,1218.78 1417.34,1219.72 1420.6,1220.65 1423.86,1221.58 1427.12,1222.51 1430.38,1223.43 1433.64,1224.35 1436.9,1225.27 1440.16,1226.18 \n",
       "  1443.42,1227.09 1446.68,1228 1449.94,1228.9 1453.21,1229.8 1456.47,1230.7 1459.73,1231.59 1462.99,1232.48 1466.25,1233.36 1469.51,1234.25 1472.77,1235.13 \n",
       "  1476.03,1236 1479.29,1236.88 1482.55,1237.75 1485.81,1238.61 1489.07,1239.48 1492.33,1240.34 1495.59,1241.2 1498.85,1242.05 1502.11,1242.9 1505.37,1243.75 \n",
       "  1508.63,1244.6 1511.89,1245.44 1515.15,1246.28 1518.41,1247.12 1521.67,1247.95 1524.93,1248.78 1528.19,1249.61 1531.46,1250.43 1534.72,1251.25 1537.98,1252.07 \n",
       "  1541.24,1252.89 1544.5,1253.7 1547.76,1254.51 1551.02,1255.32 1554.28,1256.13 1557.54,1256.93 1560.8,1257.73 1564.06,1258.52 1567.32,1259.32 1570.58,1260.11 \n",
       "  1573.84,1260.9 1577.1,1261.68 1580.36,1262.46 1583.62,1263.24 1586.88,1264.02 1590.14,1264.8 1593.4,1265.57 1596.66,1266.34 1599.92,1267.1 1603.18,1267.87 \n",
       "  1606.45,1268.63 1609.71,1269.39 1612.97,1270.15 1616.23,1270.9 1619.49,1271.65 1622.75,1272.4 1626.01,1273.15 1629.27,1273.89 1632.53,1274.63 1635.79,1275.37 \n",
       "  1639.05,1276.11 1642.31,1276.84 1645.57,1277.57 1648.83,1278.3 1652.09,1279.03 1655.35,1279.75 1658.61,1280.48 1661.87,1281.2 1665.13,1281.91 1668.39,1282.63 \n",
       "  1671.65,1283.34 1674.91,1284.05 1678.17,1284.76 1681.43,1285.46 1684.7,1286.17 1687.96,1286.87 1691.22,1287.57 1694.48,1288.26 1697.74,1288.96 1701,1289.65 \n",
       "  1704.26,1290.34 1707.52,1291.03 1710.78,1291.71 1714.04,1292.39 1717.3,1293.08 1720.56,1293.75 1723.82,1294.43 1727.08,1295.1 1730.34,1295.78 1733.6,1296.45 \n",
       "  1736.86,1297.12 1740.12,1297.78 1743.38,1298.44 1746.64,1299.11 1749.9,1299.77 1753.16,1300.42 1756.42,1301.08 1759.68,1301.73 1762.95,1302.38 1766.21,1303.03 \n",
       "  1769.47,1303.68 1772.73,1304.33 1775.99,1304.97 1779.25,1305.61 1782.51,1306.25 1785.77,1306.89 1789.03,1307.52 1792.29,1308.15 1795.55,1308.79 1798.81,1309.42 \n",
       "  1802.07,1310.04 1805.33,1310.67 1808.59,1311.29 1811.85,1311.91 1815.11,1312.53 1818.37,1313.15 1821.63,1313.77 1824.89,1314.38 1828.15,1314.99 1831.41,1315.6 \n",
       "  1834.67,1316.21 1837.94,1316.82 1841.2,1317.42 1844.46,1318.03 1847.72,1318.63 1850.98,1319.23 1854.24,1319.83 1857.5,1320.42 1860.76,1321.02 1864.02,1321.61 \n",
       "  1867.28,1322.2 1870.54,1322.79 1873.8,1323.37 1877.06,1323.96 1880.32,1324.54 1883.58,1325.12 1886.84,1325.7 1890.1,1326.28 1893.36,1326.86 1896.62,1327.43 \n",
       "  1899.88,1328.01 1903.14,1328.58 1906.4,1329.15 1909.66,1329.72 1912.92,1330.28 1916.19,1330.85 1919.45,1331.41 1922.71,1331.97 1925.97,1332.53 1929.23,1333.09 \n",
       "  1932.49,1333.65 1935.75,1334.2 1939.01,1334.76 1942.27,1335.31 1945.53,1335.86 1948.79,1336.41 1952.05,1336.96 1955.31,1337.5 1958.57,1338.05 1961.83,1338.59 \n",
       "  1965.09,1339.13 1968.35,1339.67 1971.61,1340.21 1974.87,1340.74 1978.13,1341.28 1981.39,1341.81 1984.65,1342.34 1987.91,1342.87 1991.17,1343.4 1994.44,1343.93 \n",
       "  1997.7,1344.46 2000.96,1344.98 2004.22,1345.5 2007.48,1346.02 2010.74,1346.54 2014,1347.06 2017.26,1347.58 2020.52,1348.09 2023.78,1348.61 2027.04,1349.12 \n",
       "  2030.3,1349.63 2033.56,1350.14 2036.82,1350.65 2040.08,1351.16 2043.34,1351.66 2046.6,1352.17 2049.86,1352.67 2053.12,1353.17 2056.38,1353.67 2059.64,1354.17 \n",
       "  2062.9,1354.67 2066.16,1355.17 2069.43,1355.66 2072.69,1356.15 2075.95,1356.65 2079.21,1357.14 2082.47,1357.62 2085.73,1358.11 2088.99,1358.6 2092.25,1359.08 \n",
       "  2095.51,1359.57 2098.77,1360.05 2102.03,1360.53 2105.29,1361.01 2108.55,1361.49 2111.81,1361.97 2115.07,1362.45 2118.33,1362.92 2121.59,1363.39 2124.85,1363.87 \n",
       "  2128.11,1364.34 2131.37,1364.81 2134.63,1365.28 2137.89,1365.74 2141.15,1366.21 2144.41,1366.68 2147.68,1367.14 2150.94,1367.6 2154.2,1368.06 2157.46,1368.52 \n",
       "  2160.72,1368.98 2163.98,1369.44 2167.24,1369.9 2170.5,1370.35 2173.76,1370.81 2177.02,1371.26 2180.28,1371.71 2183.54,1372.16 2186.8,1372.61 2190.06,1373.06 \n",
       "  2193.32,1373.5 2196.58,1373.95 2199.84,1374.4 2203.1,1374.84 2206.36,1375.28 2209.62,1375.72 2212.88,1376.16 2216.14,1376.6 2219.4,1377.04 2222.67,1377.48 \n",
       "  2225.93,1377.91 2229.19,1378.35 2232.45,1378.78 2235.71,1379.21 2238.97,1379.64 2242.23,1380.07 2245.49,1380.5 2248.75,1380.93 2252.01,1381.36 2255.27,1381.78 \n",
       "  2258.53,1382.21 2261.79,1382.63 2265.05,1383.05 2268.31,1383.48 2271.57,1383.9 2274.83,1384.31 2278.09,1384.73 2281.35,1385.15 2284.61,1385.57 2287.87,1385.98 \n",
       "  2291.13,1386.4 \n",
       "  \"/>\n",
       "</svg>\n"
      ]
     },
     "execution_count": 24,
     "metadata": {},
     "output_type": "execute_result"
    }
   ],
   "source": [
    "Λ =collect(170:1:800) * nm\n",
    "PE = photon_energy.(Λ)\n",
    "plot(Λ./nm, PE./eV, leg=false,lw=2)\n",
    "xlabel!(\"λ (nm)\")\n",
    "ylabel!(\"Photon energy (eV)\")\n",
    "title!(\"Photon energy as a function of λ\")"
   ]
  },
  {
   "cell_type": "markdown",
   "metadata": {},
   "source": [
    "### Number of photons per unit time as a function of power"
   ]
  },
  {
   "cell_type": "code",
   "execution_count": 25,
   "metadata": {},
   "outputs": [
    {
     "data": {
      "text/plain": [
       "n_photons (generic function with 1 method)"
      ]
     },
     "execution_count": 25,
     "metadata": {},
     "output_type": "execute_result"
    }
   ],
   "source": [
    "n_photons(l::Laser) = uconvert(Hz, l.P / photon_energy(l.λ))"
   ]
  },
  {
   "cell_type": "code",
   "execution_count": 26,
   "metadata": {},
   "outputs": [
    {
     "data": {
      "text/plain": [
       "2.0388172098547972e15 Hz"
      ]
     },
     "execution_count": 26,
     "metadata": {},
     "output_type": "execute_result"
    }
   ],
   "source": [
    "n_photons(l400p1)"
   ]
  },
  {
   "cell_type": "code",
   "execution_count": 27,
   "metadata": {},
   "outputs": [
    {
     "data": {
      "text/plain": [
       "n_photons (generic function with 2 methods)"
      ]
     },
     "execution_count": 27,
     "metadata": {},
     "output_type": "execute_result"
    }
   ],
   "source": [
    "n_photons(λ::Quantity, p::Quantity) = uconvert(Hz, p / photon_energy(λ))"
   ]
  },
  {
   "cell_type": "code",
   "execution_count": 28,
   "metadata": {},
   "outputs": [
    {
     "data": {
      "text/plain": [
       "2.013646627017084e16 Hz"
      ]
     },
     "execution_count": 28,
     "metadata": {},
     "output_type": "execute_result"
    }
   ],
   "source": [
    "n_photons(400nm, 10mW)"
   ]
  },
  {
   "cell_type": "code",
   "execution_count": 29,
   "metadata": {},
   "outputs": [
    {
     "data": {
      "image/svg+xml": [
       "<?xml version=\"1.0\" encoding=\"utf-8\"?>\n",
       "<svg xmlns=\"http://www.w3.org/2000/svg\" xmlns:xlink=\"http://www.w3.org/1999/xlink\" width=\"600\" height=\"400\" viewBox=\"0 0 2400 1600\">\n",
       "<defs>\n",
       "  <clipPath id=\"clip590\">\n",
       "    <rect x=\"0\" y=\"0\" width=\"2400\" height=\"1600\"/>\n",
       "  </clipPath>\n",
       "</defs>\n",
       "<path clip-path=\"url(#clip590)\" d=\"\n",
       "M0 1600 L2400 1600 L2400 0 L0 0  Z\n",
       "  \" fill=\"#ffffff\" fill-rule=\"evenodd\" fill-opacity=\"1\"/>\n",
       "<defs>\n",
       "  <clipPath id=\"clip591\">\n",
       "    <rect x=\"480\" y=\"0\" width=\"1681\" height=\"1600\"/>\n",
       "  </clipPath>\n",
       "</defs>\n",
       "<path clip-path=\"url(#clip590)\" d=\"\n",
       "M333.807 1423.18 L2352.76 1423.18 L2352.76 123.472 L333.807 123.472  Z\n",
       "  \" fill=\"#ffffff\" fill-rule=\"evenodd\" fill-opacity=\"1\"/>\n",
       "<defs>\n",
       "  <clipPath id=\"clip592\">\n",
       "    <rect x=\"333\" y=\"123\" width=\"2020\" height=\"1301\"/>\n",
       "  </clipPath>\n",
       "</defs>\n",
       "<polyline clip-path=\"url(#clip592)\" style=\"stroke:#000000; stroke-width:2; stroke-opacity:0.1; fill:none\" points=\"\n",
       "  389.04,1423.18 389.04,123.472 \n",
       "  \"/>\n",
       "<polyline clip-path=\"url(#clip592)\" style=\"stroke:#000000; stroke-width:2; stroke-opacity:0.1; fill:none\" points=\"\n",
       "  865.684,1423.18 865.684,123.472 \n",
       "  \"/>\n",
       "<polyline clip-path=\"url(#clip592)\" style=\"stroke:#000000; stroke-width:2; stroke-opacity:0.1; fill:none\" points=\"\n",
       "  1342.33,1423.18 1342.33,123.472 \n",
       "  \"/>\n",
       "<polyline clip-path=\"url(#clip592)\" style=\"stroke:#000000; stroke-width:2; stroke-opacity:0.1; fill:none\" points=\"\n",
       "  1818.97,1423.18 1818.97,123.472 \n",
       "  \"/>\n",
       "<polyline clip-path=\"url(#clip592)\" style=\"stroke:#000000; stroke-width:2; stroke-opacity:0.1; fill:none\" points=\"\n",
       "  2295.62,1423.18 2295.62,123.472 \n",
       "  \"/>\n",
       "<polyline clip-path=\"url(#clip590)\" style=\"stroke:#000000; stroke-width:4; stroke-opacity:1; fill:none\" points=\"\n",
       "  333.807,1423.18 2352.76,1423.18 \n",
       "  \"/>\n",
       "<polyline clip-path=\"url(#clip590)\" style=\"stroke:#000000; stroke-width:4; stroke-opacity:1; fill:none\" points=\"\n",
       "  389.04,1423.18 389.04,1407.58 \n",
       "  \"/>\n",
       "<polyline clip-path=\"url(#clip590)\" style=\"stroke:#000000; stroke-width:4; stroke-opacity:1; fill:none\" points=\"\n",
       "  865.684,1423.18 865.684,1407.58 \n",
       "  \"/>\n",
       "<polyline clip-path=\"url(#clip590)\" style=\"stroke:#000000; stroke-width:4; stroke-opacity:1; fill:none\" points=\"\n",
       "  1342.33,1423.18 1342.33,1407.58 \n",
       "  \"/>\n",
       "<polyline clip-path=\"url(#clip590)\" style=\"stroke:#000000; stroke-width:4; stroke-opacity:1; fill:none\" points=\"\n",
       "  1818.97,1423.18 1818.97,1407.58 \n",
       "  \"/>\n",
       "<polyline clip-path=\"url(#clip590)\" style=\"stroke:#000000; stroke-width:4; stroke-opacity:1; fill:none\" points=\"\n",
       "  2295.62,1423.18 2295.62,1407.58 \n",
       "  \"/>\n",
       "<path clip-path=\"url(#clip590)\" d=\"M 0 0 M389.04 1452.37 Q385.429 1452.37 383.6 1455.94 Q381.795 1459.48 381.795 1466.61 Q381.795 1473.71 383.6 1477.28 Q385.429 1480.82 389.04 1480.82 Q392.674 1480.82 394.48 1477.28 Q396.309 1473.71 396.309 1466.61 Q396.309 1459.48 394.48 1455.94 Q392.674 1452.37 389.04 1452.37 M389.04 1448.67 Q394.85 1448.67 397.906 1453.27 Q400.985 1457.86 400.985 1466.61 Q400.985 1475.33 397.906 1479.94 Q394.85 1484.52 389.04 1484.52 Q383.23 1484.52 380.151 1479.94 Q377.096 1475.33 377.096 1466.61 Q377.096 1457.86 380.151 1453.27 Q383.23 1448.67 389.04 1448.67 Z\" fill=\"#000000\" fill-rule=\"evenodd\" fill-opacity=\"1\" /><path clip-path=\"url(#clip590)\" d=\"M 0 0 M833.821 1479.92 L850.14 1479.92 L850.14 1483.85 L828.196 1483.85 L828.196 1479.92 Q830.858 1477.16 835.441 1472.53 Q840.048 1467.88 841.228 1466.54 Q843.474 1464.01 844.353 1462.28 Q845.256 1460.52 845.256 1458.83 Q845.256 1456.07 843.311 1454.34 Q841.39 1452.6 838.288 1452.6 Q836.089 1452.6 833.636 1453.37 Q831.205 1454.13 828.427 1455.68 L828.427 1450.96 Q831.251 1449.82 833.705 1449.25 Q836.159 1448.67 838.196 1448.67 Q843.566 1448.67 846.761 1451.35 Q849.955 1454.04 849.955 1458.53 Q849.955 1460.66 849.145 1462.58 Q848.358 1464.48 846.251 1467.07 Q845.673 1467.74 842.571 1470.96 Q839.469 1474.15 833.821 1479.92 Z\" fill=\"#000000\" fill-rule=\"evenodd\" fill-opacity=\"1\" /><path clip-path=\"url(#clip590)\" d=\"M 0 0 M855.256 1449.29 L873.612 1449.29 L873.612 1453.23 L859.538 1453.23 L859.538 1461.7 Q860.557 1461.35 861.575 1461.19 Q862.594 1461 863.612 1461 Q869.399 1461 872.779 1464.18 Q876.159 1467.35 876.159 1472.76 Q876.159 1478.34 872.686 1481.44 Q869.214 1484.52 862.895 1484.52 Q860.719 1484.52 858.45 1484.15 Q856.205 1483.78 853.798 1483.04 L853.798 1478.34 Q855.881 1479.48 858.103 1480.03 Q860.325 1480.59 862.802 1480.59 Q866.807 1480.59 869.145 1478.48 Q871.483 1476.38 871.483 1472.76 Q871.483 1469.15 869.145 1467.05 Q866.807 1464.94 862.802 1464.94 Q860.927 1464.94 859.052 1465.36 Q857.2 1465.77 855.256 1466.65 L855.256 1449.29 Z\" fill=\"#000000\" fill-rule=\"evenodd\" fill-opacity=\"1\" /><path clip-path=\"url(#clip590)\" d=\"M 0 0 M891.228 1452.37 Q887.617 1452.37 885.788 1455.94 Q883.983 1459.48 883.983 1466.61 Q883.983 1473.71 885.788 1477.28 Q887.617 1480.82 891.228 1480.82 Q894.862 1480.82 896.668 1477.28 Q898.496 1473.71 898.496 1466.61 Q898.496 1459.48 896.668 1455.94 Q894.862 1452.37 891.228 1452.37 M891.228 1448.67 Q897.038 1448.67 900.094 1453.27 Q903.172 1457.86 903.172 1466.61 Q903.172 1475.33 900.094 1479.94 Q897.038 1484.52 891.228 1484.52 Q885.418 1484.52 882.339 1479.94 Q879.284 1475.33 879.284 1466.61 Q879.284 1457.86 882.339 1453.27 Q885.418 1448.67 891.228 1448.67 Z\" fill=\"#000000\" fill-rule=\"evenodd\" fill-opacity=\"1\" /><path clip-path=\"url(#clip590)\" d=\"M 0 0 M1305.59 1449.29 L1323.95 1449.29 L1323.95 1453.23 L1309.87 1453.23 L1309.87 1461.7 Q1310.89 1461.35 1311.91 1461.19 Q1312.93 1461 1313.95 1461 Q1319.74 1461 1323.12 1464.18 Q1326.49 1467.35 1326.49 1472.76 Q1326.49 1478.34 1323.02 1481.44 Q1319.55 1484.52 1313.23 1484.52 Q1311.05 1484.52 1308.79 1484.15 Q1306.54 1483.78 1304.13 1483.04 L1304.13 1478.34 Q1306.22 1479.48 1308.44 1480.03 Q1310.66 1480.59 1313.14 1480.59 Q1317.14 1480.59 1319.48 1478.48 Q1321.82 1476.38 1321.82 1472.76 Q1321.82 1469.15 1319.48 1467.05 Q1317.14 1464.94 1313.14 1464.94 Q1311.26 1464.94 1309.39 1465.36 Q1307.54 1465.77 1305.59 1466.65 L1305.59 1449.29 Z\" fill=\"#000000\" fill-rule=\"evenodd\" fill-opacity=\"1\" /><path clip-path=\"url(#clip590)\" d=\"M 0 0 M1341.56 1452.37 Q1337.95 1452.37 1336.12 1455.94 Q1334.32 1459.48 1334.32 1466.61 Q1334.32 1473.71 1336.12 1477.28 Q1337.95 1480.82 1341.56 1480.82 Q1345.2 1480.82 1347 1477.28 Q1348.83 1473.71 1348.83 1466.61 Q1348.83 1459.48 1347 1455.94 Q1345.2 1452.37 1341.56 1452.37 M1341.56 1448.67 Q1347.37 1448.67 1350.43 1453.27 Q1353.51 1457.86 1353.51 1466.61 Q1353.51 1475.33 1350.43 1479.94 Q1347.37 1484.52 1341.56 1484.52 Q1335.75 1484.52 1332.68 1479.94 Q1329.62 1475.33 1329.62 1466.61 Q1329.62 1457.86 1332.68 1453.27 Q1335.75 1448.67 1341.56 1448.67 Z\" fill=\"#000000\" fill-rule=\"evenodd\" fill-opacity=\"1\" /><path clip-path=\"url(#clip590)\" d=\"M 0 0 M1368.58 1452.37 Q1364.97 1452.37 1363.14 1455.94 Q1361.33 1459.48 1361.33 1466.61 Q1361.33 1473.71 1363.14 1477.28 Q1364.97 1480.82 1368.58 1480.82 Q1372.21 1480.82 1374.02 1477.28 Q1375.85 1473.71 1375.85 1466.61 Q1375.85 1459.48 1374.02 1455.94 Q1372.21 1452.37 1368.58 1452.37 M1368.58 1448.67 Q1374.39 1448.67 1377.44 1453.27 Q1380.52 1457.86 1380.52 1466.61 Q1380.52 1475.33 1377.44 1479.94 Q1374.39 1484.52 1368.58 1484.52 Q1362.77 1484.52 1359.69 1479.94 Q1356.63 1475.33 1356.63 1466.61 Q1356.63 1457.86 1359.69 1453.27 Q1362.77 1448.67 1368.58 1448.67 Z\" fill=\"#000000\" fill-rule=\"evenodd\" fill-opacity=\"1\" /><path clip-path=\"url(#clip590)\" d=\"M 0 0 M1781.34 1449.29 L1803.57 1449.29 L1803.57 1451.28 L1791.02 1483.85 L1786.14 1483.85 L1797.94 1453.23 L1781.34 1453.23 L1781.34 1449.29 Z\" fill=\"#000000\" fill-rule=\"evenodd\" fill-opacity=\"1\" /><path clip-path=\"url(#clip590)\" d=\"M 0 0 M1808.68 1449.29 L1827.04 1449.29 L1827.04 1453.23 L1812.96 1453.23 L1812.96 1461.7 Q1813.98 1461.35 1815 1461.19 Q1816.02 1461 1817.04 1461 Q1822.83 1461 1826.21 1464.18 Q1829.59 1467.35 1829.59 1472.76 Q1829.59 1478.34 1826.11 1481.44 Q1822.64 1484.52 1816.32 1484.52 Q1814.15 1484.52 1811.88 1484.15 Q1809.63 1483.78 1807.22 1483.04 L1807.22 1478.34 Q1809.31 1479.48 1811.53 1480.03 Q1813.75 1480.59 1816.23 1480.59 Q1820.23 1480.59 1822.57 1478.48 Q1824.91 1476.38 1824.91 1472.76 Q1824.91 1469.15 1822.57 1467.05 Q1820.23 1464.94 1816.23 1464.94 Q1814.35 1464.94 1812.48 1465.36 Q1810.63 1465.77 1808.68 1466.65 L1808.68 1449.29 Z\" fill=\"#000000\" fill-rule=\"evenodd\" fill-opacity=\"1\" /><path clip-path=\"url(#clip590)\" d=\"M 0 0 M1844.65 1452.37 Q1841.04 1452.37 1839.21 1455.94 Q1837.41 1459.48 1837.41 1466.61 Q1837.41 1473.71 1839.21 1477.28 Q1841.04 1480.82 1844.65 1480.82 Q1848.29 1480.82 1850.09 1477.28 Q1851.92 1473.71 1851.92 1466.61 Q1851.92 1459.48 1850.09 1455.94 Q1848.29 1452.37 1844.65 1452.37 M1844.65 1448.67 Q1850.46 1448.67 1853.52 1453.27 Q1856.6 1457.86 1856.6 1466.61 Q1856.6 1475.33 1853.52 1479.94 Q1850.46 1484.52 1844.65 1484.52 Q1838.84 1484.52 1835.77 1479.94 Q1832.71 1475.33 1832.71 1466.61 Q1832.71 1457.86 1835.77 1453.27 Q1838.84 1448.67 1844.65 1448.67 Z\" fill=\"#000000\" fill-rule=\"evenodd\" fill-opacity=\"1\" /><path clip-path=\"url(#clip590)\" d=\"M 0 0 M2245.48 1479.92 L2253.12 1479.92 L2253.12 1453.55 L2244.81 1455.22 L2244.81 1450.96 L2253.07 1449.29 L2257.75 1449.29 L2257.75 1479.92 L2265.38 1479.92 L2265.38 1483.85 L2245.48 1483.85 L2245.48 1479.92 Z\" fill=\"#000000\" fill-rule=\"evenodd\" fill-opacity=\"1\" /><path clip-path=\"url(#clip590)\" d=\"M 0 0 M2280.45 1452.37 Q2276.84 1452.37 2275.01 1455.94 Q2273.21 1459.48 2273.21 1466.61 Q2273.21 1473.71 2275.01 1477.28 Q2276.84 1480.82 2280.45 1480.82 Q2284.09 1480.82 2285.89 1477.28 Q2287.72 1473.71 2287.72 1466.61 Q2287.72 1459.48 2285.89 1455.94 Q2284.09 1452.37 2280.45 1452.37 M2280.45 1448.67 Q2286.26 1448.67 2289.32 1453.27 Q2292.4 1457.86 2292.4 1466.61 Q2292.4 1475.33 2289.32 1479.94 Q2286.26 1484.52 2280.45 1484.52 Q2274.64 1484.52 2271.57 1479.94 Q2268.51 1475.33 2268.51 1466.61 Q2268.51 1457.86 2271.57 1453.27 Q2274.64 1448.67 2280.45 1448.67 Z\" fill=\"#000000\" fill-rule=\"evenodd\" fill-opacity=\"1\" /><path clip-path=\"url(#clip590)\" d=\"M 0 0 M2307.47 1452.37 Q2303.86 1452.37 2302.03 1455.94 Q2300.22 1459.48 2300.22 1466.61 Q2300.22 1473.71 2302.03 1477.28 Q2303.86 1480.82 2307.47 1480.82 Q2311.1 1480.82 2312.91 1477.28 Q2314.74 1473.71 2314.74 1466.61 Q2314.74 1459.48 2312.91 1455.94 Q2311.1 1452.37 2307.47 1452.37 M2307.47 1448.67 Q2313.28 1448.67 2316.33 1453.27 Q2319.41 1457.86 2319.41 1466.61 Q2319.41 1475.33 2316.33 1479.94 Q2313.28 1484.52 2307.47 1484.52 Q2301.66 1484.52 2298.58 1479.94 Q2295.52 1475.33 2295.52 1466.61 Q2295.52 1457.86 2298.58 1453.27 Q2301.66 1448.67 2307.47 1448.67 Z\" fill=\"#000000\" fill-rule=\"evenodd\" fill-opacity=\"1\" /><path clip-path=\"url(#clip590)\" d=\"M 0 0 M2334.48 1452.37 Q2330.87 1452.37 2329.04 1455.94 Q2327.24 1459.48 2327.24 1466.61 Q2327.24 1473.71 2329.04 1477.28 Q2330.87 1480.82 2334.48 1480.82 Q2338.12 1480.82 2339.92 1477.28 Q2341.75 1473.71 2341.75 1466.61 Q2341.75 1459.48 2339.92 1455.94 Q2338.12 1452.37 2334.48 1452.37 M2334.48 1448.67 Q2340.29 1448.67 2343.35 1453.27 Q2346.43 1457.86 2346.43 1466.61 Q2346.43 1475.33 2343.35 1479.94 Q2340.29 1484.52 2334.48 1484.52 Q2328.67 1484.52 2325.59 1479.94 Q2322.54 1475.33 2322.54 1466.61 Q2322.54 1457.86 2325.59 1453.27 Q2328.67 1448.67 2334.48 1448.67 Z\" fill=\"#000000\" fill-rule=\"evenodd\" fill-opacity=\"1\" /><path clip-path=\"url(#clip590)\" d=\"M 0 0 M1243.85 1525.81 L1243.85 1543.66 L1251.93 1543.66 Q1256.42 1543.66 1258.87 1541.34 Q1261.32 1539.02 1261.32 1534.72 Q1261.32 1530.45 1258.87 1528.13 Q1256.42 1525.81 1251.93 1525.81 L1243.85 1525.81 M1237.42 1520.52 L1251.93 1520.52 Q1259.92 1520.52 1264 1524.15 Q1268.1 1527.75 1268.1 1534.72 Q1268.1 1541.75 1264 1545.35 Q1259.92 1548.95 1251.93 1548.95 L1243.85 1548.95 L1243.85 1568.04 L1237.42 1568.04 L1237.42 1520.52 Z\" fill=\"#000000\" fill-rule=\"evenodd\" fill-opacity=\"1\" /><path clip-path=\"url(#clip590)\" d=\"M 0 0 M1309.03 1518.58 Q1304.77 1525.9 1302.7 1533.06 Q1300.63 1540.23 1300.63 1547.58 Q1300.63 1554.93 1302.7 1562.16 Q1304.8 1569.35 1309.03 1576.64 L1303.94 1576.64 Q1299.17 1569.16 1296.78 1561.93 Q1294.42 1554.71 1294.42 1547.58 Q1294.42 1540.48 1296.78 1533.29 Q1299.14 1526.09 1303.94 1518.58 L1309.03 1518.58 Z\" fill=\"#000000\" fill-rule=\"evenodd\" fill-opacity=\"1\" /><path clip-path=\"url(#clip590)\" d=\"M 0 0 M1342.93 1539.24 Q1345.13 1535.29 1348.18 1533.41 Q1351.24 1531.54 1355.38 1531.54 Q1360.95 1531.54 1363.97 1535.45 Q1366.99 1539.33 1366.99 1546.53 L1366.99 1568.04 L1361.11 1568.04 L1361.11 1546.72 Q1361.11 1541.59 1359.29 1539.11 Q1357.48 1536.63 1353.75 1536.63 Q1349.2 1536.63 1346.56 1539.65 Q1343.92 1542.68 1343.92 1547.9 L1343.92 1568.04 L1338.03 1568.04 L1338.03 1546.72 Q1338.03 1541.56 1336.22 1539.11 Q1334.4 1536.63 1330.61 1536.63 Q1326.13 1536.63 1323.48 1539.68 Q1320.84 1542.71 1320.84 1547.9 L1320.84 1568.04 L1314.95 1568.04 L1314.95 1532.4 L1320.84 1532.4 L1320.84 1537.93 Q1322.85 1534.66 1325.65 1533.1 Q1328.45 1531.54 1332.3 1531.54 Q1336.18 1531.54 1338.89 1533.51 Q1341.63 1535.48 1342.93 1539.24 Z\" fill=\"#000000\" fill-rule=\"evenodd\" fill-opacity=\"1\" /><path clip-path=\"url(#clip590)\" d=\"M 0 0 M1369.16 1520.52 L1375.65 1520.52 L1385.65 1560.69 L1395.61 1520.52 L1402.83 1520.52 L1412.83 1560.69 L1422.79 1520.52 L1429.31 1520.52 L1417.38 1568.04 L1409.29 1568.04 L1399.27 1526.79 L1389.15 1568.04 L1381.06 1568.04 L1369.16 1520.52 Z\" fill=\"#000000\" fill-rule=\"evenodd\" fill-opacity=\"1\" /><path clip-path=\"url(#clip590)\" d=\"M 0 0 M1434.53 1518.58 L1439.63 1518.58 Q1444.4 1526.09 1446.76 1533.29 Q1449.14 1540.48 1449.14 1547.58 Q1449.14 1554.71 1446.76 1561.93 Q1444.4 1569.16 1439.63 1576.64 L1434.53 1576.64 Q1438.77 1569.35 1440.84 1562.16 Q1442.94 1554.93 1442.94 1547.58 Q1442.94 1540.23 1440.84 1533.06 Q1438.77 1525.9 1434.53 1518.58 Z\" fill=\"#000000\" fill-rule=\"evenodd\" fill-opacity=\"1\" /><polyline clip-path=\"url(#clip592)\" style=\"stroke:#000000; stroke-width:2; stroke-opacity:0.1; fill:none\" points=\"\n",
       "  333.807,1387.62 2352.76,1387.62 \n",
       "  \"/>\n",
       "<polyline clip-path=\"url(#clip592)\" style=\"stroke:#000000; stroke-width:2; stroke-opacity:0.1; fill:none\" points=\"\n",
       "  333.807,1086.62 2352.76,1086.62 \n",
       "  \"/>\n",
       "<polyline clip-path=\"url(#clip592)\" style=\"stroke:#000000; stroke-width:2; stroke-opacity:0.1; fill:none\" points=\"\n",
       "  333.807,785.624 2352.76,785.624 \n",
       "  \"/>\n",
       "<polyline clip-path=\"url(#clip592)\" style=\"stroke:#000000; stroke-width:2; stroke-opacity:0.1; fill:none\" points=\"\n",
       "  333.807,484.624 2352.76,484.624 \n",
       "  \"/>\n",
       "<polyline clip-path=\"url(#clip592)\" style=\"stroke:#000000; stroke-width:2; stroke-opacity:0.1; fill:none\" points=\"\n",
       "  333.807,183.624 2352.76,183.624 \n",
       "  \"/>\n",
       "<polyline clip-path=\"url(#clip590)\" style=\"stroke:#000000; stroke-width:4; stroke-opacity:1; fill:none\" points=\"\n",
       "  333.807,1423.18 333.807,123.472 \n",
       "  \"/>\n",
       "<polyline clip-path=\"url(#clip590)\" style=\"stroke:#000000; stroke-width:4; stroke-opacity:1; fill:none\" points=\"\n",
       "  333.807,1387.62 358.034,1387.62 \n",
       "  \"/>\n",
       "<polyline clip-path=\"url(#clip590)\" style=\"stroke:#000000; stroke-width:4; stroke-opacity:1; fill:none\" points=\"\n",
       "  333.807,1086.62 358.034,1086.62 \n",
       "  \"/>\n",
       "<polyline clip-path=\"url(#clip590)\" style=\"stroke:#000000; stroke-width:4; stroke-opacity:1; fill:none\" points=\"\n",
       "  333.807,785.624 358.034,785.624 \n",
       "  \"/>\n",
       "<polyline clip-path=\"url(#clip590)\" style=\"stroke:#000000; stroke-width:4; stroke-opacity:1; fill:none\" points=\"\n",
       "  333.807,484.624 358.034,484.624 \n",
       "  \"/>\n",
       "<polyline clip-path=\"url(#clip590)\" style=\"stroke:#000000; stroke-width:4; stroke-opacity:1; fill:none\" points=\"\n",
       "  333.807,183.624 358.034,183.624 \n",
       "  \"/>\n",
       "<path clip-path=\"url(#clip590)\" d=\"M 0 0 M285.862 1373.42 Q282.251 1373.42 280.422 1376.99 Q278.617 1380.53 278.617 1387.66 Q278.617 1394.76 280.422 1398.33 Q282.251 1401.87 285.862 1401.87 Q289.496 1401.87 291.302 1398.33 Q293.131 1394.76 293.131 1387.66 Q293.131 1380.53 291.302 1376.99 Q289.496 1373.42 285.862 1373.42 M285.862 1369.72 Q291.672 1369.72 294.728 1374.32 Q297.807 1378.91 297.807 1387.66 Q297.807 1396.38 294.728 1400.99 Q291.672 1405.57 285.862 1405.57 Q280.052 1405.57 276.973 1400.99 Q273.918 1396.38 273.918 1387.66 Q273.918 1378.91 276.973 1374.32 Q280.052 1369.72 285.862 1369.72 Z\" fill=\"#000000\" fill-rule=\"evenodd\" fill-opacity=\"1\" /><path clip-path=\"url(#clip590)\" d=\"M 0 0 M115.96 1075.79 L134.316 1075.79 L134.316 1079.73 L120.242 1079.73 L120.242 1088.2 Q121.261 1087.85 122.28 1087.69 Q123.298 1087.5 124.317 1087.5 Q130.104 1087.5 133.483 1090.68 Q136.863 1093.85 136.863 1099.26 Q136.863 1104.84 133.391 1107.94 Q129.918 1111.02 123.599 1111.02 Q121.423 1111.02 119.155 1110.65 Q116.909 1110.28 114.502 1109.54 L114.502 1104.84 Q116.585 1105.98 118.807 1106.53 Q121.03 1107.09 123.506 1107.09 Q127.511 1107.09 129.849 1104.98 Q132.187 1102.87 132.187 1099.26 Q132.187 1095.65 129.849 1093.55 Q127.511 1091.44 123.506 1091.44 Q121.631 1091.44 119.756 1091.86 Q117.905 1092.27 115.96 1093.15 L115.96 1075.79 Z\" fill=\"#000000\" fill-rule=\"evenodd\" fill-opacity=\"1\" /><path clip-path=\"url(#clip590)\" d=\"M 0 0 M141.932 1104.47 L146.816 1104.47 L146.816 1110.35 L141.932 1110.35 L141.932 1104.47 Z\" fill=\"#000000\" fill-rule=\"evenodd\" fill-opacity=\"1\" /><path clip-path=\"url(#clip590)\" d=\"M 0 0 M161.886 1078.87 Q158.275 1078.87 156.446 1082.43 Q154.64 1085.98 154.64 1093.11 Q154.64 1100.21 156.446 1103.78 Q158.275 1107.32 161.886 1107.32 Q165.52 1107.32 167.326 1103.78 Q169.154 1100.21 169.154 1093.11 Q169.154 1085.98 167.326 1082.43 Q165.52 1078.87 161.886 1078.87 M161.886 1075.17 Q167.696 1075.17 170.751 1079.77 Q173.83 1084.36 173.83 1093.11 Q173.83 1101.83 170.751 1106.44 Q167.696 1111.02 161.886 1111.02 Q156.076 1111.02 152.997 1106.44 Q149.941 1101.83 149.941 1093.11 Q149.941 1084.36 152.997 1079.77 Q156.076 1075.17 161.886 1075.17 Z\" fill=\"#000000\" fill-rule=\"evenodd\" fill-opacity=\"1\" /><path clip-path=\"url(#clip590)\" d=\"M 0 0 M207.071 1084.89 L196.492 1095.51 L207.071 1106.09 L204.316 1108.89 L193.691 1098.27 L183.066 1108.89 L180.335 1106.09 L190.89 1095.51 L180.335 1084.89 L183.066 1082.09 L193.691 1092.71 L204.316 1082.09 L207.071 1084.89 Z\" fill=\"#000000\" fill-rule=\"evenodd\" fill-opacity=\"1\" /><path clip-path=\"url(#clip590)\" d=\"M 0 0 M212.95 1106.42 L220.589 1106.42 L220.589 1080.05 L212.279 1081.72 L212.279 1077.46 L220.543 1075.79 L225.219 1075.79 L225.219 1106.42 L232.858 1106.42 L232.858 1110.35 L212.95 1110.35 L212.95 1106.42 Z\" fill=\"#000000\" fill-rule=\"evenodd\" fill-opacity=\"1\" /><path clip-path=\"url(#clip590)\" d=\"M 0 0 M247.927 1078.87 Q244.316 1078.87 242.487 1082.43 Q240.682 1085.98 240.682 1093.11 Q240.682 1100.21 242.487 1103.78 Q244.316 1107.32 247.927 1107.32 Q251.561 1107.32 253.367 1103.78 Q255.195 1100.21 255.195 1093.11 Q255.195 1085.98 253.367 1082.43 Q251.561 1078.87 247.927 1078.87 M247.927 1075.17 Q253.737 1075.17 256.793 1079.77 Q259.871 1084.36 259.871 1093.11 Q259.871 1101.83 256.793 1106.44 Q253.737 1111.02 247.927 1111.02 Q242.117 1111.02 239.038 1106.44 Q235.983 1101.83 235.983 1093.11 Q235.983 1084.36 239.038 1079.77 Q242.117 1075.17 247.927 1075.17 Z\" fill=\"#000000\" fill-rule=\"evenodd\" fill-opacity=\"1\" /><path clip-path=\"url(#clip590)\" d=\"M 0 0 M260.417 1079.74 L266.623 1079.74 L266.623 1058.32 L259.871 1059.68 L259.871 1056.21 L266.586 1054.86 L270.385 1054.86 L270.385 1079.74 L276.591 1079.74 L276.591 1082.94 L260.417 1082.94 L260.417 1079.74 Z\" fill=\"#000000\" fill-rule=\"evenodd\" fill-opacity=\"1\" /><path clip-path=\"url(#clip590)\" d=\"M 0 0 M279.751 1054.86 L297.807 1054.86 L297.807 1056.48 L287.613 1082.94 L283.644 1082.94 L293.236 1058.06 L279.751 1058.06 L279.751 1054.86 Z\" fill=\"#000000\" fill-rule=\"evenodd\" fill-opacity=\"1\" /><path clip-path=\"url(#clip590)\" d=\"M 0 0 M116.297 805.416 L123.936 805.416 L123.936 779.05 L115.626 780.717 L115.626 776.458 L123.89 774.791 L128.566 774.791 L128.566 805.416 L136.204 805.416 L136.204 809.351 L116.297 809.351 L116.297 805.416 Z\" fill=\"#000000\" fill-rule=\"evenodd\" fill-opacity=\"1\" /><path clip-path=\"url(#clip590)\" d=\"M 0 0 M141.274 803.472 L146.158 803.472 L146.158 809.351 L141.274 809.351 L141.274 803.472 Z\" fill=\"#000000\" fill-rule=\"evenodd\" fill-opacity=\"1\" /><path clip-path=\"url(#clip590)\" d=\"M 0 0 M161.227 777.87 Q157.616 777.87 155.788 781.435 Q153.982 784.976 153.982 792.106 Q153.982 799.212 155.788 802.777 Q157.616 806.319 161.227 806.319 Q164.862 806.319 166.667 802.777 Q168.496 799.212 168.496 792.106 Q168.496 784.976 166.667 781.435 Q164.862 777.87 161.227 777.87 M161.227 774.166 Q167.038 774.166 170.093 778.773 Q173.172 783.356 173.172 792.106 Q173.172 800.833 170.093 805.439 Q167.038 810.023 161.227 810.023 Q155.417 810.023 152.339 805.439 Q149.283 800.833 149.283 792.106 Q149.283 783.356 152.339 778.773 Q155.417 774.166 161.227 774.166 Z\" fill=\"#000000\" fill-rule=\"evenodd\" fill-opacity=\"1\" /><path clip-path=\"url(#clip590)\" d=\"M 0 0 M206.412 783.888 L195.834 794.513 L206.412 805.092 L203.658 807.893 L193.033 797.268 L182.408 807.893 L179.676 805.092 L190.232 794.513 L179.676 783.888 L182.408 781.087 L193.033 791.712 L203.658 781.087 L206.412 783.888 Z\" fill=\"#000000\" fill-rule=\"evenodd\" fill-opacity=\"1\" /><path clip-path=\"url(#clip590)\" d=\"M 0 0 M212.292 805.416 L219.931 805.416 L219.931 779.05 L211.621 780.717 L211.621 776.458 L219.885 774.791 L224.56 774.791 L224.56 805.416 L232.199 805.416 L232.199 809.351 L212.292 809.351 L212.292 805.416 Z\" fill=\"#000000\" fill-rule=\"evenodd\" fill-opacity=\"1\" /><path clip-path=\"url(#clip590)\" d=\"M 0 0 M247.269 777.87 Q243.658 777.87 241.829 781.435 Q240.023 784.976 240.023 792.106 Q240.023 799.212 241.829 802.777 Q243.658 806.319 247.269 806.319 Q250.903 806.319 252.708 802.777 Q254.537 799.212 254.537 792.106 Q254.537 784.976 252.708 781.435 Q250.903 777.87 247.269 777.87 M247.269 774.166 Q253.079 774.166 256.134 778.773 Q259.213 783.356 259.213 792.106 Q259.213 800.833 256.134 805.439 Q253.079 810.023 247.269 810.023 Q241.459 810.023 238.38 805.439 Q235.324 800.833 235.324 792.106 Q235.324 783.356 238.38 778.773 Q241.459 774.166 247.269 774.166 Z\" fill=\"#000000\" fill-rule=\"evenodd\" fill-opacity=\"1\" /><path clip-path=\"url(#clip590)\" d=\"M 0 0 M259.759 778.744 L265.965 778.744 L265.965 757.321 L259.213 758.676 L259.213 755.215 L265.927 753.861 L269.727 753.861 L269.727 778.744 L275.933 778.744 L275.933 781.941 L259.759 781.941 L259.759 778.744 Z\" fill=\"#000000\" fill-rule=\"evenodd\" fill-opacity=\"1\" /><path clip-path=\"url(#clip590)\" d=\"M 0 0 M288.177 768.606 Q285.469 768.606 283.908 770.054 Q282.365 771.503 282.365 774.042 Q282.365 776.581 283.908 778.029 Q285.469 779.477 288.177 779.477 Q290.885 779.477 292.446 778.029 Q294.007 776.562 294.007 774.042 Q294.007 771.503 292.446 770.054 Q290.904 768.606 288.177 768.606 M284.378 766.989 Q281.933 766.387 280.56 764.713 Q279.206 763.039 279.206 760.632 Q279.206 757.265 281.594 755.309 Q284.002 753.353 288.177 753.353 Q292.371 753.353 294.76 755.309 Q297.148 757.265 297.148 760.632 Q297.148 763.039 295.775 764.713 Q294.421 766.387 291.995 766.989 Q294.741 767.628 296.264 769.49 Q297.807 771.352 297.807 774.042 Q297.807 778.123 295.305 780.305 Q292.823 782.486 288.177 782.486 Q283.532 782.486 281.03 780.305 Q278.547 778.123 278.547 774.042 Q278.547 771.352 280.09 769.49 Q281.632 767.628 284.378 766.989 M282.986 760.989 Q282.986 763.171 284.34 764.393 Q285.713 765.616 288.177 765.616 Q290.622 765.616 291.995 764.393 Q293.387 763.171 293.387 760.989 Q293.387 758.807 291.995 757.585 Q290.622 756.362 288.177 756.362 Q285.713 756.362 284.34 757.585 Q282.986 758.807 282.986 760.989 Z\" fill=\"#000000\" fill-rule=\"evenodd\" fill-opacity=\"1\" /><path clip-path=\"url(#clip590)\" d=\"M 0 0 M117.293 504.416 L124.931 504.416 L124.931 478.051 L116.621 479.717 L116.621 475.458 L124.885 473.792 L129.561 473.792 L129.561 504.416 L137.2 504.416 L137.2 508.352 L117.293 508.352 L117.293 504.416 Z\" fill=\"#000000\" fill-rule=\"evenodd\" fill-opacity=\"1\" /><path clip-path=\"url(#clip590)\" d=\"M 0 0 M142.269 502.472 L147.153 502.472 L147.153 508.352 L142.269 508.352 L142.269 502.472 Z\" fill=\"#000000\" fill-rule=\"evenodd\" fill-opacity=\"1\" /><path clip-path=\"url(#clip590)\" d=\"M 0 0 M152.269 473.792 L170.626 473.792 L170.626 477.727 L156.552 477.727 L156.552 486.199 Q157.57 485.852 158.589 485.69 Q159.607 485.504 160.626 485.504 Q166.413 485.504 169.792 488.676 Q173.172 491.847 173.172 497.264 Q173.172 502.842 169.7 505.944 Q166.227 509.023 159.908 509.023 Q157.732 509.023 155.464 508.652 Q153.218 508.282 150.811 507.541 L150.811 502.842 Q152.894 503.977 155.116 504.532 Q157.339 505.088 159.815 505.088 Q163.82 505.088 166.158 502.981 Q168.496 500.875 168.496 497.264 Q168.496 493.653 166.158 491.546 Q163.82 489.44 159.815 489.44 Q157.94 489.44 156.065 489.856 Q154.214 490.273 152.269 491.153 L152.269 473.792 Z\" fill=\"#000000\" fill-rule=\"evenodd\" fill-opacity=\"1\" /><path clip-path=\"url(#clip590)\" d=\"M 0 0 M206.412 482.889 L195.834 493.514 L206.412 504.092 L203.658 506.893 L193.033 496.268 L182.408 506.893 L179.676 504.092 L190.232 493.514 L179.676 482.889 L182.408 480.088 L193.033 490.713 L203.658 480.088 L206.412 482.889 Z\" fill=\"#000000\" fill-rule=\"evenodd\" fill-opacity=\"1\" /><path clip-path=\"url(#clip590)\" d=\"M 0 0 M212.292 504.416 L219.931 504.416 L219.931 478.051 L211.621 479.717 L211.621 475.458 L219.885 473.792 L224.56 473.792 L224.56 504.416 L232.199 504.416 L232.199 508.352 L212.292 508.352 L212.292 504.416 Z\" fill=\"#000000\" fill-rule=\"evenodd\" fill-opacity=\"1\" /><path clip-path=\"url(#clip590)\" d=\"M 0 0 M247.269 476.87 Q243.658 476.87 241.829 480.435 Q240.023 483.977 240.023 491.106 Q240.023 498.213 241.829 501.778 Q243.658 505.319 247.269 505.319 Q250.903 505.319 252.708 501.778 Q254.537 498.213 254.537 491.106 Q254.537 483.977 252.708 480.435 Q250.903 476.87 247.269 476.87 M247.269 473.167 Q253.079 473.167 256.134 477.773 Q259.213 482.356 259.213 491.106 Q259.213 499.833 256.134 504.44 Q253.079 509.023 247.269 509.023 Q241.459 509.023 238.38 504.44 Q235.324 499.833 235.324 491.106 Q235.324 482.356 238.38 477.773 Q241.459 473.167 247.269 473.167 Z\" fill=\"#000000\" fill-rule=\"evenodd\" fill-opacity=\"1\" /><path clip-path=\"url(#clip590)\" d=\"M 0 0 M259.759 477.744 L265.965 477.744 L265.965 456.322 L259.213 457.676 L259.213 454.215 L265.927 452.861 L269.727 452.861 L269.727 477.744 L275.933 477.744 L275.933 480.941 L259.759 480.941 L259.759 477.744 Z\" fill=\"#000000\" fill-rule=\"evenodd\" fill-opacity=\"1\" /><path clip-path=\"url(#clip590)\" d=\"M 0 0 M288.177 467.606 Q285.469 467.606 283.908 469.055 Q282.365 470.503 282.365 473.042 Q282.365 475.581 283.908 477.029 Q285.469 478.477 288.177 478.477 Q290.885 478.477 292.446 477.029 Q294.007 475.562 294.007 473.042 Q294.007 470.503 292.446 469.055 Q290.904 467.606 288.177 467.606 M284.378 465.989 Q281.933 465.387 280.56 463.713 Q279.206 462.039 279.206 459.632 Q279.206 456.265 281.594 454.309 Q284.002 452.353 288.177 452.353 Q292.371 452.353 294.76 454.309 Q297.148 456.265 297.148 459.632 Q297.148 462.039 295.775 463.713 Q294.421 465.387 291.995 465.989 Q294.741 466.628 296.264 468.49 Q297.807 470.352 297.807 473.042 Q297.807 477.123 295.305 479.305 Q292.823 481.487 288.177 481.487 Q283.532 481.487 281.03 479.305 Q278.547 477.123 278.547 473.042 Q278.547 470.352 280.09 468.49 Q281.632 466.628 284.378 465.989 M282.986 459.989 Q282.986 462.171 284.34 463.393 Q285.713 464.616 288.177 464.616 Q290.622 464.616 291.995 463.393 Q293.387 462.171 293.387 459.989 Q293.387 457.808 291.995 456.585 Q290.622 455.363 288.177 455.363 Q285.713 455.363 284.34 456.585 Q282.986 457.808 282.986 459.989 Z\" fill=\"#000000\" fill-rule=\"evenodd\" fill-opacity=\"1\" /><path clip-path=\"url(#clip590)\" d=\"M 0 0 M119.885 203.417 L136.204 203.417 L136.204 207.352 L114.26 207.352 L114.26 203.417 Q116.922 200.662 121.505 196.032 Q126.112 191.38 127.292 190.037 Q129.538 187.514 130.417 185.778 Q131.32 184.019 131.32 182.329 Q131.32 179.574 129.376 177.838 Q127.455 176.102 124.353 176.102 Q122.154 176.102 119.7 176.866 Q117.269 177.63 114.492 179.181 L114.492 174.459 Q117.316 173.324 119.769 172.746 Q122.223 172.167 124.26 172.167 Q129.63 172.167 132.825 174.852 Q136.019 177.537 136.019 182.028 Q136.019 184.158 135.209 186.079 Q134.422 187.977 132.316 190.57 Q131.737 191.241 128.635 194.458 Q125.533 197.653 119.885 203.417 Z\" fill=\"#000000\" fill-rule=\"evenodd\" fill-opacity=\"1\" /><path clip-path=\"url(#clip590)\" d=\"M 0 0 M141.274 201.472 L146.158 201.472 L146.158 207.352 L141.274 207.352 L141.274 201.472 Z\" fill=\"#000000\" fill-rule=\"evenodd\" fill-opacity=\"1\" /><path clip-path=\"url(#clip590)\" d=\"M 0 0 M161.227 175.871 Q157.616 175.871 155.788 179.435 Q153.982 182.977 153.982 190.107 Q153.982 197.213 155.788 200.778 Q157.616 204.319 161.227 204.319 Q164.862 204.319 166.667 200.778 Q168.496 197.213 168.496 190.107 Q168.496 182.977 166.667 179.435 Q164.862 175.871 161.227 175.871 M161.227 172.167 Q167.038 172.167 170.093 176.773 Q173.172 181.357 173.172 190.107 Q173.172 198.833 170.093 203.44 Q167.038 208.023 161.227 208.023 Q155.417 208.023 152.339 203.44 Q149.283 198.833 149.283 190.107 Q149.283 181.357 152.339 176.773 Q155.417 172.167 161.227 172.167 Z\" fill=\"#000000\" fill-rule=\"evenodd\" fill-opacity=\"1\" /><path clip-path=\"url(#clip590)\" d=\"M 0 0 M206.412 181.889 L195.834 192.514 L206.412 203.093 L203.658 205.894 L193.033 195.269 L182.408 205.894 L179.676 203.093 L190.232 192.514 L179.676 181.889 L182.408 179.088 L193.033 189.713 L203.658 179.088 L206.412 181.889 Z\" fill=\"#000000\" fill-rule=\"evenodd\" fill-opacity=\"1\" /><path clip-path=\"url(#clip590)\" d=\"M 0 0 M212.292 203.417 L219.931 203.417 L219.931 177.051 L211.621 178.718 L211.621 174.459 L219.885 172.792 L224.56 172.792 L224.56 203.417 L232.199 203.417 L232.199 207.352 L212.292 207.352 L212.292 203.417 Z\" fill=\"#000000\" fill-rule=\"evenodd\" fill-opacity=\"1\" /><path clip-path=\"url(#clip590)\" d=\"M 0 0 M247.269 175.871 Q243.658 175.871 241.829 179.435 Q240.023 182.977 240.023 190.107 Q240.023 197.213 241.829 200.778 Q243.658 204.319 247.269 204.319 Q250.903 204.319 252.708 200.778 Q254.537 197.213 254.537 190.107 Q254.537 182.977 252.708 179.435 Q250.903 175.871 247.269 175.871 M247.269 172.167 Q253.079 172.167 256.134 176.773 Q259.213 181.357 259.213 190.107 Q259.213 198.833 256.134 203.44 Q253.079 208.023 247.269 208.023 Q241.459 208.023 238.38 203.44 Q235.324 198.833 235.324 190.107 Q235.324 181.357 238.38 176.773 Q241.459 172.167 247.269 172.167 Z\" fill=\"#000000\" fill-rule=\"evenodd\" fill-opacity=\"1\" /><path clip-path=\"url(#clip590)\" d=\"M 0 0 M259.759 176.744 L265.965 176.744 L265.965 155.322 L259.213 156.676 L259.213 153.216 L265.927 151.861 L269.727 151.861 L269.727 176.744 L275.933 176.744 L275.933 179.941 L259.759 179.941 L259.759 176.744 Z\" fill=\"#000000\" fill-rule=\"evenodd\" fill-opacity=\"1\" /><path clip-path=\"url(#clip590)\" d=\"M 0 0 M288.177 166.607 Q285.469 166.607 283.908 168.055 Q282.365 169.503 282.365 172.042 Q282.365 174.581 283.908 176.029 Q285.469 177.478 288.177 177.478 Q290.885 177.478 292.446 176.029 Q294.007 174.562 294.007 172.042 Q294.007 169.503 292.446 168.055 Q290.904 166.607 288.177 166.607 M284.378 164.989 Q281.933 164.387 280.56 162.714 Q279.206 161.04 279.206 158.632 Q279.206 155.266 281.594 153.31 Q284.002 151.354 288.177 151.354 Q292.371 151.354 294.76 153.31 Q297.148 155.266 297.148 158.632 Q297.148 161.04 295.775 162.714 Q294.421 164.387 291.995 164.989 Q294.741 165.629 296.264 167.491 Q297.807 169.353 297.807 172.042 Q297.807 176.123 295.305 178.305 Q292.823 180.487 288.177 180.487 Q283.532 180.487 281.03 178.305 Q278.547 176.123 278.547 172.042 Q278.547 169.353 280.09 167.491 Q281.632 165.629 284.378 164.989 M282.986 158.99 Q282.986 161.171 284.34 162.394 Q285.713 163.616 288.177 163.616 Q290.622 163.616 291.995 162.394 Q293.387 161.171 293.387 158.99 Q293.387 156.808 291.995 155.585 Q290.622 154.363 288.177 154.363 Q285.713 154.363 284.34 155.585 Q282.986 156.808 282.986 158.99 Z\" fill=\"#000000\" fill-rule=\"evenodd\" fill-opacity=\"1\" /><path clip-path=\"url(#clip590)\" d=\"M 0 0 M42.4881 1092.45 L64.0042 1092.45 L64.0042 1098.31 L42.679 1098.31 Q37.6183 1098.31 35.1038 1100.28 Q32.5894 1102.26 32.5894 1106.2 Q32.5894 1110.95 35.6131 1113.68 Q38.6368 1116.42 43.8567 1116.42 L64.0042 1116.42 L64.0042 1122.31 L28.3562 1122.31 L28.3562 1116.42 L33.8944 1116.42 Q30.6797 1114.32 29.0883 1111.49 Q27.4968 1108.62 27.4968 1104.9 Q27.4968 1098.76 31.3163 1095.61 Q35.1038 1092.45 42.4881 1092.45 Z\" fill=\"#000000\" fill-rule=\"evenodd\" fill-opacity=\"1\" /><path clip-path=\"url(#clip590)\" d=\"M 0 0 M49.9359 1086.92 L28.3562 1086.92 L28.3562 1081.06 L49.7131 1081.06 Q54.7739 1081.06 57.3202 1079.09 Q59.8346 1077.11 59.8346 1073.17 Q59.8346 1068.42 56.8109 1065.69 Q53.7872 1062.92 48.5673 1062.92 L28.3562 1062.92 L28.3562 1057.06 L64.0042 1057.06 L64.0042 1062.92 L58.5296 1062.92 Q61.7762 1065.05 63.3676 1067.88 Q64.9272 1070.68 64.9272 1074.41 Q64.9272 1080.55 61.1078 1083.73 Q57.2883 1086.92 49.9359 1086.92 M27.4968 1072.18 L27.4968 1072.18 Z\" fill=\"#000000\" fill-rule=\"evenodd\" fill-opacity=\"1\" /><path clip-path=\"url(#clip590)\" d=\"M 0 0 M35.1993 1023.16 Q31.2526 1020.97 29.3747 1017.91 Q27.4968 1014.86 27.4968 1010.72 Q27.4968 1005.15 31.4117 1002.13 Q35.2948 999.102 42.4881 999.102 L64.0042 999.102 L64.0042 1004.99 L42.679 1004.99 Q37.5546 1004.99 35.072 1006.8 Q32.5894 1008.62 32.5894 1012.34 Q32.5894 1016.89 35.6131 1019.54 Q38.6368 1022.18 43.8567 1022.18 L64.0042 1022.18 L64.0042 1028.07 L42.679 1028.07 Q37.5228 1028.07 35.072 1029.88 Q32.5894 1031.69 32.5894 1035.48 Q32.5894 1039.97 35.6449 1042.61 Q38.6686 1045.25 43.8567 1045.25 L64.0042 1045.25 L64.0042 1051.14 L28.3562 1051.14 L28.3562 1045.25 L33.8944 1045.25 Q30.616 1043.25 29.0564 1040.45 Q27.4968 1037.65 27.4968 1033.79 Q27.4968 1029.91 29.4702 1027.21 Q31.4436 1024.47 35.1993 1023.16 Z\" fill=\"#000000\" fill-rule=\"evenodd\" fill-opacity=\"1\" /><path clip-path=\"url(#clip590)\" d=\"M 0 0 M46.212 967.369 Q39.7508 967.369 36.0905 970.042 Q32.3984 972.684 32.3984 977.331 Q32.3984 981.978 36.0905 984.652 Q39.7508 987.293 46.212 987.293 Q52.6732 987.293 56.3653 984.652 Q60.0256 981.978 60.0256 977.331 Q60.0256 972.684 56.3653 970.042 Q52.6732 967.369 46.212 967.369 M33.7671 987.293 Q30.5842 985.447 29.0564 982.646 Q27.4968 979.814 27.4968 975.899 Q27.4968 969.406 32.6531 965.363 Q37.8093 961.289 46.212 961.289 Q54.6147 961.289 59.771 965.363 Q64.9272 969.406 64.9272 975.899 Q64.9272 979.814 63.3994 982.646 Q61.8398 985.447 58.657 987.293 L64.0042 987.293 L64.0042 993.182 L14.479 993.182 L14.479 987.293 L33.7671 987.293 Z\" fill=\"#000000\" fill-rule=\"evenodd\" fill-opacity=\"1\" /><path clip-path=\"url(#clip590)\" d=\"M 0 0 M44.7161 924.655 L47.5806 924.655 L47.5806 951.582 Q53.6281 951.2 56.8109 947.953 Q59.9619 944.675 59.9619 938.85 Q59.9619 935.476 59.1344 932.325 Q58.3069 929.143 56.6518 926.023 L62.1899 926.023 Q63.5267 929.174 64.227 932.485 Q64.9272 935.795 64.9272 939.2 Q64.9272 947.73 59.9619 952.728 Q54.9967 957.693 46.5303 957.693 Q37.7774 957.693 32.6531 952.982 Q27.4968 948.24 27.4968 940.219 Q27.4968 933.026 32.1438 928.856 Q36.7589 924.655 44.7161 924.655 M42.9973 930.511 Q38.1912 930.575 35.3266 933.217 Q32.4621 935.827 32.4621 940.155 Q32.4621 945.057 35.2312 948.017 Q38.0002 950.945 43.0292 951.391 L42.9973 930.511 Z\" fill=\"#000000\" fill-rule=\"evenodd\" fill-opacity=\"1\" /><path clip-path=\"url(#clip590)\" d=\"M 0 0 M33.8307 897.855 Q33.2578 898.842 33.0032 900.019 Q32.7167 901.165 32.7167 902.566 Q32.7167 907.531 35.9632 910.205 Q39.1779 912.846 45.2253 912.846 L64.0042 912.846 L64.0042 918.735 L28.3562 918.735 L28.3562 912.846 L33.8944 912.846 Q30.6479 911 29.0883 908.04 Q27.4968 905.08 27.4968 900.847 Q27.4968 900.242 27.5923 899.51 Q27.656 898.778 27.8151 897.887 L33.8307 897.855 Z\" fill=\"#000000\" fill-rule=\"evenodd\" fill-opacity=\"1\" /><path clip-path=\"url(#clip590)\" d=\"M 0 0 M32.4621 857.178 Q32.4621 861.889 36.1542 864.626 Q39.8145 867.363 46.212 867.363 Q52.6095 867.363 56.3017 864.658 Q59.9619 861.921 59.9619 857.178 Q59.9619 852.499 56.2698 849.762 Q52.5777 847.025 46.212 847.025 Q39.8781 847.025 36.186 849.762 Q32.4621 852.499 32.4621 857.178 M27.4968 857.178 Q27.4968 849.539 32.4621 845.179 Q37.4273 840.818 46.212 840.818 Q54.9649 840.818 59.9619 845.179 Q64.9272 849.539 64.9272 857.178 Q64.9272 864.849 59.9619 869.209 Q54.9649 873.538 46.212 873.538 Q37.4273 873.538 32.4621 869.209 Q27.4968 864.849 27.4968 857.178 Z\" fill=\"#000000\" fill-rule=\"evenodd\" fill-opacity=\"1\" /><path clip-path=\"url(#clip590)\" d=\"M 0 0 M14.479 816.629 L19.3487 816.629 L19.3487 822.231 Q19.3487 825.382 20.6219 826.623 Q21.895 827.832 25.2052 827.832 L28.3562 827.832 L28.3562 818.188 L32.9077 818.188 L32.9077 827.832 L64.0042 827.832 L64.0042 833.721 L32.9077 833.721 L32.9077 839.322 L28.3562 839.322 L28.3562 833.721 L25.8736 833.721 Q19.9216 833.721 17.2162 830.952 Q14.479 828.182 14.479 822.167 L14.479 816.629 Z\" fill=\"#000000\" fill-rule=\"evenodd\" fill-opacity=\"1\" /><path clip-path=\"url(#clip590)\" d=\"M 0 0 M58.657 784.1 L77.5631 784.1 L77.5631 789.988 L28.3562 789.988 L28.3562 784.1 L33.7671 784.1 Q30.5842 782.254 29.0564 779.453 Q27.4968 776.62 27.4968 772.705 Q27.4968 766.212 32.6531 762.17 Q37.8093 758.096 46.212 758.096 Q54.6147 758.096 59.771 762.17 Q64.9272 766.212 64.9272 772.705 Q64.9272 776.62 63.3994 779.453 Q61.8398 782.254 58.657 784.1 M46.212 764.175 Q39.7508 764.175 36.0905 766.849 Q32.3984 769.491 32.3984 774.138 Q32.3984 778.785 36.0905 781.458 Q39.7508 784.1 46.212 784.1 Q52.6732 784.1 56.3653 781.458 Q60.0256 778.785 60.0256 774.138 Q60.0256 769.491 56.3653 766.849 Q52.6732 764.175 46.212 764.175 Z\" fill=\"#000000\" fill-rule=\"evenodd\" fill-opacity=\"1\" /><path clip-path=\"url(#clip590)\" d=\"M 0 0 M42.4881 722.321 L64.0042 722.321 L64.0042 728.177 L42.679 728.177 Q37.6183 728.177 35.1038 730.151 Q32.5894 732.124 32.5894 736.071 Q32.5894 740.813 35.6131 743.55 Q38.6368 746.288 43.8567 746.288 L64.0042 746.288 L64.0042 752.176 L14.479 752.176 L14.479 746.288 L33.8944 746.288 Q30.6797 744.187 29.0883 741.354 Q27.4968 738.49 27.4968 734.766 Q27.4968 728.623 31.3163 725.472 Q35.1038 722.321 42.4881 722.321 Z\" fill=\"#000000\" fill-rule=\"evenodd\" fill-opacity=\"1\" /><path clip-path=\"url(#clip590)\" d=\"M 0 0 M32.4621 702.364 Q32.4621 707.075 36.1542 709.812 Q39.8145 712.549 46.212 712.549 Q52.6095 712.549 56.3017 709.844 Q59.9619 707.107 59.9619 702.364 Q59.9619 697.685 56.2698 694.948 Q52.5777 692.211 46.212 692.211 Q39.8781 692.211 36.186 694.948 Q32.4621 697.685 32.4621 702.364 M27.4968 702.364 Q27.4968 694.725 32.4621 690.365 Q37.4273 686.004 46.212 686.004 Q54.9649 686.004 59.9619 690.365 Q64.9272 694.725 64.9272 702.364 Q64.9272 710.035 59.9619 714.395 Q54.9649 718.724 46.212 718.724 Q37.4273 718.724 32.4621 714.395 Q27.4968 710.035 27.4968 702.364 Z\" fill=\"#000000\" fill-rule=\"evenodd\" fill-opacity=\"1\" /><path clip-path=\"url(#clip590)\" d=\"M 0 0 M18.2347 674.069 L28.3562 674.069 L28.3562 662.006 L32.9077 662.006 L32.9077 674.069 L52.2594 674.069 Q56.6199 674.069 57.8613 672.891 Q59.1026 671.682 59.1026 668.021 L59.1026 662.006 L64.0042 662.006 L64.0042 668.021 Q64.0042 674.801 61.4897 677.379 Q58.9434 679.957 52.2594 679.957 L32.9077 679.957 L32.9077 684.254 L28.3562 684.254 L28.3562 679.957 L18.2347 679.957 L18.2347 674.069 Z\" fill=\"#000000\" fill-rule=\"evenodd\" fill-opacity=\"1\" /><path clip-path=\"url(#clip590)\" d=\"M 0 0 M32.4621 642.049 Q32.4621 646.76 36.1542 649.497 Q39.8145 652.234 46.212 652.234 Q52.6095 652.234 56.3017 649.529 Q59.9619 646.792 59.9619 642.049 Q59.9619 637.37 56.2698 634.633 Q52.5777 631.896 46.212 631.896 Q39.8781 631.896 36.186 634.633 Q32.4621 637.37 32.4621 642.049 M27.4968 642.049 Q27.4968 634.41 32.4621 630.05 Q37.4273 625.689 46.212 625.689 Q54.9649 625.689 59.9619 630.05 Q64.9272 634.41 64.9272 642.049 Q64.9272 649.72 59.9619 654.08 Q54.9649 658.409 46.212 658.409 Q37.4273 658.409 32.4621 654.08 Q27.4968 649.72 27.4968 642.049 Z\" fill=\"#000000\" fill-rule=\"evenodd\" fill-opacity=\"1\" /><path clip-path=\"url(#clip590)\" d=\"M 0 0 M42.4881 589.914 L64.0042 589.914 L64.0042 595.771 L42.679 595.771 Q37.6183 595.771 35.1038 597.744 Q32.5894 599.717 32.5894 603.664 Q32.5894 608.406 35.6131 611.144 Q38.6368 613.881 43.8567 613.881 L64.0042 613.881 L64.0042 619.769 L28.3562 619.769 L28.3562 613.881 L33.8944 613.881 Q30.6797 611.78 29.0883 608.948 Q27.4968 606.083 27.4968 602.359 Q27.4968 596.216 31.3163 593.065 Q35.1038 589.914 42.4881 589.914 Z\" fill=\"#000000\" fill-rule=\"evenodd\" fill-opacity=\"1\" /><path clip-path=\"url(#clip590)\" d=\"M 0 0 M29.4065 561.046 L34.9447 561.046 Q33.6716 563.528 33.035 566.202 Q32.3984 568.875 32.3984 571.74 Q32.3984 576.1 33.7352 578.297 Q35.072 580.461 37.7456 580.461 Q39.7826 580.461 40.9603 578.901 Q42.1061 577.342 43.1565 572.631 L43.6021 570.626 Q44.9389 564.388 47.3897 561.778 Q49.8086 559.136 54.1691 559.136 Q59.1344 559.136 62.0308 563.083 Q64.9272 566.998 64.9272 573.872 Q64.9272 576.737 64.3543 579.856 Q63.8132 582.944 62.6992 586.381 L56.6518 586.381 Q58.3387 583.135 59.198 579.984 Q60.0256 576.833 60.0256 573.745 Q60.0256 569.607 58.6251 567.379 Q57.1929 565.151 54.6147 565.151 Q52.2276 565.151 50.9545 566.775 Q49.6813 568.366 48.5037 573.809 L48.0262 575.846 Q46.8804 581.289 44.5251 583.707 Q42.138 586.126 38.0002 586.126 Q32.9713 586.126 30.2341 582.562 Q27.4968 578.997 27.4968 572.44 Q27.4968 569.194 27.9743 566.329 Q28.4517 563.465 29.4065 561.046 Z\" fill=\"#000000\" fill-rule=\"evenodd\" fill-opacity=\"1\" /><path clip-path=\"url(#clip590)\" d=\"M 0 0 M14.5426 518.204 Q21.8632 522.469 29.0246 524.538 Q36.186 526.607 43.5384 526.607 Q50.8908 526.607 58.1159 524.538 Q65.3091 522.438 72.5979 518.204 L72.5979 523.297 Q65.1182 528.071 57.8931 530.458 Q50.668 532.814 43.5384 532.814 Q36.4406 532.814 29.2474 530.458 Q22.0542 528.103 14.5426 523.297 L14.5426 518.204 Z\" fill=\"#000000\" fill-rule=\"evenodd\" fill-opacity=\"1\" /><path clip-path=\"url(#clip590)\" d=\"M 0 0 M16.4842 511.807 L16.4842 505.377 L35.9632 505.377 L35.9632 482.015 L16.4842 482.015 L16.4842 475.586 L64.0042 475.586 L64.0042 482.015 L41.3741 482.015 L41.3741 505.377 L64.0042 505.377 L64.0042 511.807 L16.4842 511.807 Z\" fill=\"#000000\" fill-rule=\"evenodd\" fill-opacity=\"1\" /><path clip-path=\"url(#clip590)\" d=\"M 0 0 M28.3562 471.989 L28.3562 444.171 L33.7034 444.171 L59.3254 466.197 L59.3254 444.171 L64.0042 444.171 L64.0042 472.785 L58.657 472.785 L33.035 450.76 L33.035 471.989 L28.3562 471.989 Z\" fill=\"#000000\" fill-rule=\"evenodd\" fill-opacity=\"1\" /><path clip-path=\"url(#clip590)\" d=\"M 0 0 M14.5426 438.951 L14.5426 433.859 Q22.0542 429.084 29.2474 426.729 Q36.4406 424.342 43.5384 424.342 Q50.668 424.342 57.8931 426.729 Q65.1182 429.084 72.5979 433.859 L72.5979 438.951 Q65.3091 434.718 58.1159 432.649 Q50.8908 430.549 43.5384 430.549 Q36.186 430.549 29.0246 432.649 Q21.8632 434.718 14.5426 438.951 Z\" fill=\"#000000\" fill-rule=\"evenodd\" fill-opacity=\"1\" /><path clip-path=\"url(#clip590)\" d=\"M 0 0 M640.389 12.096 L651.407 12.096 L678.224 62.6918 L678.224 12.096 L686.164 12.096 L686.164 72.576 L675.145 72.576 L648.328 21.9802 L648.328 72.576 L640.389 72.576 L640.389 12.096 Z\" fill=\"#000000\" fill-rule=\"evenodd\" fill-opacity=\"1\" /><path clip-path=\"url(#clip590)\" d=\"M 0 0 M693.212 54.671 L693.212 27.2059 L700.666 27.2059 L700.666 54.3874 Q700.666 60.8284 703.178 64.0691 Q705.689 67.2693 710.712 67.2693 Q716.748 67.2693 720.232 63.421 Q723.756 59.5726 723.756 52.9291 L723.756 27.2059 L731.21 27.2059 L731.21 72.576 L723.756 72.576 L723.756 65.6084 Q721.042 69.7404 717.437 71.7658 Q713.872 73.7508 709.132 73.7508 Q701.314 73.7508 697.263 68.8897 Q693.212 64.0286 693.212 54.671 M711.968 26.1121 L711.968 26.1121 Z\" fill=\"#000000\" fill-rule=\"evenodd\" fill-opacity=\"1\" /><path clip-path=\"url(#clip590)\" d=\"M 0 0 M774.352 35.9153 Q777.147 30.8922 781.036 28.5022 Q784.925 26.1121 790.191 26.1121 Q797.28 26.1121 801.129 31.0947 Q804.977 36.0368 804.977 45.1919 L804.977 72.576 L797.483 72.576 L797.483 45.4349 Q797.483 38.913 795.174 35.7533 Q792.865 32.5936 788.125 32.5936 Q782.332 32.5936 778.97 36.4419 Q775.608 40.2903 775.608 46.9338 L775.608 72.576 L768.114 72.576 L768.114 45.4349 Q768.114 38.8725 765.805 35.7533 Q763.496 32.5936 758.675 32.5936 Q752.963 32.5936 749.601 36.4824 Q746.239 40.3308 746.239 46.9338 L746.239 72.576 L738.745 72.576 L738.745 27.2059 L746.239 27.2059 L746.239 34.2544 Q748.791 30.082 752.356 28.0971 Q755.92 26.1121 760.822 26.1121 Q765.764 26.1121 769.207 28.6237 Q772.691 31.1352 774.352 35.9153 Z\" fill=\"#000000\" fill-rule=\"evenodd\" fill-opacity=\"1\" /><path clip-path=\"url(#clip590)\" d=\"M 0 0 M845.364 49.9314 Q845.364 41.7081 841.962 37.0496 Q838.599 32.3505 832.685 32.3505 Q826.771 32.3505 823.368 37.0496 Q820.006 41.7081 820.006 49.9314 Q820.006 58.1548 823.368 62.8538 Q826.771 67.5124 832.685 67.5124 Q838.599 67.5124 841.962 62.8538 Q845.364 58.1548 845.364 49.9314 M820.006 34.0924 Q822.355 30.0415 825.92 28.0971 Q829.525 26.1121 834.508 26.1121 Q842.772 26.1121 847.916 32.6746 Q853.102 39.2371 853.102 49.9314 Q853.102 60.6258 847.916 67.1883 Q842.772 73.7508 834.508 73.7508 Q829.525 73.7508 825.92 71.8063 Q822.355 69.8214 820.006 65.7705 L820.006 72.576 L812.512 72.576 L812.512 9.54393 L820.006 9.54393 L820.006 34.0924 Z\" fill=\"#000000\" fill-rule=\"evenodd\" fill-opacity=\"1\" /><path clip-path=\"url(#clip590)\" d=\"M 0 0 M899.728 48.0275 L899.728 51.6733 L865.457 51.6733 Q865.943 59.3701 870.075 63.421 Q874.247 67.4314 881.66 67.4314 Q885.954 67.4314 889.965 66.3781 Q894.016 65.3249 897.986 63.2184 L897.986 70.267 Q893.975 71.9684 889.762 72.8596 Q885.549 73.7508 881.215 73.7508 Q870.358 73.7508 863.999 67.4314 Q857.679 61.1119 857.679 50.3365 Q857.679 39.1965 863.674 32.6746 Q869.71 26.1121 879.919 26.1121 Q889.074 26.1121 894.38 32.0264 Q899.728 37.9003 899.728 48.0275 M892.274 45.84 Q892.193 39.7232 888.831 36.0774 Q885.509 32.4315 880 32.4315 Q873.761 32.4315 869.994 35.9558 Q866.267 39.4801 865.7 45.8805 L892.274 45.84 Z\" fill=\"#000000\" fill-rule=\"evenodd\" fill-opacity=\"1\" /><path clip-path=\"url(#clip590)\" d=\"M 0 0 M933.836 34.1734 Q932.58 33.4443 931.082 33.1202 Q929.623 32.7556 927.841 32.7556 Q921.521 32.7556 918.119 36.8875 Q914.756 40.9789 914.756 48.6757 L914.756 72.576 L907.262 72.576 L907.262 27.2059 L914.756 27.2059 L914.756 34.2544 Q917.106 30.1225 920.873 28.1376 Q924.641 26.1121 930.028 26.1121 Q930.798 26.1121 931.73 26.2337 Q932.661 26.3147 933.796 26.5172 L933.836 34.1734 Z\" fill=\"#000000\" fill-rule=\"evenodd\" fill-opacity=\"1\" /><path clip-path=\"url(#clip590)\" d=\"M 0 0 M985.607 32.4315 Q979.611 32.4315 976.128 37.1306 Q972.644 41.7891 972.644 49.9314 Q972.644 58.0738 976.087 62.7728 Q979.571 67.4314 985.607 67.4314 Q991.562 67.4314 995.045 62.7323 Q998.529 58.0333 998.529 49.9314 Q998.529 41.8701 995.045 37.1711 Q991.562 32.4315 985.607 32.4315 M985.607 26.1121 Q995.329 26.1121 1000.88 32.4315 Q1006.43 38.7509 1006.43 49.9314 Q1006.43 61.0714 1000.88 67.4314 Q995.329 73.7508 985.607 73.7508 Q975.844 73.7508 970.294 67.4314 Q964.785 61.0714 964.785 49.9314 Q964.785 38.7509 970.294 32.4315 Q975.844 26.1121 985.607 26.1121 Z\" fill=\"#000000\" fill-rule=\"evenodd\" fill-opacity=\"1\" /><path clip-path=\"url(#clip590)\" d=\"M 0 0 M1037.22 9.54393 L1037.22 15.7418 L1030.09 15.7418 Q1026.08 15.7418 1024.5 17.3622 Q1022.96 18.9825 1022.96 23.1955 L1022.96 27.2059 L1035.23 27.2059 L1035.23 32.9987 L1022.96 32.9987 L1022.96 72.576 L1015.46 72.576 L1015.46 32.9987 L1008.33 32.9987 L1008.33 27.2059 L1015.46 27.2059 L1015.46 24.0462 Q1015.46 16.471 1018.99 13.0277 Q1022.51 9.54393 1030.17 9.54393 L1037.22 9.54393 Z\" fill=\"#000000\" fill-rule=\"evenodd\" fill-opacity=\"1\" /><path clip-path=\"url(#clip590)\" d=\"M 0 0 M1078.62 65.7705 L1078.62 89.8329 L1071.12 89.8329 L1071.12 27.2059 L1078.62 27.2059 L1078.62 34.0924 Q1080.96 30.0415 1084.53 28.0971 Q1088.14 26.1121 1093.12 26.1121 Q1101.38 26.1121 1106.53 32.6746 Q1111.71 39.2371 1111.71 49.9314 Q1111.71 60.6258 1106.53 67.1883 Q1101.38 73.7508 1093.12 73.7508 Q1088.14 73.7508 1084.53 71.8063 Q1080.96 69.8214 1078.62 65.7705 M1103.97 49.9314 Q1103.97 41.7081 1100.57 37.0496 Q1097.21 32.3505 1091.29 32.3505 Q1085.38 32.3505 1081.98 37.0496 Q1078.62 41.7081 1078.62 49.9314 Q1078.62 58.1548 1081.98 62.8538 Q1085.38 67.5124 1091.29 67.5124 Q1097.21 67.5124 1100.57 62.8538 Q1103.97 58.1548 1103.97 49.9314 Z\" fill=\"#000000\" fill-rule=\"evenodd\" fill-opacity=\"1\" /><path clip-path=\"url(#clip590)\" d=\"M 0 0 M1157.24 45.1919 L1157.24 72.576 L1149.79 72.576 L1149.79 45.4349 Q1149.79 38.994 1147.28 35.7938 Q1144.77 32.5936 1139.74 32.5936 Q1133.71 32.5936 1130.22 36.4419 Q1126.74 40.2903 1126.74 46.9338 L1126.74 72.576 L1119.25 72.576 L1119.25 9.54393 L1126.74 9.54393 L1126.74 34.2544 Q1129.41 30.163 1133.02 28.1376 Q1136.66 26.1121 1141.4 26.1121 Q1149.22 26.1121 1153.23 30.9732 Q1157.24 35.7938 1157.24 45.1919 Z\" fill=\"#000000\" fill-rule=\"evenodd\" fill-opacity=\"1\" /><path clip-path=\"url(#clip590)\" d=\"M 0 0 M1182.64 32.4315 Q1176.65 32.4315 1173.16 37.1306 Q1169.68 41.7891 1169.68 49.9314 Q1169.68 58.0738 1173.12 62.7728 Q1176.61 67.4314 1182.64 67.4314 Q1188.6 67.4314 1192.08 62.7323 Q1195.57 58.0333 1195.57 49.9314 Q1195.57 41.8701 1192.08 37.1711 Q1188.6 32.4315 1182.64 32.4315 M1182.64 26.1121 Q1192.36 26.1121 1197.91 32.4315 Q1203.46 38.7509 1203.46 49.9314 Q1203.46 61.0714 1197.91 67.4314 Q1192.36 73.7508 1182.64 73.7508 Q1172.88 73.7508 1167.33 67.4314 Q1161.82 61.0714 1161.82 49.9314 Q1161.82 38.7509 1167.33 32.4315 Q1172.88 26.1121 1182.64 26.1121 Z\" fill=\"#000000\" fill-rule=\"evenodd\" fill-opacity=\"1\" /><path clip-path=\"url(#clip590)\" d=\"M 0 0 M1218.66 14.324 L1218.66 27.2059 L1234.01 27.2059 L1234.01 32.9987 L1218.66 32.9987 L1218.66 57.6282 Q1218.66 63.1779 1220.15 64.7578 Q1221.69 66.3376 1226.35 66.3376 L1234.01 66.3376 L1234.01 72.576 L1226.35 72.576 Q1217.72 72.576 1214.44 69.3758 Q1211.16 66.1351 1211.16 57.6282 L1211.16 32.9987 L1205.69 32.9987 L1205.69 27.2059 L1211.16 27.2059 L1211.16 14.324 L1218.66 14.324 Z\" fill=\"#000000\" fill-rule=\"evenodd\" fill-opacity=\"1\" /><path clip-path=\"url(#clip590)\" d=\"M 0 0 M1259.41 32.4315 Q1253.41 32.4315 1249.93 37.1306 Q1246.44 41.7891 1246.44 49.9314 Q1246.44 58.0738 1249.89 62.7728 Q1253.37 67.4314 1259.41 67.4314 Q1265.36 67.4314 1268.85 62.7323 Q1272.33 58.0333 1272.33 49.9314 Q1272.33 41.8701 1268.85 37.1711 Q1265.36 32.4315 1259.41 32.4315 M1259.41 26.1121 Q1269.13 26.1121 1274.68 32.4315 Q1280.23 38.7509 1280.23 49.9314 Q1280.23 61.0714 1274.68 67.4314 Q1269.13 73.7508 1259.41 73.7508 Q1249.64 73.7508 1244.09 67.4314 Q1238.59 61.0714 1238.59 49.9314 Q1238.59 38.7509 1244.09 32.4315 Q1249.64 26.1121 1259.41 26.1121 Z\" fill=\"#000000\" fill-rule=\"evenodd\" fill-opacity=\"1\" /><path clip-path=\"url(#clip590)\" d=\"M 0 0 M1325.76 45.1919 L1325.76 72.576 L1318.31 72.576 L1318.31 45.4349 Q1318.31 38.994 1315.8 35.7938 Q1313.28 32.5936 1308.26 32.5936 Q1302.23 32.5936 1298.74 36.4419 Q1295.26 40.2903 1295.26 46.9338 L1295.26 72.576 L1287.76 72.576 L1287.76 27.2059 L1295.26 27.2059 L1295.26 34.2544 Q1297.93 30.163 1301.54 28.1376 Q1305.18 26.1121 1309.92 26.1121 Q1317.74 26.1121 1321.75 30.9732 Q1325.76 35.7938 1325.76 45.1919 Z\" fill=\"#000000\" fill-rule=\"evenodd\" fill-opacity=\"1\" /><path clip-path=\"url(#clip590)\" d=\"M 0 0 M1362.5 28.5427 L1362.5 35.5912 Q1359.34 33.9709 1355.94 33.1607 Q1352.54 32.3505 1348.89 32.3505 Q1343.34 32.3505 1340.55 34.0519 Q1337.79 35.7533 1337.79 39.156 Q1337.79 41.7486 1339.78 43.2475 Q1341.76 44.7058 1347.76 46.0426 L1350.31 46.6097 Q1358.25 48.3111 1361.57 51.4303 Q1364.93 54.509 1364.93 60.0587 Q1364.93 66.3781 1359.91 70.0644 Q1354.93 73.7508 1346.18 73.7508 Q1342.53 73.7508 1338.56 73.0216 Q1334.63 72.3329 1330.26 70.9151 L1330.26 63.2184 Q1334.39 65.3654 1338.4 66.4591 Q1342.41 67.5124 1346.34 67.5124 Q1351.61 67.5124 1354.44 65.73 Q1357.28 63.9071 1357.28 60.6258 Q1357.28 57.5877 1355.21 55.9673 Q1353.19 54.3469 1346.26 52.8481 L1343.67 52.2405 Q1336.74 50.7821 1333.66 47.7845 Q1330.58 44.7463 1330.58 39.4801 Q1330.58 33.0797 1335.12 29.5959 Q1339.66 26.1121 1348 26.1121 Q1352.13 26.1121 1355.78 26.7198 Q1359.42 27.3274 1362.5 28.5427 Z\" fill=\"#000000\" fill-rule=\"evenodd\" fill-opacity=\"1\" /><path clip-path=\"url(#clip590)\" d=\"M 0 0 M1419.74 49.7694 Q1410.71 49.7694 1407.22 51.8354 Q1403.74 53.9013 1403.74 58.8839 Q1403.74 62.8538 1406.33 65.2034 Q1408.97 67.5124 1413.46 67.5124 Q1419.66 67.5124 1423.39 63.1374 Q1427.16 58.7219 1427.16 51.4303 L1427.16 49.7694 L1419.74 49.7694 M1434.61 46.6907 L1434.61 72.576 L1427.16 72.576 L1427.16 65.6895 Q1424.6 69.8214 1420.8 71.8063 Q1416.99 73.7508 1411.48 73.7508 Q1404.51 73.7508 1400.38 69.8619 Q1396.29 65.9325 1396.29 59.3701 Q1396.29 51.7138 1401.39 47.825 Q1406.54 43.9361 1416.7 43.9361 L1427.16 43.9361 L1427.16 43.2069 Q1427.16 38.0623 1423.75 35.2672 Q1420.39 32.4315 1414.27 32.4315 Q1410.38 32.4315 1406.7 33.3632 Q1403.01 34.295 1399.61 36.1584 L1399.61 29.2718 Q1403.7 27.692 1407.55 26.9223 Q1411.4 26.1121 1415.04 26.1121 Q1424.89 26.1121 1429.75 31.2163 Q1434.61 36.3204 1434.61 46.6907 Z\" fill=\"#000000\" fill-rule=\"evenodd\" fill-opacity=\"1\" /><path clip-path=\"url(#clip590)\" d=\"M 0 0 M1471.35 28.5427 L1471.35 35.5912 Q1468.19 33.9709 1464.79 33.1607 Q1461.39 32.3505 1457.74 32.3505 Q1452.19 32.3505 1449.39 34.0519 Q1446.64 35.7533 1446.64 39.156 Q1446.64 41.7486 1448.63 43.2475 Q1450.61 44.7058 1456.61 46.0426 L1459.16 46.6097 Q1467.1 48.3111 1470.42 51.4303 Q1473.78 54.509 1473.78 60.0587 Q1473.78 66.3781 1468.76 70.0644 Q1463.78 73.7508 1455.03 73.7508 Q1451.38 73.7508 1447.41 73.0216 Q1443.48 72.3329 1439.11 70.9151 L1439.11 63.2184 Q1443.24 65.3654 1447.25 66.4591 Q1451.26 67.5124 1455.19 67.5124 Q1460.45 67.5124 1463.29 65.73 Q1466.12 63.9071 1466.12 60.6258 Q1466.12 57.5877 1464.06 55.9673 Q1462.03 54.3469 1455.11 52.8481 L1452.51 52.2405 Q1445.59 50.7821 1442.51 47.7845 Q1439.43 44.7463 1439.43 39.4801 Q1439.43 33.0797 1443.97 29.5959 Q1448.5 26.1121 1456.85 26.1121 Q1460.98 26.1121 1464.63 26.7198 Q1468.27 27.3274 1471.35 28.5427 Z\" fill=\"#000000\" fill-rule=\"evenodd\" fill-opacity=\"1\" /><path clip-path=\"url(#clip590)\" d=\"M 0 0 M1528.59 49.7694 Q1519.56 49.7694 1516.07 51.8354 Q1512.59 53.9013 1512.59 58.8839 Q1512.59 62.8538 1515.18 65.2034 Q1517.81 67.5124 1522.31 67.5124 Q1528.51 67.5124 1532.24 63.1374 Q1536 58.7219 1536 51.4303 L1536 49.7694 L1528.59 49.7694 M1543.46 46.6907 L1543.46 72.576 L1536 72.576 L1536 65.6895 Q1533.45 69.8214 1529.64 71.8063 Q1525.84 73.7508 1520.33 73.7508 Q1513.36 73.7508 1509.23 69.8619 Q1505.14 65.9325 1505.14 59.3701 Q1505.14 51.7138 1510.24 47.825 Q1515.38 43.9361 1525.55 43.9361 L1536 43.9361 L1536 43.2069 Q1536 38.0623 1532.6 35.2672 Q1529.24 32.4315 1523.12 32.4315 Q1519.23 32.4315 1515.55 33.3632 Q1511.86 34.295 1508.46 36.1584 L1508.46 29.2718 Q1512.55 27.692 1516.4 26.9223 Q1520.25 26.1121 1523.89 26.1121 Q1533.73 26.1121 1538.6 31.2163 Q1543.46 36.3204 1543.46 46.6907 Z\" fill=\"#000000\" fill-rule=\"evenodd\" fill-opacity=\"1\" /><path clip-path=\"url(#clip590)\" d=\"M 0 0 M1600.61 9.54393 L1600.61 15.7418 L1593.49 15.7418 Q1589.47 15.7418 1587.9 17.3622 Q1586.36 18.9825 1586.36 23.1955 L1586.36 27.2059 L1598.63 27.2059 L1598.63 32.9987 L1586.36 32.9987 L1586.36 72.576 L1578.86 72.576 L1578.86 32.9987 L1571.73 32.9987 L1571.73 27.2059 L1578.86 27.2059 L1578.86 24.0462 Q1578.86 16.471 1582.39 13.0277 Q1585.91 9.54393 1593.57 9.54393 L1600.61 9.54393 Z\" fill=\"#000000\" fill-rule=\"evenodd\" fill-opacity=\"1\" /><path clip-path=\"url(#clip590)\" d=\"M 0 0 M1607.66 54.671 L1607.66 27.2059 L1615.12 27.2059 L1615.12 54.3874 Q1615.12 60.8284 1617.63 64.0691 Q1620.14 67.2693 1625.16 67.2693 Q1631.2 67.2693 1634.68 63.421 Q1638.21 59.5726 1638.21 52.9291 L1638.21 27.2059 L1645.66 27.2059 L1645.66 72.576 L1638.21 72.576 L1638.21 65.6084 Q1635.49 69.7404 1631.89 71.7658 Q1628.32 73.7508 1623.58 73.7508 Q1615.77 73.7508 1611.71 68.8897 Q1607.66 64.0286 1607.66 54.671 M1626.42 26.1121 L1626.42 26.1121 Z\" fill=\"#000000\" fill-rule=\"evenodd\" fill-opacity=\"1\" /><path clip-path=\"url(#clip590)\" d=\"M 0 0 M1691.19 45.1919 L1691.19 72.576 L1683.74 72.576 L1683.74 45.4349 Q1683.74 38.994 1681.23 35.7938 Q1678.72 32.5936 1673.69 32.5936 Q1667.66 32.5936 1664.17 36.4419 Q1660.69 40.2903 1660.69 46.9338 L1660.69 72.576 L1653.2 72.576 L1653.2 27.2059 L1660.69 27.2059 L1660.69 34.2544 Q1663.36 30.163 1666.97 28.1376 Q1670.61 26.1121 1675.35 26.1121 Q1683.17 26.1121 1687.18 30.9732 Q1691.19 35.7938 1691.19 45.1919 Z\" fill=\"#000000\" fill-rule=\"evenodd\" fill-opacity=\"1\" /><path clip-path=\"url(#clip590)\" d=\"M 0 0 M1731.66 28.9478 L1731.66 35.9153 Q1728.5 34.1734 1725.3 33.3227 Q1722.14 32.4315 1718.9 32.4315 Q1711.65 32.4315 1707.64 37.0496 Q1703.63 41.6271 1703.63 49.9314 Q1703.63 58.2358 1707.64 62.8538 Q1711.65 67.4314 1718.9 67.4314 Q1722.14 67.4314 1725.3 66.5807 Q1728.5 65.6895 1731.66 63.9476 L1731.66 70.8341 Q1728.54 72.2924 1725.18 73.0216 Q1721.86 73.7508 1718.09 73.7508 Q1707.84 73.7508 1701.81 67.3098 Q1695.77 60.8689 1695.77 49.9314 Q1695.77 38.832 1701.85 32.472 Q1707.96 26.1121 1718.58 26.1121 Q1722.02 26.1121 1725.3 26.8413 Q1728.58 27.5299 1731.66 28.9478 Z\" fill=\"#000000\" fill-rule=\"evenodd\" fill-opacity=\"1\" /><path clip-path=\"url(#clip590)\" d=\"M 0 0 M1746.85 14.324 L1746.85 27.2059 L1762.21 27.2059 L1762.21 32.9987 L1746.85 32.9987 L1746.85 57.6282 Q1746.85 63.1779 1748.35 64.7578 Q1749.89 66.3376 1754.55 66.3376 L1762.21 66.3376 L1762.21 72.576 L1754.55 72.576 Q1745.92 72.576 1742.64 69.3758 Q1739.36 66.1351 1739.36 57.6282 L1739.36 32.9987 L1733.89 32.9987 L1733.89 27.2059 L1739.36 27.2059 L1739.36 14.324 L1746.85 14.324 Z\" fill=\"#000000\" fill-rule=\"evenodd\" fill-opacity=\"1\" /><path clip-path=\"url(#clip590)\" d=\"M 0 0 M1770.02 27.2059 L1777.48 27.2059 L1777.48 72.576 L1770.02 72.576 L1770.02 27.2059 M1770.02 9.54393 L1777.48 9.54393 L1777.48 18.9825 L1770.02 18.9825 L1770.02 9.54393 Z\" fill=\"#000000\" fill-rule=\"evenodd\" fill-opacity=\"1\" /><path clip-path=\"url(#clip590)\" d=\"M 0 0 M1802.88 32.4315 Q1796.88 32.4315 1793.4 37.1306 Q1789.91 41.7891 1789.91 49.9314 Q1789.91 58.0738 1793.36 62.7728 Q1796.84 67.4314 1802.88 67.4314 Q1808.83 67.4314 1812.32 62.7323 Q1815.8 58.0333 1815.8 49.9314 Q1815.8 41.8701 1812.32 37.1711 Q1808.83 32.4315 1802.88 32.4315 M1802.88 26.1121 Q1812.6 26.1121 1818.15 32.4315 Q1823.7 38.7509 1823.7 49.9314 Q1823.7 61.0714 1818.15 67.4314 Q1812.6 73.7508 1802.88 73.7508 Q1793.11 73.7508 1787.56 67.4314 Q1782.05 61.0714 1782.05 49.9314 Q1782.05 38.7509 1787.56 32.4315 Q1793.11 26.1121 1802.88 26.1121 Z\" fill=\"#000000\" fill-rule=\"evenodd\" fill-opacity=\"1\" /><path clip-path=\"url(#clip590)\" d=\"M 0 0 M1869.23 45.1919 L1869.23 72.576 L1861.78 72.576 L1861.78 45.4349 Q1861.78 38.994 1859.27 35.7938 Q1856.75 32.5936 1851.73 32.5936 Q1845.69 32.5936 1842.21 36.4419 Q1838.73 40.2903 1838.73 46.9338 L1838.73 72.576 L1831.23 72.576 L1831.23 27.2059 L1838.73 27.2059 L1838.73 34.2544 Q1841.4 30.163 1845.01 28.1376 Q1848.65 26.1121 1853.39 26.1121 Q1861.21 26.1121 1865.22 30.9732 Q1869.23 35.7938 1869.23 45.1919 Z\" fill=\"#000000\" fill-rule=\"evenodd\" fill-opacity=\"1\" /><path clip-path=\"url(#clip590)\" d=\"M 0 0 M1921 32.4315 Q1915.01 32.4315 1911.52 37.1306 Q1908.04 41.7891 1908.04 49.9314 Q1908.04 58.0738 1911.48 62.7728 Q1914.97 67.4314 1921 67.4314 Q1926.96 67.4314 1930.44 62.7323 Q1933.92 58.0333 1933.92 49.9314 Q1933.92 41.8701 1930.44 37.1711 Q1926.96 32.4315 1921 32.4315 M1921 26.1121 Q1930.72 26.1121 1936.27 32.4315 Q1941.82 38.7509 1941.82 49.9314 Q1941.82 61.0714 1936.27 67.4314 Q1930.72 73.7508 1921 73.7508 Q1911.24 73.7508 1905.69 67.4314 Q1900.18 61.0714 1900.18 49.9314 Q1900.18 38.7509 1905.69 32.4315 Q1911.24 26.1121 1921 26.1121 Z\" fill=\"#000000\" fill-rule=\"evenodd\" fill-opacity=\"1\" /><path clip-path=\"url(#clip590)\" d=\"M 0 0 M1972.61 9.54393 L1972.61 15.7418 L1965.48 15.7418 Q1961.47 15.7418 1959.89 17.3622 Q1958.35 18.9825 1958.35 23.1955 L1958.35 27.2059 L1970.62 27.2059 L1970.62 32.9987 L1958.35 32.9987 L1958.35 72.576 L1950.86 72.576 L1950.86 32.9987 L1943.73 32.9987 L1943.73 27.2059 L1950.86 27.2059 L1950.86 24.0462 Q1950.86 16.471 1954.38 13.0277 Q1957.9 9.54393 1965.56 9.54393 L1972.61 9.54393 Z\" fill=\"#000000\" fill-rule=\"evenodd\" fill-opacity=\"1\" /><path clip-path=\"url(#clip590)\" d=\"M 0 0 M2015.31 18.8205 L2015.31 41.5461 L2025.6 41.5461 Q2031.31 41.5461 2034.43 38.5889 Q2037.55 35.6318 2037.55 30.163 Q2037.55 24.7348 2034.43 21.7777 Q2031.31 18.8205 2025.6 18.8205 L2015.31 18.8205 M2007.12 12.096 L2025.6 12.096 Q2035.76 12.096 2040.95 16.714 Q2046.17 21.2916 2046.17 30.163 Q2046.17 39.1155 2040.95 43.6931 Q2035.76 48.2706 2025.6 48.2706 L2015.31 48.2706 L2015.31 72.576 L2007.12 72.576 L2007.12 12.096 Z\" fill=\"#000000\" fill-rule=\"evenodd\" fill-opacity=\"1\" /><polyline clip-path=\"url(#clip592)\" style=\"stroke:#009af9; stroke-width:8; stroke-opacity:1; fill:none\" points=\"\n",
       "  390.947,1386.4 392.853,1385.17 394.76,1383.94 396.666,1382.71 398.573,1381.49 400.48,1380.26 402.386,1379.03 404.293,1377.8 406.199,1376.58 408.106,1375.35 \n",
       "  410.012,1374.12 411.919,1372.89 413.826,1371.67 415.732,1370.44 417.639,1369.21 419.545,1367.99 421.452,1366.76 423.358,1365.53 425.265,1364.3 427.172,1363.08 \n",
       "  429.078,1361.85 430.985,1360.62 432.891,1359.39 434.798,1358.17 436.705,1356.94 438.611,1355.71 440.518,1354.48 442.424,1353.26 444.331,1352.03 446.237,1350.8 \n",
       "  448.144,1349.57 450.051,1348.35 451.957,1347.12 453.864,1345.89 455.77,1344.67 457.677,1343.44 459.583,1342.21 461.49,1340.98 463.397,1339.76 465.303,1338.53 \n",
       "  467.21,1337.3 469.116,1336.07 471.023,1334.85 472.929,1333.62 474.836,1332.39 476.743,1331.16 478.649,1329.94 480.556,1328.71 482.462,1327.48 484.369,1326.25 \n",
       "  486.275,1325.03 488.182,1323.8 490.089,1322.57 491.995,1321.35 493.902,1320.12 495.808,1318.89 497.715,1317.66 499.622,1316.44 501.528,1315.21 503.435,1313.98 \n",
       "  505.341,1312.75 507.248,1311.53 509.154,1310.3 511.061,1309.07 512.968,1307.84 514.874,1306.62 516.781,1305.39 518.687,1304.16 520.594,1302.93 522.5,1301.71 \n",
       "  524.407,1300.48 526.314,1299.25 528.22,1298.03 530.127,1296.8 532.033,1295.57 533.94,1294.34 535.846,1293.12 537.753,1291.89 539.66,1290.66 541.566,1289.43 \n",
       "  543.473,1288.21 545.379,1286.98 547.286,1285.75 549.192,1284.52 551.099,1283.3 553.006,1282.07 554.912,1280.84 556.819,1279.61 558.725,1278.39 560.632,1277.16 \n",
       "  562.539,1275.93 564.445,1274.71 566.352,1273.48 568.258,1272.25 570.165,1271.02 572.071,1269.8 573.978,1268.57 575.885,1267.34 577.791,1266.11 579.698,1264.89 \n",
       "  581.604,1263.66 583.511,1262.43 585.417,1261.2 587.324,1259.98 589.231,1258.75 591.137,1257.52 593.044,1256.29 594.95,1255.07 596.857,1253.84 598.763,1252.61 \n",
       "  600.67,1251.39 602.577,1250.16 604.483,1248.93 606.39,1247.7 608.296,1246.48 610.203,1245.25 612.109,1244.02 614.016,1242.79 615.923,1241.57 617.829,1240.34 \n",
       "  619.736,1239.11 621.642,1237.88 623.549,1236.66 625.456,1235.43 627.362,1234.2 629.269,1232.97 631.175,1231.75 633.082,1230.52 634.988,1229.29 636.895,1228.07 \n",
       "  638.802,1226.84 640.708,1225.61 642.615,1224.38 644.521,1223.16 646.428,1221.93 648.334,1220.7 650.241,1219.47 652.148,1218.25 654.054,1217.02 655.961,1215.79 \n",
       "  657.867,1214.56 659.774,1213.34 661.68,1212.11 663.587,1210.88 665.494,1209.65 667.4,1208.43 669.307,1207.2 671.213,1205.97 673.12,1204.75 675.026,1203.52 \n",
       "  676.933,1202.29 678.84,1201.06 680.746,1199.84 682.653,1198.61 684.559,1197.38 686.466,1196.15 688.373,1194.93 690.279,1193.7 692.186,1192.47 694.092,1191.24 \n",
       "  695.999,1190.02 697.905,1188.79 699.812,1187.56 701.719,1186.33 703.625,1185.11 705.532,1183.88 707.438,1182.65 709.345,1181.43 711.251,1180.2 713.158,1178.97 \n",
       "  715.065,1177.74 716.971,1176.52 718.878,1175.29 720.784,1174.06 722.691,1172.83 724.597,1171.61 726.504,1170.38 728.411,1169.15 730.317,1167.92 732.224,1166.7 \n",
       "  734.13,1165.47 736.037,1164.24 737.943,1163.01 739.85,1161.79 741.757,1160.56 743.663,1159.33 745.57,1158.11 747.476,1156.88 749.383,1155.65 751.29,1154.42 \n",
       "  753.196,1153.2 755.103,1151.97 757.009,1150.74 758.916,1149.51 760.822,1148.29 762.729,1147.06 764.636,1145.83 766.542,1144.6 768.449,1143.38 770.355,1142.15 \n",
       "  772.262,1140.92 774.168,1139.69 776.075,1138.47 777.982,1137.24 779.888,1136.01 781.795,1134.79 783.701,1133.56 785.608,1132.33 787.514,1131.1 789.421,1129.88 \n",
       "  791.328,1128.65 793.234,1127.42 795.141,1126.19 797.047,1124.97 798.954,1123.74 800.86,1122.51 802.767,1121.28 804.674,1120.06 806.58,1118.83 808.487,1117.6 \n",
       "  810.393,1116.37 812.3,1115.15 814.207,1113.92 816.113,1112.69 818.02,1111.47 819.926,1110.24 821.833,1109.01 823.739,1107.78 825.646,1106.56 827.553,1105.33 \n",
       "  829.459,1104.1 831.366,1102.87 833.272,1101.65 835.179,1100.42 837.085,1099.19 838.992,1097.96 840.899,1096.74 842.805,1095.51 844.712,1094.28 846.618,1093.06 \n",
       "  848.525,1091.83 850.431,1090.6 852.338,1089.37 854.245,1088.15 856.151,1086.92 858.058,1085.69 859.964,1084.46 861.871,1083.24 863.777,1082.01 865.684,1080.78 \n",
       "  867.591,1079.55 869.497,1078.33 871.404,1077.1 873.31,1075.87 875.217,1074.64 877.124,1073.42 879.03,1072.19 880.937,1070.96 882.843,1069.74 884.75,1068.51 \n",
       "  886.656,1067.28 888.563,1066.05 890.47,1064.83 892.376,1063.6 894.283,1062.37 896.189,1061.14 898.096,1059.92 900.002,1058.69 901.909,1057.46 903.816,1056.23 \n",
       "  905.722,1055.01 907.629,1053.78 909.535,1052.55 911.442,1051.32 913.348,1050.1 915.255,1048.87 917.162,1047.64 919.068,1046.42 920.975,1045.19 922.881,1043.96 \n",
       "  924.788,1042.73 926.694,1041.51 928.601,1040.28 930.508,1039.05 932.414,1037.82 934.321,1036.6 936.227,1035.37 938.134,1034.14 940.041,1032.91 941.947,1031.69 \n",
       "  943.854,1030.46 945.76,1029.23 947.667,1028 949.573,1026.78 951.48,1025.55 953.387,1024.32 955.293,1023.1 957.2,1021.87 959.106,1020.64 961.013,1019.41 \n",
       "  962.919,1018.19 964.826,1016.96 966.733,1015.73 968.639,1014.5 970.546,1013.28 972.452,1012.05 974.359,1010.82 976.265,1009.59 978.172,1008.37 980.079,1007.14 \n",
       "  981.985,1005.91 983.892,1004.68 985.798,1003.46 987.705,1002.23 989.611,1001 991.518,999.775 993.425,998.548 995.331,997.32 997.238,996.093 999.144,994.866 \n",
       "  1001.05,993.638 1002.96,992.411 1004.86,991.184 1006.77,989.956 1008.68,988.729 1010.58,987.501 1012.49,986.274 1014.4,985.047 1016.3,983.819 1018.21,982.592 \n",
       "  1020.12,981.365 1022.02,980.137 1023.93,978.91 1025.84,977.683 1027.74,976.455 1029.65,975.228 1031.56,974 1033.46,972.773 1035.37,971.546 1037.28,970.318 \n",
       "  1039.18,969.091 1041.09,967.864 1043,966.636 1044.9,965.409 1046.81,964.182 1048.72,962.954 1050.62,961.727 1052.53,960.499 1054.44,959.272 1056.34,958.045 \n",
       "  1058.25,956.817 1060.15,955.59 1062.06,954.363 1063.97,953.135 1065.87,951.908 1067.78,950.68 1069.69,949.453 1071.59,948.226 1073.5,946.998 1075.41,945.771 \n",
       "  1077.31,944.544 1079.22,943.316 1081.13,942.089 1083.03,940.862 1084.94,939.634 1086.85,938.407 1088.75,937.179 1090.66,935.952 1092.57,934.725 1094.47,933.497 \n",
       "  1096.38,932.27 1098.29,931.043 1100.19,929.815 1102.1,928.588 1104.01,927.361 1105.91,926.133 1107.82,924.906 1109.73,923.678 1111.63,922.451 1113.54,921.224 \n",
       "  1115.45,919.996 1117.35,918.769 1119.26,917.542 1121.17,916.314 1123.07,915.087 1124.98,913.859 1126.88,912.632 1128.79,911.405 1130.7,910.177 1132.6,908.95 \n",
       "  1134.51,907.723 1136.42,906.495 1138.32,905.268 1140.23,904.041 1142.14,902.813 1144.04,901.586 1145.95,900.358 1147.86,899.131 1149.76,897.904 1151.67,896.676 \n",
       "  1153.58,895.449 1155.48,894.222 1157.39,892.994 1159.3,891.767 1161.2,890.54 1163.11,889.312 1165.02,888.085 1166.92,886.857 1168.83,885.63 1170.74,884.403 \n",
       "  1172.64,883.175 1174.55,881.948 1176.46,880.721 1178.36,879.493 1180.27,878.266 1182.18,877.038 1184.08,875.811 1185.99,874.584 1187.9,873.356 1189.8,872.129 \n",
       "  1191.71,870.902 1193.62,869.674 1195.52,868.447 1197.43,867.22 1199.33,865.992 1201.24,864.765 1203.15,863.537 1205.05,862.31 1206.96,861.083 1208.87,859.855 \n",
       "  1210.77,858.628 1212.68,857.401 1214.59,856.173 1216.49,854.946 1218.4,853.719 1220.31,852.491 1222.21,851.264 1224.12,850.036 1226.03,848.809 1227.93,847.582 \n",
       "  1229.84,846.354 1231.75,845.127 1233.65,843.9 1235.56,842.672 1237.47,841.445 1239.37,840.217 1241.28,838.99 1243.19,837.763 1245.09,836.535 1247,835.308 \n",
       "  1248.91,834.081 1250.81,832.853 1252.72,831.626 1254.63,830.399 1256.53,829.171 1258.44,827.944 1260.35,826.716 1262.25,825.489 1264.16,824.262 1266.06,823.034 \n",
       "  1267.97,821.807 1269.88,820.58 1271.78,819.352 1273.69,818.125 1275.6,816.898 1277.5,815.67 1279.41,814.443 1281.32,813.215 1283.22,811.988 1285.13,810.761 \n",
       "  1287.04,809.533 1288.94,808.306 1290.85,807.079 1292.76,805.851 1294.66,804.624 1296.57,803.396 1298.48,802.169 1300.38,800.942 1302.29,799.714 1304.2,798.487 \n",
       "  1306.1,797.26 1308.01,796.032 1309.92,794.805 1311.82,793.578 1313.73,792.35 1315.64,791.123 1317.54,789.895 1319.45,788.668 1321.36,787.441 1323.26,786.213 \n",
       "  1325.17,784.986 1327.08,783.759 1328.98,782.531 1330.89,781.304 1332.8,780.077 1334.7,778.849 1336.61,777.622 1338.51,776.394 1340.42,775.167 1342.33,773.94 \n",
       "  1344.23,772.712 1346.14,771.485 1348.05,770.258 1349.95,769.03 1351.86,767.803 1353.77,766.575 1355.67,765.348 1357.58,764.121 1359.49,762.893 1361.39,761.666 \n",
       "  1363.3,760.439 1365.21,759.211 1367.11,757.984 1369.02,756.757 1370.93,755.529 1372.83,754.302 1374.74,753.074 1376.65,751.847 1378.55,750.62 1380.46,749.392 \n",
       "  1382.37,748.165 1384.27,746.938 1386.18,745.71 1388.09,744.483 1389.99,743.255 1391.9,742.028 1393.81,740.801 1395.71,739.573 1397.62,738.346 1399.53,737.119 \n",
       "  1401.43,735.891 1403.34,734.664 1405.24,733.437 1407.15,732.209 1409.06,730.982 1410.96,729.754 1412.87,728.527 1414.78,727.3 1416.68,726.072 1418.59,724.845 \n",
       "  1420.5,723.618 1422.4,722.39 1424.31,721.163 1426.22,719.936 1428.12,718.708 1430.03,717.481 1431.94,716.253 1433.84,715.026 1435.75,713.799 1437.66,712.571 \n",
       "  1439.56,711.344 1441.47,710.117 1443.38,708.889 1445.28,707.662 1447.19,706.434 1449.1,705.207 1451,703.98 1452.91,702.752 1454.82,701.525 1456.72,700.298 \n",
       "  1458.63,699.07 1460.54,697.843 1462.44,696.616 1464.35,695.388 1466.26,694.161 1468.16,692.933 1470.07,691.706 1471.98,690.479 1473.88,689.251 1475.79,688.024 \n",
       "  1477.69,686.797 1479.6,685.569 1481.51,684.342 1483.41,683.115 1485.32,681.887 1487.23,680.66 1489.13,679.432 1491.04,678.205 1492.95,676.978 1494.85,675.75 \n",
       "  1496.76,674.523 1498.67,673.296 1500.57,672.068 1502.48,670.841 1504.39,669.613 1506.29,668.386 1508.2,667.159 1510.11,665.931 1512.01,664.704 1513.92,663.477 \n",
       "  1515.83,662.249 1517.73,661.022 1519.64,659.795 1521.55,658.567 1523.45,657.34 1525.36,656.112 1527.27,654.885 1529.17,653.658 1531.08,652.43 1532.99,651.203 \n",
       "  1534.89,649.976 1536.8,648.748 1538.71,647.521 1540.61,646.294 1542.52,645.066 1544.43,643.839 1546.33,642.611 1548.24,641.384 1550.14,640.157 1552.05,638.929 \n",
       "  1553.96,637.702 1555.86,636.475 1557.77,635.247 1559.68,634.02 1561.58,632.792 1563.49,631.565 1565.4,630.338 1567.3,629.11 1569.21,627.883 1571.12,626.656 \n",
       "  1573.02,625.428 1574.93,624.201 1576.84,622.974 1578.74,621.746 1580.65,620.519 1582.56,619.291 1584.46,618.064 1586.37,616.837 1588.28,615.609 1590.18,614.382 \n",
       "  1592.09,613.155 1594,611.927 1595.9,610.7 1597.81,609.473 1599.72,608.245 1601.62,607.018 1603.53,605.79 1605.44,604.563 1607.34,603.336 1609.25,602.108 \n",
       "  1611.16,600.881 1613.06,599.654 1614.97,598.426 1616.87,597.199 1618.78,595.971 1620.69,594.744 1622.59,593.517 1624.5,592.289 1626.41,591.062 1628.31,589.835 \n",
       "  1630.22,588.607 1632.13,587.38 1634.03,586.153 1635.94,584.925 1637.85,583.698 1639.75,582.47 1641.66,581.243 1643.57,580.016 1645.47,578.788 1647.38,577.561 \n",
       "  1649.29,576.334 1651.19,575.106 1653.1,573.879 1655.01,572.652 1656.91,571.424 1658.82,570.197 1660.73,568.969 1662.63,567.742 1664.54,566.515 1666.45,565.287 \n",
       "  1668.35,564.06 1670.26,562.833 1672.17,561.605 1674.07,560.378 1675.98,559.15 1677.89,557.923 1679.79,556.696 1681.7,555.468 1683.61,554.241 1685.51,553.014 \n",
       "  1687.42,551.786 1689.32,550.559 1691.23,549.332 1693.14,548.104 1695.04,546.877 1696.95,545.649 1698.86,544.422 1700.76,543.195 1702.67,541.967 1704.58,540.74 \n",
       "  1706.48,539.513 1708.39,538.285 1710.3,537.058 1712.2,535.831 1714.11,534.603 1716.02,533.376 1717.92,532.148 1719.83,530.921 1721.74,529.694 1723.64,528.466 \n",
       "  1725.55,527.239 1727.46,526.012 1729.36,524.784 1731.27,523.557 1733.18,522.329 1735.08,521.102 1736.99,519.875 1738.9,518.647 1740.8,517.42 1742.71,516.193 \n",
       "  1744.62,514.965 1746.52,513.738 1748.43,512.511 1750.34,511.283 1752.24,510.056 1754.15,508.828 1756.05,507.601 1757.96,506.374 1759.87,505.146 1761.77,503.919 \n",
       "  1763.68,502.692 1765.59,501.464 1767.49,500.237 1769.4,499.01 1771.31,497.782 1773.21,496.555 1775.12,495.327 1777.03,494.1 1778.93,492.873 1780.84,491.645 \n",
       "  1782.75,490.418 1784.65,489.191 1786.56,487.963 1788.47,486.736 1790.37,485.508 1792.28,484.281 1794.19,483.054 1796.09,481.826 1798,480.599 1799.91,479.372 \n",
       "  1801.81,478.144 1803.72,476.917 1805.63,475.69 1807.53,474.462 1809.44,473.235 1811.35,472.007 1813.25,470.78 1815.16,469.553 1817.07,468.325 1818.97,467.098 \n",
       "  1820.88,465.871 1822.79,464.643 1824.69,463.416 1826.6,462.189 1828.5,460.961 1830.41,459.734 1832.32,458.506 1834.22,457.279 1836.13,456.052 1838.04,454.824 \n",
       "  1839.94,453.597 1841.85,452.37 1843.76,451.142 1845.66,449.915 1847.57,448.687 1849.48,447.46 1851.38,446.233 1853.29,445.005 1855.2,443.778 1857.1,442.551 \n",
       "  1859.01,441.323 1860.92,440.096 1862.82,438.869 1864.73,437.641 1866.64,436.414 1868.54,435.186 1870.45,433.959 1872.36,432.732 1874.26,431.504 1876.17,430.277 \n",
       "  1878.08,429.05 1879.98,427.822 1881.89,426.595 1883.8,425.368 1885.7,424.14 1887.61,422.913 1889.52,421.685 1891.42,420.458 1893.33,419.231 1895.23,418.003 \n",
       "  1897.14,416.776 1899.05,415.549 1900.95,414.321 1902.86,413.094 1904.77,411.866 1906.67,410.639 1908.58,409.412 1910.49,408.184 1912.39,406.957 1914.3,405.73 \n",
       "  1916.21,404.502 1918.11,403.275 1920.02,402.048 1921.93,400.82 1923.83,399.593 1925.74,398.365 1927.65,397.138 1929.55,395.911 1931.46,394.683 1933.37,393.456 \n",
       "  1935.27,392.229 1937.18,391.001 1939.09,389.774 1940.99,388.547 1942.9,387.319 1944.81,386.092 1946.71,384.864 1948.62,383.637 1950.53,382.41 1952.43,381.182 \n",
       "  1954.34,379.955 1956.25,378.728 1958.15,377.5 1960.06,376.273 1961.97,375.045 1963.87,373.818 1965.78,372.591 1967.68,371.363 1969.59,370.136 1971.5,368.909 \n",
       "  1973.4,367.681 1975.31,366.454 1977.22,365.227 1979.12,363.999 1981.03,362.772 1982.94,361.544 1984.84,360.317 1986.75,359.09 1988.66,357.862 1990.56,356.635 \n",
       "  1992.47,355.408 1994.38,354.18 1996.28,352.953 1998.19,351.726 2000.1,350.498 2002,349.271 2003.91,348.043 2005.82,346.816 2007.72,345.589 2009.63,344.361 \n",
       "  2011.54,343.134 2013.44,341.907 2015.35,340.679 2017.26,339.452 2019.16,338.224 2021.07,336.997 2022.98,335.77 2024.88,334.542 2026.79,333.315 2028.7,332.088 \n",
       "  2030.6,330.86 2032.51,329.633 2034.41,328.406 2036.32,327.178 2038.23,325.951 2040.13,324.723 2042.04,323.496 2043.95,322.269 2045.85,321.041 2047.76,319.814 \n",
       "  2049.67,318.587 2051.57,317.359 2053.48,316.132 2055.39,314.905 2057.29,313.677 2059.2,312.45 2061.11,311.222 2063.01,309.995 2064.92,308.768 2066.83,307.54 \n",
       "  2068.73,306.313 2070.64,305.086 2072.55,303.858 2074.45,302.631 2076.36,301.403 2078.27,300.176 2080.17,298.949 2082.08,297.721 2083.99,296.494 2085.89,295.267 \n",
       "  2087.8,294.039 2089.71,292.812 2091.61,291.585 2093.52,290.357 2095.43,289.13 2097.33,287.902 2099.24,286.675 2101.15,285.448 2103.05,284.22 2104.96,282.993 \n",
       "  2106.86,281.766 2108.77,280.538 2110.68,279.311 2112.58,278.084 2114.49,276.856 2116.4,275.629 2118.3,274.401 2120.21,273.174 2122.12,271.947 2124.02,270.719 \n",
       "  2125.93,269.492 2127.84,268.265 2129.74,267.037 2131.65,265.81 2133.56,264.582 2135.46,263.355 2137.37,262.128 2139.28,260.9 2141.18,259.673 2143.09,258.446 \n",
       "  2145,257.218 2146.9,255.991 2148.81,254.764 2150.72,253.536 2152.62,252.309 2154.53,251.081 2156.44,249.854 2158.34,248.627 2160.25,247.399 2162.16,246.172 \n",
       "  2164.06,244.945 2165.97,243.717 2167.88,242.49 2169.78,241.263 2171.69,240.035 2173.59,238.808 2175.5,237.58 2177.41,236.353 2179.31,235.126 2181.22,233.898 \n",
       "  2183.13,232.671 2185.03,231.444 2186.94,230.216 2188.85,228.989 2190.75,227.761 2192.66,226.534 2194.57,225.307 2196.47,224.079 2198.38,222.852 2200.29,221.625 \n",
       "  2202.19,220.397 2204.1,219.17 2206.01,217.943 2207.91,216.715 2209.82,215.488 2211.73,214.26 2213.63,213.033 2215.54,211.806 2217.45,210.578 2219.35,209.351 \n",
       "  2221.26,208.124 2223.17,206.896 2225.07,205.669 2226.98,204.442 2228.89,203.214 2230.79,201.987 2232.7,200.759 2234.61,199.532 2236.51,198.305 2238.42,197.077 \n",
       "  2240.33,195.85 2242.23,194.623 2244.14,193.395 2246.04,192.168 2247.95,190.94 2249.86,189.713 2251.76,188.486 2253.67,187.258 2255.58,186.031 2257.48,184.804 \n",
       "  2259.39,183.576 2261.3,182.349 2263.2,181.122 2265.11,179.894 2267.02,178.667 2268.92,177.439 2270.83,176.212 2272.74,174.985 2274.64,173.757 2276.55,172.53 \n",
       "  2278.46,171.303 2280.36,170.075 2282.27,168.848 2284.18,167.621 2286.08,166.393 2287.99,165.166 2289.9,163.938 2291.8,162.711 2293.71,161.484 2295.62,160.256 \n",
       "  \n",
       "  \"/>\n",
       "</svg>\n"
      ]
     },
     "execution_count": 29,
     "metadata": {},
     "output_type": "execute_result"
    }
   ],
   "source": [
    "P =collect(1:1:10^3) * mW\n",
    "NP = n_photons.((405nm,), P )\n",
    "plot(P./mW, NP./Hz, leg=false,lw=2)\n",
    "xlabel!(\"P (mW)\")\n",
    "ylabel!(\"number of photons (Hz)\")\n",
    "title!(\"Number of photons as a function of P\")"
   ]
  },
  {
   "cell_type": "markdown",
   "metadata": {},
   "source": [
    "## Samples"
   ]
  },
  {
   "cell_type": "markdown",
   "metadata": {},
   "source": [
    "### Solution"
   ]
  },
  {
   "cell_type": "code",
   "execution_count": 30,
   "metadata": {},
   "outputs": [],
   "source": [
    "struct Solution\n",
    "    name::String\n",
    "    c::typeof(1.0mol/L) # concentration\n",
    "end"
   ]
  },
  {
   "cell_type": "code",
   "execution_count": 31,
   "metadata": {},
   "outputs": [
    {
     "data": {
      "text/plain": [
       "Solution(\"FBI-Standard-Solution\", 5.0e-5 mol L⁻¹)"
      ]
     },
     "execution_count": 31,
     "metadata": {},
     "output_type": "execute_result"
    }
   ],
   "source": [
    "sfbi = Solution(\"FBI-Standard-Solution\", 5e-5mol/L)"
   ]
  },
  {
   "cell_type": "code",
   "execution_count": 33,
   "metadata": {},
   "outputs": [
    {
     "data": {
      "text/plain": [
       "\u001b[32m\u001b[1mTest Passed\u001b[22m\u001b[39m"
      ]
     },
     "execution_count": 33,
     "metadata": {},
     "output_type": "execute_result"
    }
   ],
   "source": [
    "@test sfbi.name==\"FBI-Standard-Solution\""
   ]
  },
  {
   "cell_type": "code",
   "execution_count": 34,
   "metadata": {},
   "outputs": [
    {
     "data": {
      "text/plain": [
       "\u001b[32m\u001b[1mTest Passed\u001b[22m\u001b[39m"
      ]
     },
     "execution_count": 34,
     "metadata": {},
     "output_type": "execute_result"
    }
   ],
   "source": [
    "@test sfbi.c == 5e-5mol/L"
   ]
  },
  {
   "cell_type": "code",
   "execution_count": 35,
   "metadata": {},
   "outputs": [
    {
     "data": {
      "text/plain": [
       "Solution(\"FBIBa-Standard-Solution\", 5.0e-5 mol L⁻¹)"
      ]
     },
     "execution_count": 35,
     "metadata": {},
     "output_type": "execute_result"
    }
   ],
   "source": [
    "sfbiba = Solution(\"FBIBa-Standard-Solution\", 5e-5mol/L)"
   ]
  },
  {
   "cell_type": "markdown",
   "metadata": {},
   "source": [
    "### Powder"
   ]
  },
  {
   "cell_type": "code",
   "execution_count": 37,
   "metadata": {},
   "outputs": [],
   "source": [
    "struct Powder\n",
    "    name::String\n",
    "    cs::typeof(1.0mmol/mg) # concentration to substrate\n",
    "    rs::typeof(1.0mg/cm^2) # concentration per area\n",
    "end"
   ]
  },
  {
   "cell_type": "code",
   "execution_count": 38,
   "metadata": {},
   "outputs": [
    {
     "data": {
      "text/plain": [
       "Powder(\"FBI-Standard\", 2.25e-5 mmol mg⁻¹, 50.0 mg cm⁻²)"
      ]
     },
     "execution_count": 38,
     "metadata": {},
     "output_type": "execute_result"
    }
   ],
   "source": [
    "pfbi = Powder(\"FBI-Standard\", 2.25e-5mmol/mg, 50mg/cm^2)"
   ]
  },
  {
   "cell_type": "code",
   "execution_count": 39,
   "metadata": {},
   "outputs": [
    {
     "data": {
      "text/plain": [
       "Powder(\"FBIBa-Standard\", 7.38e-8 mmol mg⁻¹, 50.0 mg cm⁻²)"
      ]
     },
     "execution_count": 39,
     "metadata": {},
     "output_type": "execute_result"
    }
   ],
   "source": [
    "pfbiba = Powder(\"FBIBa-Standard\", 7.38e-8mmol/mg, 50mg/cm^2)"
   ]
  },
  {
   "cell_type": "code",
   "execution_count": 40,
   "metadata": {},
   "outputs": [
    {
     "data": {
      "text/plain": [
       "Powder(\"FBI-Homeopatic\", 7.4e-15 mmol mg⁻¹, 50.0 mg cm⁻²)"
      ]
     },
     "execution_count": 40,
     "metadata": {},
     "output_type": "execute_result"
    }
   ],
   "source": [
    "hpfbi = Powder(\"FBI-Homeopatic\", 7.4e-15mmol/mg, 50mg/cm^2)"
   ]
  },
  {
   "cell_type": "markdown",
   "metadata": {},
   "source": [
    "### Molecule"
   ]
  },
  {
   "cell_type": "code",
   "execution_count": 43,
   "metadata": {},
   "outputs": [
    {
     "ename": "LoadError",
     "evalue": "\u001b[91minvalid redefinition of constant Molecule\u001b[39m",
     "output_type": "error",
     "traceback": [
      "\u001b[91minvalid redefinition of constant Molecule\u001b[39m",
      "",
      "Stacktrace:",
      " [1] top-level scope at In[43]:2",
      " [2] include_string(::Function, ::Module, ::String, ::String) at ./loading.jl:1091"
     ]
    }
   ],
   "source": [
    "struct Molecule\n",
    "        name::String\n",
    "        ex::typeof(1.0nm) # peak excitation\n",
    "        en::typeof(1.0nm) # peak emission\n",
    "        ϵ::typeof(1.0mg/(mol*cm)) # molar extinction coefficient\n",
    "        Q::Float64 # Quantum efficiency\n",
    "end"
   ]
  },
  {
   "cell_type": "code",
   "execution_count": null,
   "metadata": {},
   "outputs": [],
   "source": [
    "qdot525 = Molecule(\"Qdot525\",)"
   ]
  },
  {
   "cell_type": "markdown",
   "metadata": {},
   "source": [
    "Solution : FBI/FBI-Ba: 5 x 10^-5 mol/L\n",
    "Powder   : FBI: 2.25 x 10^-5 mmol/mg  --> 50 mg/cm2\n",
    "         : FBI-BA: 7.38 x 10^-8 mm/mg\n",
    "         : Ba: 5.85 x 10^-5 mm/mg\n",
    "PELLETS  : FBI-- 7.4 x 10^-8 mm/mg ---> 36.74 mg: D = 10 mm\n",
    "         : Homeopatic: 7.4 x 10^-15 mm/mg ---> 36.74 mg: D = 10 mm"
   ]
  },
  {
   "cell_type": "code",
   "execution_count": null,
   "metadata": {},
   "outputs": [],
   "source": []
  },
  {
   "cell_type": "code",
   "execution_count": null,
   "metadata": {},
   "outputs": [],
   "source": []
  },
  {
   "cell_type": "code",
   "execution_count": null,
   "metadata": {},
   "outputs": [],
   "source": []
  },
  {
   "cell_type": "code",
   "execution_count": null,
   "metadata": {},
   "outputs": [],
   "source": []
  }
 ],
 "metadata": {
  "kernelspec": {
   "display_name": "Julia 1.5.3",
   "language": "julia",
   "name": "julia-1.5"
  },
  "language_info": {
   "file_extension": ".jl",
   "mimetype": "application/julia",
   "name": "julia",
   "version": "1.5.3"
  }
 },
 "nbformat": 4,
 "nbformat_minor": 4
}
